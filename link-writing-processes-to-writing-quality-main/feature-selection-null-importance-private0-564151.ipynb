{
 "cells": [
  {
   "cell_type": "code",
   "execution_count": 1,
   "id": "599124d1",
   "metadata": {
    "_cell_guid": "b1076dfc-b9ad-4769-8c92-a6c4dae69d19",
    "_uuid": "8f2839f25d086af736a60e9eeb907d3b93b6e0e5",
    "execution": {
     "iopub.execute_input": "2024-01-06T04:44:46.900623Z",
     "iopub.status.busy": "2024-01-06T04:44:46.899743Z",
     "iopub.status.idle": "2024-01-06T04:44:52.858008Z",
     "shell.execute_reply": "2024-01-06T04:44:52.856817Z"
    },
    "papermill": {
     "duration": 5.971911,
     "end_time": "2024-01-06T04:44:52.861640",
     "exception": false,
     "start_time": "2024-01-06T04:44:46.889729",
     "status": "completed"
    },
    "tags": []
   },
   "outputs": [],
   "source": [
    "%matplotlib inline\n",
    "import gc\n",
    "import os\n",
    "import itertools\n",
    "import pickle\n",
    "import re\n",
    "import time\n",
    "from random import choice, choices\n",
    "from functools import reduce\n",
    "from tqdm import tqdm\n",
    "from itertools import cycle\n",
    "import numpy as np\n",
    "import pandas as pd\n",
    "import polars as pl\n",
    "import seaborn as sns\n",
    "import matplotlib.pyplot as plt\n",
    "from collections import Counter\n",
    "from functools import reduce\n",
    "from itertools import cycle\n",
    "\n",
    "from scipy import stats\n",
    "from scipy.stats import skew, kurtosis\n",
    "from sklearn import metrics, model_selection, preprocessing, linear_model, ensemble, decomposition, tree\n",
    "from sklearn.metrics import mean_squared_error\n",
    "import lightgbm as lgb\n",
    "from lightgbm import LGBMRegressor\n",
    "import lightgbm\n",
    "\n",
    "import copy\n",
    "from sklearn.model_selection import StratifiedKFold\n",
    "from sklearn.feature_extraction.text import CountVectorizer,TfidfVectorizer\n",
    "import random\n",
    "from itertools import combinations  \n",
    "from scipy.stats import skew\n",
    "import copy\n",
    "from joblib import dump, load\n",
    "import joblib\n",
    "from sklearn.decomposition import PCA\n",
    "import warnings  \n",
    "import pickle\n",
    "from collections import defaultdict\n",
    "from sklearn.pipeline import Pipeline\n",
    "from sklearn.feature_extraction.text import TfidfTransformer\n",
    "from sklearn.feature_extraction.text import CountVectorizer\n",
    "import optuna\n",
    "from nltk.tokenize import word_tokenize\n",
    "\n",
    "warnings.filterwarnings(\"ignore\")"
   ]
  },
  {
   "cell_type": "code",
   "execution_count": 2,
   "id": "9d71266d",
   "metadata": {
    "execution": {
     "iopub.execute_input": "2024-01-06T04:44:52.888568Z",
     "iopub.status.busy": "2024-01-06T04:44:52.886224Z",
     "iopub.status.idle": "2024-01-06T04:44:52.895326Z",
     "shell.execute_reply": "2024-01-06T04:44:52.894048Z"
    },
    "papermill": {
     "duration": 0.024991,
     "end_time": "2024-01-06T04:44:52.899069",
     "exception": false,
     "start_time": "2024-01-06T04:44:52.874078",
     "status": "completed"
    },
    "tags": []
   },
   "outputs": [],
   "source": [
    "os.mkdir('feature_selection/')\n",
    "os.mkdir('results')"
   ]
  },
  {
   "cell_type": "code",
   "execution_count": 3,
   "id": "66514008",
   "metadata": {
    "execution": {
     "iopub.execute_input": "2024-01-06T04:44:52.917233Z",
     "iopub.status.busy": "2024-01-06T04:44:52.916829Z",
     "iopub.status.idle": "2024-01-06T04:44:53.230890Z",
     "shell.execute_reply": "2024-01-06T04:44:53.229890Z"
    },
    "papermill": {
     "duration": 0.325976,
     "end_time": "2024-01-06T04:44:53.233442",
     "exception": false,
     "start_time": "2024-01-06T04:44:52.907466",
     "status": "completed"
    },
    "tags": []
   },
   "outputs": [],
   "source": [
    "train_essays = pd.read_csv('../input/writing-quality-challenge-constructed-essays/train_essays_02.csv')\n",
    "train_essays.index = train_essays[\"Unnamed: 0\"]\n",
    "train_essays.index.name = None\n",
    "train_essays.drop(columns=[\"Unnamed: 0\"], inplace=True)\n",
    "train_essays_with_upper = pd.read_csv('/kaggle/input/essays-generator-with-upper/essays_with_upper.csv') \n",
    "train_essays_with_upper.index = train_essays_with_upper[\"Unnamed: 0\"]\n",
    "train_essays_with_upper.index.name = None\n",
    "train_essays_with_upper.drop(columns=[\"Unnamed: 0\"], inplace=True)"
   ]
  },
  {
   "cell_type": "markdown",
   "id": "f4fe5817",
   "metadata": {
    "papermill": {
     "duration": 0.010779,
     "end_time": "2024-01-06T04:44:53.252168",
     "exception": false,
     "start_time": "2024-01-06T04:44:53.241389",
     "status": "completed"
    },
    "tags": []
   },
   "source": [
    "## Helper function"
   ]
  },
  {
   "cell_type": "code",
   "execution_count": 4,
   "id": "ea80ad98",
   "metadata": {
    "execution": {
     "iopub.execute_input": "2024-01-06T04:44:53.275909Z",
     "iopub.status.busy": "2024-01-06T04:44:53.274929Z",
     "iopub.status.idle": "2024-01-06T04:44:53.304284Z",
     "shell.execute_reply": "2024-01-06T04:44:53.303422Z"
    },
    "papermill": {
     "duration": 0.043507,
     "end_time": "2024-01-06T04:44:53.306773",
     "exception": false,
     "start_time": "2024-01-06T04:44:53.263266",
     "status": "completed"
    },
    "tags": []
   },
   "outputs": [],
   "source": [
    "#essay生成：普通版本和带大写版本\n",
    "class EssayConstructor:\n",
    "    \n",
    "    def processingInputs(self,currTextInput):\n",
    "        # Where the essay content will be stored\n",
    "        essayText = \"\"\n",
    "        # Produces the essay\n",
    "        for Input in currTextInput.values:\n",
    "            # Input[0] = activity\n",
    "            # Input[1] = cursor_position\n",
    "            # Input[2] = text_change\n",
    "            # Input[3] = id\n",
    "            # If activity = Replace\n",
    "            if Input[0] == 'Replace':\n",
    "                # splits text_change at ' => '\n",
    "                replaceTxt = Input[2].split(' => ')\n",
    "                # DONT TOUCH\n",
    "                essayText = essayText[:Input[1] - len(replaceTxt[1])] + replaceTxt[1] + essayText[Input[1] - len(replaceTxt[1]) + len(replaceTxt[0]):]\n",
    "                continue\n",
    "\n",
    "            # If activity = Paste    \n",
    "            if Input[0] == 'Paste':\n",
    "                # DONT TOUCH\n",
    "                essayText = essayText[:Input[1] - len(Input[2])] + Input[2] + essayText[Input[1] - len(Input[2]):]\n",
    "                continue\n",
    "\n",
    "            # If activity = Remove/Cut\n",
    "            if Input[0] == 'Remove/Cut':\n",
    "                # DONT TOUCH\n",
    "                essayText = essayText[:Input[1]] + essayText[Input[1] + len(Input[2]):]\n",
    "                continue\n",
    "\n",
    "            # If activity = Move...\n",
    "            if \"M\" in Input[0]:\n",
    "                # Gets rid of the \"Move from to\" text\n",
    "                croppedTxt = Input[0][10:]              \n",
    "                # Splits cropped text by ' To '\n",
    "                splitTxt = croppedTxt.split(' To ')              \n",
    "                # Splits split text again by ', ' for each item\n",
    "                valueArr = [item.split(', ') for item in splitTxt]              \n",
    "                # Move from [2, 4] To [5, 7] = (2, 4, 5, 7)\n",
    "                moveData = (int(valueArr[0][0][1:]), int(valueArr[0][1][:-1]), int(valueArr[1][0][1:]), int(valueArr[1][1][:-1]))\n",
    "                # Skip if someone manages to activiate this by moving to same place\n",
    "                if moveData[0] != moveData[2]:\n",
    "                    # Check if they move text forward in essay (they are different)\n",
    "                    if moveData[0] < moveData[2]:\n",
    "                        # DONT TOUCH\n",
    "                        essayText = essayText[:moveData[0]] + essayText[moveData[1]:moveData[3]] + essayText[moveData[0]:moveData[1]] + essayText[moveData[3]:]\n",
    "                    else:\n",
    "                        # DONT TOUCH\n",
    "                        essayText = essayText[:moveData[2]] + essayText[moveData[0]:moveData[1]] + essayText[moveData[2]:moveData[0]] + essayText[moveData[1]:]\n",
    "                continue                \n",
    "                \n",
    "            # If activity = input\n",
    "            # DONT TOUCH\n",
    "            essayText = essayText[:Input[1] - len(Input[2])] + Input[2] + essayText[Input[1] - len(Input[2]):]\n",
    "        return essayText\n",
    "            \n",
    "            \n",
    "    def getEssays(self,df):\n",
    "        # Copy required columns\n",
    "        textInputDf = copy.deepcopy(df[['id', 'activity', 'cursor_position', 'text_change']])\n",
    "        # Get rid of text inputs that make no change\n",
    "        textInputDf = textInputDf[textInputDf.activity != 'Nonproduction']     \n",
    "        # construct essay, fast \n",
    "        tqdm.pandas()\n",
    "        essay=textInputDf.groupby('id')[['activity','cursor_position', 'text_change']].progress_apply(lambda x: self.processingInputs(x))      \n",
    "        # to dataframe\n",
    "        essayFrame=essay.to_frame().reset_index()\n",
    "        essayFrame.columns=['id','essay']\n",
    "        # Returns the essay series\n",
    "        return essayFrame\n",
    "\n",
    "def getEssays_with_upper(df):\n",
    "    df['down_event_shift'] = df.groupby('id')['down_event'].shift(1)\n",
    "    textInputDf = df[['id', 'activity', 'cursor_position', 'text_change','down_event','down_event_shift']]\n",
    "    valCountsArr = textInputDf['id'].value_counts(sort=False).values\n",
    "    lastIndex = 0\n",
    "    essaySeries = pd.Series()\n",
    "    for index, valCount in enumerate(tqdm(valCountsArr)):\n",
    "        capital = False\n",
    "        currTextInput = textInputDf[['activity', 'cursor_position', 'text_change','down_event','down_event_shift']].iloc[lastIndex : lastIndex + valCount]\n",
    "        lastIndex += valCount\n",
    "        essayText = \"\"\n",
    "        for Input in currTextInput.values:\n",
    "            if Input[3] == 'CapsLock':\n",
    "                capital = not capital\n",
    "            if Input[0] == 'Nonproduction':\n",
    "                continue\n",
    "            if Input[0] != 'Nonproduction':\n",
    "                if (Input[0] == 'Replace')&(Input[4] == 'Shift'):\n",
    "                    replaceTxt = Input[2].split(' => ')\n",
    "                    essayText = essayText[:Input[1] - len(replaceTxt[1])] + (replaceTxt[1]).upper() +\\\n",
    "                    essayText[Input[1] - len(replaceTxt[1]) + len(replaceTxt[0]):]\n",
    "                    continue\n",
    "                    \n",
    "                if Input[0] == 'Replace':\n",
    "                    replaceTxt = Input[2].split(' => ')\n",
    "                    essayText = essayText[:Input[1] - len(replaceTxt[1])] + replaceTxt[1] +\\\n",
    "                    essayText[Input[1] - len(replaceTxt[1]) + len(replaceTxt[0]):]\n",
    "                    continue\n",
    "                    \n",
    "                if Input[0] == 'Paste':\n",
    "                    essayText = essayText[:Input[1] - len(Input[2])] + Input[2] + essayText[Input[1] - len(Input[2]):]\n",
    "                    continue\n",
    "                if Input[0] == 'Remove/Cut':\n",
    "                    essayText = essayText[:Input[1]] + essayText[Input[1] + len(Input[2]):]\n",
    "                    continue\n",
    "                if \"M\" in Input[0]:\n",
    "                    croppedTxt = Input[0][10:]\n",
    "                    splitTxt = croppedTxt.split(' To ')\n",
    "                    valueArr = [item.split(', ') for item in splitTxt]\n",
    "                    moveData = (int(valueArr[0][0][1:]), \n",
    "                                int(valueArr[0][1][:-1]), \n",
    "                                int(valueArr[1][0][1:]), \n",
    "                                int(valueArr[1][1][:-1]))\n",
    "                    if moveData[0] != moveData[2]:\n",
    "                        if moveData[0] < moveData[2]:\n",
    "                            essayText = essayText[:moveData[0]] + essayText[moveData[1]:moveData[3]] +\\\n",
    "                            essayText[moveData[0]:moveData[1]] + essayText[moveData[3]:]\n",
    "                        else:\n",
    "                            essayText = essayText[:moveData[2]] + essayText[moveData[0]:moveData[1]] +\\\n",
    "                            essayText[moveData[2]:moveData[0]] + essayText[moveData[1]:]\n",
    "                    continue\n",
    "                if capital|((Input[4]=='Shift')&(Input[3]=='q')):\n",
    "                    essayText = essayText[:Input[1] - len(Input[2])] + Input[2].upper() + essayText[Input[1] - len(Input[2]):]\n",
    "                else:\n",
    "                    essayText = essayText[:Input[1] - len(Input[2])] + Input[2] + essayText[Input[1] - len(Input[2]):]\n",
    "        essaySeries[index] = essayText\n",
    "    essaySeries.index =  textInputDf['id'].unique()\n",
    "    return pd.DataFrame(essaySeries, columns=['essay'])"
   ]
  },
  {
   "cell_type": "markdown",
   "id": "28acbcd5",
   "metadata": {
    "papermill": {
     "duration": 0.00735,
     "end_time": "2024-01-06T04:44:53.321998",
     "exception": false,
     "start_time": "2024-01-06T04:44:53.314648",
     "status": "completed"
    },
    "tags": []
   },
   "source": [
    "## Feature Engineering"
   ]
  },
  {
   "cell_type": "code",
   "execution_count": 5,
   "id": "e24df546",
   "metadata": {
    "execution": {
     "iopub.execute_input": "2024-01-06T04:44:53.342022Z",
     "iopub.status.busy": "2024-01-06T04:44:53.341096Z",
     "iopub.status.idle": "2024-01-06T04:44:53.346864Z",
     "shell.execute_reply": "2024-01-06T04:44:53.345872Z"
    },
    "papermill": {
     "duration": 0.019101,
     "end_time": "2024-01-06T04:44:53.349309",
     "exception": false,
     "start_time": "2024-01-06T04:44:53.330208",
     "status": "completed"
    },
    "tags": []
   },
   "outputs": [],
   "source": [
    "#两个分位数\n",
    "def q1(x):\n",
    "    return x.quantile(0.25)\n",
    "def q3(x):\n",
    "    return x.quantile(0.75)"
   ]
  },
  {
   "cell_type": "code",
   "execution_count": 6,
   "id": "b90d14fa",
   "metadata": {
    "execution": {
     "iopub.execute_input": "2024-01-06T04:44:53.367041Z",
     "iopub.status.busy": "2024-01-06T04:44:53.366610Z",
     "iopub.status.idle": "2024-01-06T04:44:53.373086Z",
     "shell.execute_reply": "2024-01-06T04:44:53.371947Z"
    },
    "papermill": {
     "duration": 0.018333,
     "end_time": "2024-01-06T04:44:53.375417",
     "exception": false,
     "start_time": "2024-01-06T04:44:53.357084",
     "status": "completed"
    },
    "tags": []
   },
   "outputs": [],
   "source": [
    "def calculate_entropy(text):  \n",
    "    # 统计每个字符的出现次数  \n",
    "    char_count = {}  \n",
    "    for char in text:  \n",
    "        if char in char_count:  \n",
    "            char_count[char] += 1  \n",
    "        else:  \n",
    "            char_count[char] = 1  \n",
    "    probabilities = [float(char_count[char]) / len(text) for char in char_count]  \n",
    "    entropy = -sum([p * math.log2(p) for p in probabilities])  \n",
    "    return entropy  "
   ]
  },
  {
   "cell_type": "code",
   "execution_count": 7,
   "id": "4e652e9d",
   "metadata": {
    "execution": {
     "iopub.execute_input": "2024-01-06T04:44:53.395181Z",
     "iopub.status.busy": "2024-01-06T04:44:53.394142Z",
     "iopub.status.idle": "2024-01-06T04:44:53.529726Z",
     "shell.execute_reply": "2024-01-06T04:44:53.528606Z"
    },
    "papermill": {
     "duration": 0.149199,
     "end_time": "2024-01-06T04:44:53.532440",
     "exception": false,
     "start_time": "2024-01-06T04:44:53.383241",
     "status": "completed"
    },
    "tags": []
   },
   "outputs": [],
   "source": [
    "class Preprocessor_v1:\n",
    "    def __init__(self,seed,essays,essays_with_upper,train_scores=None,tokenizer=None,method='train',save_cols=None):\n",
    "        self.seed = seed\n",
    "        self.tokenizer = tokenizer\n",
    "        self.train_scores = train_scores\n",
    "        self.save_cols = save_cols\n",
    "        self.essays = essays\n",
    "        self.essays_with_upper = essays_with_upper\n",
    "        self.method =method \n",
    "        self.activities = ['Input', 'Remove/Cut', 'Nonproduction', 'Replace', 'Paste']\n",
    "        self.events = ['q', 'Space', 'Backspace', 'ArrowRight', 'Leftclick', 'ArrowLeft', '.', ',', \n",
    "              'ArrowDown', 'ArrowUp', 'Enter', 'CapsLock', \"'\", 'Delete', 'Unidentified']\n",
    "        self.text_changes = ['q', ' ', 'NoChange', '.', ',', '\\n', \"'\", '\"', '-', '?', ';', '=', '/', '\\\\', ':']\n",
    "        self.punctuations = ['\"', '.', ',', \"'\", '-', ';', ':', '?', '!', '<', '>', '/','@', '#', '$', '%', '^', '&', '*', '(', ')', '_', '+']\n",
    "        self.gaps = [1, 2, 3, 5, 10, 20, 50, 100]\n",
    "        self.idf = defaultdict(float)\n",
    "        self.text_changes_dict = {\n",
    "            'q': 'q', \n",
    "            ' ': 'space', \n",
    "            'NoChange': 'NoChange', \n",
    "            '.': 'full_stop', \n",
    "            ',': 'comma', \n",
    "            '\\n': 'newline', \n",
    "            \"'\": 'single_quote', \n",
    "            '\"': 'double_quote', \n",
    "            '-': 'dash', \n",
    "            '?': 'question_mark', \n",
    "            ';': 'semicolon', \n",
    "            '=': 'equals', \n",
    "            '/': 'slash', \n",
    "            '\\\\': 'double_backslash', \n",
    "            ':': 'colon'\n",
    "        }\n",
    "        self.AGGREGATIONS =  ['nunique','count', 'mean', 'std', 'min', 'max', 'first', 'last', 'sem', q1, 'median', q3, 'skew', pd.DataFrame.kurt, 'sum']\n",
    "        self.AGGREGATIONS2 = ['nunique', 'mean', 'std', 'min', 'max', 'first', 'last', q1, 'median', q3, 'sum']\n",
    "        self.AGGREGATIONS3 = ['nunique', 'mean', 'std', 'min', 'max', 'first', 'last', q1, 'median', q3, 'sum']\n",
    "        self.AGGREGATIONS4 = ['nunique', 'mean', 'std', 'min', 'max', 'first', 'last', q1, 'median', q3, 'sum']\n",
    "        self.AGGREGATIONS5 = ['nunique', 'mean', 'std', 'min', 'max', 'first', 'last', q1, 'median', q3, 'sum']\n",
    "    def activity_counts(self, df):\n",
    "        tmp_df = df.groupby('id').agg({'activity': list}).reset_index()\n",
    "        ret = list()\n",
    "        for li in tqdm(tmp_df['activity'].values):\n",
    "            items = list(Counter(li).items())\n",
    "            di = dict()\n",
    "            for k in self.activities:\n",
    "                di[k] = 0\n",
    "                \n",
    "            di[\"move_to\"] = 0\n",
    "            for item in items:\n",
    "                k, v = item[0], item[1]\n",
    "                if k in di:\n",
    "                    di[k] = v\n",
    "                else:\n",
    "                    di[\"move_to\"] += v\n",
    "            ret.append(di)\n",
    "        ret = pd.DataFrame(ret)\n",
    "        cols = [f'activity_{i}_count' for i in range(len(ret.columns))]\n",
    "        ret.columns = cols\n",
    "\n",
    "        cnts = ret.sum(1)\n",
    "\n",
    "        for col in cols:\n",
    "            if col in self.idf.keys():\n",
    "                idf = self.idf[col]\n",
    "            else:\n",
    "                idf = df.shape[0] / (ret[col].sum() + 1)\n",
    "                idf = np.log(idf)\n",
    "                self.idf[col] = idf\n",
    "\n",
    "            ret[col] = 1 + np.log(ret[col] / cnts)\n",
    "            ret[col] *= idf\n",
    "\n",
    "        return ret\n",
    "\n",
    "    def event_counts(self, df, colname):\n",
    "        tmp_df = df.groupby('id').agg({colname: list}).reset_index()\n",
    "        ret = list()\n",
    "        for li in tqdm(tmp_df[colname].values):\n",
    "            items = list(Counter(li).items())\n",
    "            di = dict()\n",
    "            for k in self.events:\n",
    "                di[k] = 0\n",
    "            for item in items:\n",
    "                k, v = item[0], item[1]\n",
    "                if k in di:\n",
    "                    di[k] = v\n",
    "            ret.append(di)\n",
    "        ret = pd.DataFrame(ret)\n",
    "        cols = [f'{colname}_{i}_count' for i in range(len(ret.columns))]\n",
    "        ret.columns = cols\n",
    "\n",
    "        cnts = ret.sum(1)\n",
    "\n",
    "        for col in cols:\n",
    "            if col in self.idf.keys():\n",
    "                idf = self.idf[col]\n",
    "            else:\n",
    "                idf = df.shape[0] / (ret[col].sum() + 1)\n",
    "                idf = np.log(idf)\n",
    "                self.idf[col] = idf\n",
    "            \n",
    "            ret[col] = 1 + np.log(ret[col] / cnts)\n",
    "            ret[col] *= idf\n",
    "\n",
    "        return ret\n",
    "\n",
    "\n",
    "    def text_change_counts(self, df):\n",
    "        tmp_df = df.groupby('id').agg({'text_change': list}).reset_index()\n",
    "        ret = list()\n",
    "        for li in tqdm(tmp_df['text_change'].values):\n",
    "            items = list(Counter(li).items())\n",
    "            di = dict()\n",
    "            for k in self.text_changes:\n",
    "                di[k] = 0\n",
    "            for item in items:\n",
    "                k, v = item[0], item[1]\n",
    "                if k in di:\n",
    "                    di[k] = v\n",
    "            ret.append(di)\n",
    "        ret = pd.DataFrame(ret)\n",
    "        cols = [f'text_change_{i}_count' for i in range(len(ret.columns))]\n",
    "        ret.columns = cols\n",
    "\n",
    "        cnts = ret.sum(1)\n",
    "\n",
    "        for col in cols:\n",
    "            if col in self.idf.keys():\n",
    "                idf = self.idf[col]\n",
    "            else:\n",
    "                idf = df.shape[0] / (ret[col].sum() + 1)\n",
    "                idf = np.log(idf)\n",
    "                self.idf[col] = idf\n",
    "            \n",
    "            ret[col] = 1 + np.log(ret[col] / cnts)\n",
    "            ret[col] *= idf\n",
    "            \n",
    "        return ret\n",
    "\n",
    "    def match_punctuations(self, df):\n",
    "        tmp_df = df.groupby('id').agg({'down_event': list}).reset_index()\n",
    "        ret = list()\n",
    "        for li in tqdm(tmp_df['down_event'].values):\n",
    "            cnt = 0\n",
    "            items = list(Counter(li).items())\n",
    "            for item in items:\n",
    "                k, v = item[0], item[1]\n",
    "                if k in self.punctuations:\n",
    "                    cnt += v\n",
    "            ret.append(cnt)\n",
    "        ret = pd.DataFrame({'punct_cnt': ret})\n",
    "        return ret\n",
    "    \n",
    "    def get_input_words(self, df):\n",
    "        tmp_df = df[(~df['text_change'].str.contains('=>'))&(df['text_change'] != 'NoChange')].reset_index(drop=True)\n",
    "        tmp_df = tmp_df.groupby('id').agg({'text_change': list}).reset_index()\n",
    "        tmp_df['text_change'] = tmp_df['text_change'].apply(lambda x: ''.join(x))\n",
    "        tmp_df['text_change'] = tmp_df['text_change'].apply(lambda x: re.findall(r'q+', x))\n",
    "        tmp_df['input_word_count'] = tmp_df['text_change'].apply(len)\n",
    "        tmp_df['input_word_length_mean'] = tmp_df['text_change'].apply(lambda x: np.mean([len(i) for i in x] if len(x) > 0 else 0))\n",
    "        tmp_df['input_word_length_max'] = tmp_df['text_change'].apply(lambda x: np.max([len(i) for i in x] if len(x) > 0 else 0))\n",
    "        tmp_df['input_word_length_std'] = tmp_df['text_change'].apply(lambda x: np.std([len(i) for i in x] if len(x) > 0 else 0))\n",
    "        tmp_df.drop(['text_change'], axis=1, inplace=True)\n",
    "        return tmp_df\n",
    "    \n",
    "    def calculate_pauses(self, df, pause_threshold=2000):\n",
    "        # Compute IKI within each 'id' group\n",
    "        df['IKI'] = df.groupby('id')['down_time'].diff()\n",
    "\n",
    "        # Define pauses\n",
    "        df['is_pause'] = (df['IKI'] > pause_threshold)\n",
    "\n",
    "        # Compute statistics for IKI\n",
    "        iki_stats = df.groupby('id')['IKI'].agg(['mean', 'median', 'std', 'max']).reset_index().rename(columns={\n",
    "            'mean': 'iki_mean',\n",
    "            'median': 'iki_median',\n",
    "            'std': 'iki_std',\n",
    "            'max': 'iki_max'\n",
    "        })\n",
    "\n",
    "        # Compute pause counts\n",
    "        pause_counts = df.groupby('id')['is_pause'].sum().reset_index(name='pause_count')\n",
    "\n",
    "        # Compute average pause time excluding NaNs\n",
    "        pause_times = df[df['is_pause']].groupby('id')['IKI'].mean().reset_index(name='average_pause_time')\n",
    "\n",
    "        # Compute total pause time for paragraph\n",
    "        para_pause_duration = df.groupby('id').apply(lambda group: group['IKI'].where(group['text_change'] == '\\n').sum()).reset_index(name='para_pause_duration')\n",
    "\n",
    "        # Merge pause features\n",
    "        pause_features = pause_counts.merge(pause_times, on='id', how='left')\n",
    "        pause_features = pause_features.merge(para_pause_duration, on='id', how='left')\n",
    "        pause_features = pause_features.merge(iki_stats, on='id', how='left')\n",
    "\n",
    "        # Compute total IKI time and exclude NaNs\n",
    "        total_time = df.groupby('id')['IKI'].sum().reset_index(name='total_time')\n",
    "        \n",
    "        # Merge the total time into pause_features\n",
    "        pause_features = pause_features.merge(total_time, on='id', how='left')\n",
    "\n",
    "        # Calculate pause time ratio\n",
    "        pause_features['pause_time_ratio'] = pause_features['pause_count'] * pause_features['average_pause_time']\n",
    "        pause_features['pause_time_ratio'] = pause_features['pause_time_ratio'] / pause_features['total_time'].replace(0, np.nan)\n",
    "\n",
    "        # Calculate times between sentences within each 'id' group\n",
    "        df['sentence_end_IKI'] = df.groupby('id').apply(lambda group: group['down_time'].diff().where(group['text_change'].isin(['.', '?', '!']))).reset_index(level=0, drop=True)\n",
    "\n",
    "        # Calculate statistics for times between sentences\n",
    "        between_sentences_stats = df.groupby('id')['sentence_end_IKI'].agg(['mean', 'std']).reset_index().rename(columns={'mean': 'mean_between_sentences_IKI', 'std': 'std_between_sentences_IKI'})\n",
    "\n",
    "        # Calculate within-word IKI for 'q' characters within each 'id'\n",
    "        df['within_word_IKI'] = df.groupby('id').apply(lambda group: group['down_time'].diff().where(group['text_change'] == 'q')).reset_index(level=0, drop=True)\n",
    "\n",
    "        # Calculate statistics for within-word IKI\n",
    "        within_word_stats = df.groupby('id')['within_word_IKI'].agg(['mean', 'std']).reset_index().rename(columns={'mean': 'mean_within_word_IKI', 'std': 'std_within_word_IKI'})\n",
    "\n",
    "        # Calculate between-words IKI for spaces or punctuation followed by 'q'\n",
    "        df['between_words_IKI'] = df.groupby('id').apply(lambda group: group['down_time'].diff().where(group['text_change'].shift().isin([' '] + self.punctuations) & (group['text_change'] == 'q'))).reset_index(level=0, drop=True)\n",
    "\n",
    "        # Calculate statistics for between-words IKI\n",
    "        between_words_stats = df.groupby('id')['between_words_IKI'].agg(['mean', 'std']).reset_index().rename(columns={'mean': 'mean_between_words_IKI', 'std': 'std_between_words_IKI'})\n",
    "\n",
    "        # Combine all the IKI related features into one DataFrame\n",
    "        pause_features = pause_features.merge(between_sentences_stats, on='id', how='left')\n",
    "        pause_features = pause_features.merge(within_word_stats, on='id', how='left')\n",
    "        pause_features = pause_features.merge(between_words_stats, on='id', how='left')\n",
    "\n",
    "        return pause_features\n",
    "\n",
    "    def brute_force_agg(self,df):\n",
    "        #bruteforce agg\n",
    "        agg_fe_df = df.groupby(\"id\")[['down_time', 'cursor_position', 'word_count']].agg(\n",
    "            ['mean', 'std', 'min', 'max', 'last', 'first', 'sem', 'median', 'sum'])\n",
    "        agg_fe_df.columns = ['_'.join(x) for x in agg_fe_df.columns]\n",
    "        agg_fe_df = agg_fe_df.add_prefix(\"tmp_\")\n",
    "        agg_fe_df.reset_index(inplace=True)\n",
    "        return agg_fe_df\n",
    "    \n",
    "    def duration_features(self,df):\n",
    "        logs = copy.deepcopy(df)\n",
    "        logs['up_time_lagged'] = logs.groupby('id')['up_time'].shift(1).fillna(logs['down_time'])\n",
    "        logs['time_diff'] = abs(logs['down_time'] - logs['up_time_lagged']) / 1000\n",
    "\n",
    "        group = logs.groupby('id')['time_diff']\n",
    "        initial_pause = logs.groupby('id')['down_time'].first() / 1000\n",
    "        pauses_half_sec = group.apply(lambda x: ((x > 0.5) & (x < 1)).sum())\n",
    "        pauses_1_sec = group.apply(lambda x: ((x > 1) & (x < 1.5)).sum())\n",
    "        pauses_1_half_sec = group.apply(lambda x: ((x > 1.5) & (x < 2)).sum())\n",
    "        pauses_2_sec = group.apply(lambda x: ((x > 2) & (x < 3)).sum())\n",
    "        pauses_3_sec = group.apply(lambda x: (x > 3).sum())\n",
    "        data = pd.DataFrame({\n",
    "            'id': logs['id'].unique(),\n",
    "            'initial_pause': initial_pause,\n",
    "            'pauses_half_sec': pauses_half_sec,\n",
    "            'pauses_1_sec': pauses_1_sec,\n",
    "            'pauses_1_half_sec': pauses_1_half_sec,\n",
    "            'pauses_2_sec': pauses_2_sec,\n",
    "            'pauses_3_sec': pauses_3_sec,\n",
    "        }).reset_index(drop=True)\n",
    "        return data\n",
    "    \n",
    "    def essay_CountVectorizer_and_tfidf(self):\n",
    "        if self.method=='train':\n",
    "            essaysdf = copy.deepcopy(self.essays['essay'])\n",
    "            essaysdf = pd.DataFrame({'id': essaysdf.index, 'essay': essaysdf.values})\n",
    "            merged_data = essaysdf.merge(self.train_scores, on='id')\n",
    "            count_vectorizer = CountVectorizer(ngram_range=(1, 2))\n",
    "            tokenizer = count_vectorizer.fit_transform(merged_data['essay'])\n",
    "            y = merged_data['score']\n",
    "            tokenizer = tokenizer.todense()\n",
    "            count_vector = pd.DataFrame()\n",
    "            for i in range(tokenizer.shape[1]) : \n",
    "                L = list(tokenizer[:,i])\n",
    "                li = [int(x) for x in L ]\n",
    "                count_vector[f'feature {i}'] = li\n",
    "            df_index = essaysdf['id']\n",
    "            count_vector.loc[:, 'id'] = df_index\n",
    "            \n",
    "            save_cols = []\n",
    "            for i in count_vector.columns:\n",
    "                if sum(count_vector[i]==0)/len(count_vector)<0.1:\n",
    "                    save_cols.append(i)\n",
    "\n",
    "            return count_vector[save_cols],count_vectorizer,save_cols\n",
    "\n",
    "        else:\n",
    "            essaysdf = copy.deepcopy(self.essays['essay'])\n",
    "            essaysdf = pd.DataFrame({'id': essaysdf.index, 'essay': essaysdf.values})\n",
    "            tokenizer = self.tokenizer.transform(essaysdf['essay'])\n",
    "            tokenizer = tokenizer.todense()\n",
    "            count_vector = pd.DataFrame()\n",
    "            for i in range(tokenizer.shape[1]): \n",
    "                L = list(tokenizer[:,i])\n",
    "                li = [int(x) for x in L ]\n",
    "                count_vector[f'feature {i}'] = li\n",
    "            df_index = essaysdf['id']\n",
    "            count_vector.loc[:, 'id'] = df_index\n",
    "            return count_vector[self.save_cols]       \n",
    "        \n",
    "    def other_features(self,df):\n",
    "        a = pd.DataFrame()\n",
    "        a['Input_all_ratio'] = df.groupby(['id']).apply(lambda x:sum(x['activity']!='Input'))/df.groupby(['id']).apply(lambda x:sum(x['activity']=='Input'))\n",
    "        a['all_q_ratio'] = df.groupby(['id']).apply(lambda x:sum(x['down_event']!='q'))/df.groupby(['id']).apply(lambda x:sum(x['down_event']=='q'))\n",
    "        activities = ['Input', 'Remove/Cut', 'Nonproduction', 'Replace', 'Paste']\n",
    "        events_dict = {\n",
    "                        'q':'q', \n",
    "                        'Space':'Space', \n",
    "                        'Backspace':'Backspace', \n",
    "                        'Shift':'Shift', \n",
    "                        'ArrowRight':'ArrowRight', \n",
    "                        'Leftclick':'Leftclick', \n",
    "                        'ArrowLeft':'ArrowLeft', \n",
    "                        '.':'fullstop', \n",
    "                        ',':'comma', \n",
    "                        'ArrowDown':'ArrowDown', \n",
    "                        'ArrowUp':'ArrowUp', \n",
    "                        'Enter':'Enter', \n",
    "                        'CapsLock':'CapsLock', \n",
    "                        \"'\":'single_quote', \n",
    "                        'Delete':'Delete', \n",
    "                        'Unidentified':'Unidentified',\n",
    "                      }\n",
    "        for i in tqdm(activities):\n",
    "            for j in events_dict:\n",
    "                a[f'{i}_{events_dict[j]}_count'] = df.groupby('id').apply(lambda x:len(x[(x['activity']==i)&(x['down_event']==j)]))\n",
    "        return a.reset_index()\n",
    "\n",
    "    def language_error(self,df):\n",
    "        a = pd.DataFrame()\n",
    "        df['down_event_shift'] = df.groupby('id')['down_event'].shift(-1)\n",
    "        letter_upper = df.groupby('id').apply(lambda x:len(x[(x['down_event']=='CapsLock')|((x['down_event']=='Shift')&(x['down_event_shift']=='q'))]))\n",
    "        a['letter_big_count'] = letter_upper.values\n",
    "        a['id'] = df['id'].unique()\n",
    "\n",
    "        essay_df = copy.deepcopy(self.essays)\n",
    "        essay_df['id'] = essay_df.index\n",
    "\n",
    "        #避免将qqq.).切分成多个句子\n",
    "        #essay_df['essay'] = essay_df['essay'].apply(lambda x:re.sub(r'\\.\\]|\\.\\)|\\.\\}|\\?\\]|\\?\\)|\\?\\}|\\!\\]|\\!\\)|\\!\\}','qq',x))\n",
    "\n",
    "        essay_df['essay'] = essay_df['essay'].apply(lambda x:re.sub(r'q\\.q\\.','qqq',x))\n",
    "        essay_df['sent'] = essay_df['essay'].apply(lambda x: re.split('\\\\.|\\\\?|\\\\!',x))\n",
    "        essay_df = essay_df.explode('sent')   #explode将列表里的元素展开\n",
    "        essay_df['sent'] = essay_df['sent'].apply(lambda x: x.replace('\\n','').strip())    \n",
    "        essay_df['sent_len'] = essay_df['sent'].apply(lambda x: len(x))\n",
    "        essay_df = essay_df[essay_df['sent_len']!=0]\n",
    "        errors_num = (essay_df.groupby('id').apply(len)-letter_upper).values\n",
    "        a['error_num'] = errors_num                          #如果句子个数大于大写字母按键次数，那么文章会有语法错误\n",
    "\n",
    "        return a \n",
    "\n",
    "    def sentence_error(self):\n",
    "        essay_df = copy.deepcopy(self.essays)\n",
    "        essay_df['id'] = essay_df.index\n",
    "        essay_df['paragraph'] = essay_df['essay'].apply(lambda x: x.split('\\n'))\n",
    "        essay_df = essay_df.explode('paragraph')\n",
    "        # Number of characters in paragraphs\n",
    "        essay_df['paragraph_len'] = essay_df['paragraph'].apply(lambda x: len(x)) \n",
    "        essay_df = essay_df[essay_df['paragraph_len']!=0]\n",
    "        essay_df['only_space'] = essay_df['paragraph'].apply(lambda x:'q' not in x)\n",
    "        essay_df = essay_df[essay_df['only_space']==False]\n",
    "        a = pd.DataFrame()\n",
    "        a['para_error'] = essay_df.groupby('id').apply(lambda x:len(x[x['paragraph_len']<25]))   #一个段落字符过少可能不是完整的一句话，可能存在语法错误\n",
    "\n",
    "        return a.reset_index()\n",
    "\n",
    "    def language_error_letter(self):\n",
    "        essay_df = copy.deepcopy(self.essays_with_upper)\n",
    "        essay_df['id'] = essay_df.index\n",
    "\n",
    "        #避免将qqq.).切分成多个句子\n",
    "        #essay_df['essay'] = essay_df['essay'].apply(lambda x:re.sub(r'\\.\\]|\\.\\)|\\.\\}|\\?\\]|\\?\\)|\\?\\}|\\!\\]|\\!\\)|\\!\\}','qq',x))\n",
    "\n",
    "        essay_df['essay'] = essay_df['essay'].apply(lambda x:re.sub(r'q\\.q\\.','qqq',x))\n",
    "        essay_df['sent'] = essay_df['essay'].apply(lambda x: re.split('\\\\.|\\\\?|\\\\!',x))\n",
    "        essay_df = essay_df.explode('sent')   #explode将列表里的元素展开\n",
    "        essay_df['sent'] = essay_df['sent'].apply(lambda x: str(x).replace('\\n','').strip()) \n",
    "        essay_df['sent_len'] = essay_df['sent'].apply(lambda x: len(x))\n",
    "        essay_df = essay_df[essay_df.sent_len!=0].reset_index(drop=True)\n",
    "        essay_df['language_error_letter'] = essay_df['sent'].apply(lambda x:x[0])\n",
    "        essay_df['if_q'] = essay_df['language_error_letter'].apply(lambda x:x.lower()=='q')\n",
    "        essay_df = essay_df[essay_df['if_q']==True]\n",
    "        a = pd.DataFrame()\n",
    "        a['language_error_letter'] = essay_df.groupby('id').apply(lambda x:len(x[x['language_error_letter']=='q']))\n",
    "        return a.reset_index()\n",
    "\n",
    "    def R_burst(self,df):\n",
    "        a = pd.DataFrame()\n",
    "        df = df[(df['activity']=='Input')|(df['activity']=='Remove/Cut')].reset_index(drop=True)\n",
    "        df['activity_shift'] = df.groupby('id')['activity'].shift().fillna(method='bfill')\n",
    "        df['is_R_burst'] = df['activity'] != df['activity_shift']\n",
    "        a['revision_count'] = df.groupby('id').apply(lambda x:x['is_R_burst'].sum())\n",
    "        df['keystroke_duration'] = df.groupby('id')['down_time'].diff()\n",
    "        df = df[df['keystroke_duration'].notnull()]\n",
    "\n",
    "        a['revision_count_above2s'] = df.groupby('id').apply(lambda x:x[(x['is_R_burst']==True)&(x['keystroke_duration']>2)]['is_R_burst'].sum()).values\n",
    "        Rburst =  df[(df['is_R_burst']==True)&(df['keystroke_duration']>2)]   #&(df['keystroke_duration']>2)\n",
    "        Rburst_statistic = Rburst.groupby('id').agg({'keystroke_duration':['mean','max','sum','median']})\n",
    "        Rburst_statistic.columns = ['_'.join(x) for x in Rburst_statistic.columns]\n",
    "        \n",
    "        return a.merge(Rburst_statistic.reset_index(),on='id',how='left')\n",
    "\n",
    "\n",
    "    def split_essays_into_sentences(self):\n",
    "        essay_df = copy.deepcopy(self.essays)\n",
    "        essay_df['id'] = essay_df.index\n",
    "\n",
    "        #避免将qqq.).切分成多个句子\n",
    "        #essay_df['essay'] = essay_df['essay'].apply(lambda x:re.sub(r'\\.\\]|\\.\\)|\\.\\}|\\?\\]|\\?\\)|\\?\\}|\\!\\]|\\!\\)|\\!\\}','qq',x))\n",
    "        #避免将类似于i.e.切分成多个句子\n",
    "        essay_df['essay'] = essay_df['essay'].apply(lambda x:re.sub(r'q\\.q\\.','qqq',x))\n",
    "        essay_df['sent'] = essay_df['essay'].apply(lambda x: re.split('\\\\.|\\\\?|\\\\!',x))\n",
    "        essay_df = essay_df.explode('sent')   #explode将列表里的元素展开\n",
    "        essay_df['sent'] = essay_df['sent'].apply(lambda x: x.replace('\\n','').strip())    #strip会删除字符串两端的空格\n",
    "        # Number of characters in sentences\n",
    "        essay_df['sent_len'] = essay_df['sent'].apply(lambda x: len(x))\n",
    "\n",
    "        # Number of words in sentences\n",
    "        essay_df['sent_word_count'] = essay_df['sent'].apply(lambda x: len(x.split(' ')))\n",
    "        essay_df['sent_word_count_diff'] = essay_df.groupby(['id'])['sent_word_count'].transform(lambda x:np.abs(x.diff()))\n",
    "        essay_df['words_len_above10'] = essay_df['sent'].apply(lambda x: x.split(' '))\n",
    "        essay_df['words_len_above10'] = essay_df['words_len_above10'].apply(lambda x:sum(len(y)>10 for y in x))\n",
    "\n",
    "        essay_df['words_len_5-10'] = essay_df['sent'].apply(lambda x: x.split(' '))\n",
    "        essay_df['words_len_5-10'] = essay_df['words_len_5-10'].apply(lambda x:sum(5<=len(y)<=10 for y in x))\n",
    "\n",
    "        essay_df['words_len_first'] = essay_df['sent'].apply(lambda x: x.split(' '))\n",
    "        essay_df['words_len_first'] = essay_df['words_len_first'].apply(lambda x:len(x[0]))\n",
    "\n",
    "        essay_df = essay_df[essay_df.sent_len!=0].reset_index(drop=True)\n",
    "        return essay_df\n",
    "    \n",
    "    def compute_sentence_aggregations(self,df):\n",
    "        sent_agg_df = pd.concat(\n",
    "            [df[['id','sent_len']].groupby(['id']).agg(self.AGGREGATIONS),\n",
    "             df[['id','sent_word_count']].groupby(['id']).agg(self.AGGREGATIONS),\n",
    "             df[['id','sent_word_count_diff']].groupby(['id']).agg(self.AGGREGATIONS2),\n",
    "             df[['id','words_len_above10']].groupby(['id']).agg(self.AGGREGATIONS3),\n",
    "             df[['id','words_len_first']].groupby(['id']).agg(self.AGGREGATIONS4),\n",
    "             df[['id','words_len_5-10']].groupby(['id']).agg(self.AGGREGATIONS5),\n",
    "\n",
    "             ],\n",
    "             axis=1)\n",
    "        sent_agg_df.columns = ['_'.join(x) for x in sent_agg_df.columns]\n",
    "        sent_agg_df['id'] = sent_agg_df.index    \n",
    "        sent_agg_df = sent_agg_df.reset_index(drop=True)\n",
    "        sent_agg_df.drop(columns=[\"sent_word_count_count\"], inplace=True)\n",
    "        sent_agg_df = sent_agg_df.rename(columns={\"sent_len_count\":\"sent_count\"})\n",
    "        return sent_agg_df\n",
    "\n",
    "    def split_essays_into_paragraphs(self):\n",
    "        essay_df = copy.deepcopy(self.essays)\n",
    "        essay_df['id'] = essay_df.index\n",
    "        essay_df['paragraph'] = essay_df['essay'].apply(lambda x: x.split('\\n'))\n",
    "        essay_df = essay_df.explode('paragraph')\n",
    "        # Number of characters in paragraphs\n",
    "        essay_df['paragraph_len'] = essay_df['paragraph'].apply(lambda x: len(x)) \n",
    "        \n",
    "        # Number of words in paragraphs\n",
    "        essay_df['paragraph_word_count'] = essay_df['paragraph'].apply(lambda x: len(x.split(' ')))\n",
    "        essay_df['paragraph_word_count_diff'] = essay_df.groupby(['id'])['paragraph_word_count'].transform(lambda x:np.abs(x.diff()))\n",
    "\n",
    "        essay_df['para_words_len_above10'] = essay_df['paragraph'].apply(lambda x: x.split(' '))\n",
    "        essay_df['para_words_len_above10'] = essay_df['para_words_len_above10'].apply(lambda x:sum(len(y)>10 for y in x))\n",
    "\n",
    "        essay_df['para_words_len_5-10'] = essay_df['paragraph'].apply(lambda x: x.split(' '))\n",
    "        essay_df['para_words_len_5-10'] = essay_df['para_words_len_5-10'].apply(lambda x:sum(5<=len(y)<=10 for y in x))\n",
    "\n",
    "        essay_df['para_words_len_first'] = essay_df['paragraph'].apply(lambda x: x.split(' '))\n",
    "        essay_df['para_words_len_first'] = essay_df['para_words_len_first'].apply(lambda x:len(x[0]))\n",
    "        \n",
    "        essay_df['num_question'] = essay_df['paragraph'].apply(lambda x: len(re.findall(r'\\?', x)))\n",
    "        essay_df['num_yinyong'] = essay_df['paragraph'].apply(lambda x: len(re.findall(r'\\\"', x)))\n",
    "\n",
    "        essay_df = essay_df[essay_df.paragraph_len!=0].reset_index(drop=True)\n",
    "        #有些段落可能全部是空格，类似于：'    '\n",
    "        #essay_df['only_space'] = essay_df['paragraph'].apply(lambda x:'q' not in x)\n",
    "        #essay_df = essay_df[essay_df['only_space']==False]\n",
    "        return essay_df\n",
    "\n",
    "    def compute_paragraph_aggregations(self,df):\n",
    "        paragraph_agg_df = pd.concat(\n",
    "            [df[['id','paragraph_len']].groupby(['id']).agg(self.AGGREGATIONS),\\\n",
    "             df[['id','paragraph_word_count']].groupby(['id']).agg(self.AGGREGATIONS),\n",
    "             df[['id','paragraph_word_count_diff']].groupby(['id']).agg(self.AGGREGATIONS2),\n",
    "             df[['id','para_words_len_above10']].groupby(['id']).agg(self.AGGREGATIONS3),\n",
    "             df[['id','para_words_len_first']].groupby(['id']).agg(self.AGGREGATIONS4),\n",
    "             df[['id','para_words_len_5-10']].groupby(['id']).agg(self.AGGREGATIONS5),\n",
    "             df[['id','num_question']].groupby(['id']).agg(self.AGGREGATIONS5),\n",
    "             df[['id','num_yinyong']].groupby(['id']).agg(self.AGGREGATIONS5),\n",
    "\n",
    "             ], axis=1) \n",
    "        paragraph_agg_df.columns = ['_'.join(x) for x in paragraph_agg_df.columns]\n",
    "        paragraph_agg_df['id'] = paragraph_agg_df.index\n",
    "        paragraph_agg_df = paragraph_agg_df.reset_index(drop=True)\n",
    "        paragraph_agg_df.drop(columns=[\"paragraph_word_count_count\"], inplace=True)\n",
    "        paragraph_agg_df = paragraph_agg_df.rename(columns={\"paragraph_len_count\":\"paragraph_count\"})\n",
    "        return paragraph_agg_df\n",
    "    \n",
    "    def difficulty(self):\n",
    "        df = copy.deepcopy(self.essays)\n",
    "        df['token'] = [word_tokenize(p) for p in df[\"essay\"]]\n",
    "        df['token_len'] = df['token'].apply(lambda x : list(len(word) for word in x))\n",
    "        df['verylong']  = df['token_len'].apply(lambda x : sum(c>=9 for c in x))\n",
    "        df['long']      = df['token_len'].apply(lambda x : sum(c==7 or c==8 for c in x))\n",
    "        df['mid']       = df['token_len'].apply(lambda x : sum(c==5 or c==6 for c in x))\n",
    "        df['difficulty'] = df['verylong']*5 + df['long']*3 + df['mid']*1\n",
    "        df['long_words'] = df['verylong']+df['long']\n",
    "        df.reset_index(inplace=True)\n",
    "        df.rename(columns={'index':'id'},inplace=True)\n",
    "\n",
    "        #sentence\n",
    "        df_sentence = copy.deepcopy(self.essays)\n",
    "        df_sentence['id'] = df_sentence.index\n",
    "        #避免将类似于i.e.切分成多个句子\n",
    "        df_sentence['essay'] = df_sentence['essay'].apply(lambda x:re.sub(r'q\\.q\\.','qqq',x))\n",
    "        df_sentence['sent'] = df_sentence['essay'].apply(lambda x: re.split('\\\\.|\\\\?|\\\\!',x))\n",
    "        df_sentence = df_sentence.explode('sent')   #explode将列表里的元素展开\n",
    "        df_sentence['sent'] = df_sentence['sent'].apply(lambda x: x.replace('\\n','').strip())    #strip会删除字符串两端的空格\n",
    "        # Number of characters in sentences\n",
    "        df_sentence['sent_len'] = df_sentence['sent'].apply(lambda x: len(x))\n",
    "        df_sentence['sent_word_count'] = df_sentence['sent'].apply(lambda x: len(x.split(' ')))\n",
    "        df_sentence = df_sentence[df_sentence['sent_len']!=0]\n",
    "\n",
    "        df_sentence['sentence_token'] = [word_tokenize(p) for p in df_sentence[\"sent\"]]\n",
    "        df_sentence['sentence_token_len'] = df_sentence['sentence_token'].apply(lambda x : list(len(word) for word in x))\n",
    "        df_sentence['sentence_verylong']  = df_sentence['sentence_token_len'].apply(lambda x : sum(c>=9 for c in x))\n",
    "        df_sentence['sentence_long']      = df_sentence['sentence_token_len'].apply(lambda x : sum(c==7 or c==8 for c in x))\n",
    "        df_sentence['sentence_mid']       = df_sentence['sentence_token_len'].apply(lambda x : sum(c==5 or c==6 for c in x))\n",
    "        df_sentence['sentence_difficulty'] = df_sentence['sentence_verylong']*5 + df_sentence['sentence_long']*3 + df_sentence['sentence_mid']*1\n",
    "        df_sentence['sentence_long_words'] = df_sentence['sentence_verylong']+df_sentence['sentence_long']\n",
    "        a = df_sentence.groupby('id')[['sentence_verylong','sentence_long','sentence_mid','sentence_difficulty','sentence_long_words']].agg(['max','mean','sum'])\n",
    "        a.columns = ['_'.join(x) for x in a.columns]\n",
    "\n",
    "        return (df[['id','verylong','long','mid','difficulty','long_words']]).merge(a,on='id',how='left')\n",
    "    \n",
    "    def make_feats(self, df):\n",
    "        feats = pd.DataFrame({'id': df['id'].unique().tolist()})\n",
    "        \n",
    "        print(\"Engineering time data\")\n",
    "        for gap in self.gaps:\n",
    "            df[f'up_time_shift{gap}'] = df.groupby('id')['up_time'].shift(gap)\n",
    "            df[f'action_time_gap{gap}'] = df['down_time'] - df[f'up_time_shift{gap}']\n",
    "            \n",
    "        df.drop(columns=[f'up_time_shift{gap}' for gap in self.gaps], inplace=True)\n",
    "        \n",
    "        print(\"Engineering cursor position data\")\n",
    "        for gap in self.gaps:\n",
    "            df[f'cursor_position_shift{gap}'] = df.groupby('id')['cursor_position'].shift(gap)\n",
    "            df[f'cursor_position_change{gap}'] = df['cursor_position'] - df[f'cursor_position_shift{gap}']\n",
    "            df[f'cursor_position_abs_change{gap}'] = np.abs(df[f'cursor_position_change{gap}'])\n",
    "        df.drop(columns=[f'cursor_position_shift{gap}' for gap in self.gaps], inplace=True)\n",
    "\n",
    "        print(\"Engineering word count data\")\n",
    "        for gap in self.gaps:\n",
    "            df[f'word_count_shift{gap}'] = df.groupby('id')['word_count'].shift(gap)\n",
    "            df[f'word_count_change{gap}'] = df['word_count'] - df[f'word_count_shift{gap}']\n",
    "            df[f'word_count_abs_change{gap}'] = np.abs(df[f'word_count_change{gap}'])\n",
    "        df.drop(columns=[f'word_count_shift{gap}' for gap in self.gaps], inplace=True)        \n",
    "        \n",
    "        print(\"Engineering statistical summaries for features\")\n",
    "        feats_stat = [\n",
    "            ('event_id', ['max']),\n",
    "            ('activity', ['nunique']),\n",
    "            ('down_event', ['nunique']),\n",
    "            ('up_event', ['nunique']),\n",
    "            ('text_change', ['nunique']),\n",
    "            ]\n",
    "        for gap in self.gaps:\n",
    "            feats_stat.extend([\n",
    "                (f'action_time_gap{gap}', ['max', 'min', 'mean', 'std', 'quantile', 'sem', 'sum', 'skew', pd.DataFrame.kurt]),\n",
    "                (f'cursor_position_change{gap}', ['max', 'mean', 'std', 'quantile', 'sem', 'sum', 'skew', pd.DataFrame.kurt]),\n",
    "                (f'word_count_change{gap}', ['max', 'mean', 'std', 'quantile', 'sem', 'sum', 'skew', pd.DataFrame.kurt]),\n",
    "            ])\n",
    "        \n",
    "        pbar = tqdm(feats_stat)\n",
    "        for item in pbar:\n",
    "            colname, methods = item[0], item[1]\n",
    "            for method in methods:\n",
    "                pbar.set_postfix()\n",
    "                if isinstance(method, str):\n",
    "                    method_name = method\n",
    "                else:\n",
    "                    method_name = method.__name__\n",
    "                pbar.set_postfix(column=colname, method=method_name)\n",
    "                tmp_df = df.groupby(['id']).agg({colname: method}).reset_index().rename(columns={colname: f'{colname}_{method_name}'})\n",
    "                feats = feats.merge(tmp_df, on='id', how='left')\n",
    "\n",
    "        print(\"Engineering activity counts data\")\n",
    "        tmp_df = self.activity_counts(df)\n",
    "        feats = pd.concat([feats, tmp_df], axis=1)\n",
    "        \n",
    "        print(\"Engineering event counts data\")\n",
    "        tmp_df = self.event_counts(df, 'down_event')\n",
    "        feats = pd.concat([feats, tmp_df], axis=1)\n",
    "        tmp_df = self.event_counts(df, 'up_event')\n",
    "        feats = pd.concat([feats, tmp_df], axis=1)\n",
    "        \n",
    "        print(\"Engineering text change counts data\")\n",
    "        tmp_df = self.text_change_counts(df)\n",
    "        feats = pd.concat([feats, tmp_df], axis=1)\n",
    "        \n",
    "        print(\"Engineering punctuation counts data\")\n",
    "        tmp_df = self.match_punctuations(df)\n",
    "        feats = pd.concat([feats, tmp_df], axis=1)\n",
    "\n",
    "        print(\"Engineering input words data\")\n",
    "        tmp_df = self.get_input_words(df)\n",
    "        feats = pd.merge(feats, tmp_df, on='id', how='left')\n",
    "        \n",
    "        print(\"Calculating pause features\")\n",
    "        tmp_df = self.calculate_pauses(df)\n",
    "        feats = pd.merge(feats, tmp_df, on='id', how='left')\n",
    "        \n",
    "        print('<merge brute force agg.>')\n",
    "        tmp_df = self.brute_force_agg(df)\n",
    "        feats = pd.merge(feats, tmp_df, on='id', how='left')\n",
    "        \n",
    "        print(\"Engineering ratios data\")\n",
    "        feats['word_time_ratio'] = feats['tmp_word_count_max'] / feats['tmp_down_time_max']\n",
    "        feats['word_event_ratio'] = feats['tmp_word_count_max'] / feats['event_id_max']\n",
    "        feats['event_time_ratio'] = feats['event_id_max']  / feats['tmp_down_time_max']\n",
    "        feats['idle_time_ratio'] = feats['action_time_gap1_sum'] / feats['tmp_down_time_max']\n",
    "\n",
    "        print('<merge duration_features.>')\n",
    "        tmp_df = self.duration_features(df)\n",
    "        feats = pd.merge(feats, tmp_df, on='id', how='left')\n",
    "        if self.method == 'train':\n",
    "            feats = feats.merge(self.train_scores, on='id', how='left')\n",
    "        \n",
    "        print('<merge countvectorizer_and_tfidf_features.>')\n",
    "        if self.method == 'train':\n",
    "            tmp_df,tokenizer,save_cols = self.essay_CountVectorizer_and_tfidf()\n",
    "        else:\n",
    "            tmp_df = self.essay_CountVectorizer_and_tfidf()\n",
    "        feats = pd.merge(feats, tmp_df, on='id', how='left')\n",
    "        \n",
    "        print('<merge other features.>')\n",
    "        if self.method == 'train':\n",
    "            if os.path.exists('/kaggle/input/lgbm-and-nn-on-sentences'):  \n",
    "                tmp_df = pd.read_csv('/kaggle/input/lgbm-and-nn-on-sentences/train_agg_ratio.csv')\n",
    "            else:\n",
    "                tmp_df = self.other_features(df)\n",
    "        else:\n",
    "            tmp_df = self.other_features(df)\n",
    "        feats = pd.merge(feats, tmp_df, on='id', how='left')\n",
    "        \n",
    "        print('<merge errors features.>')\n",
    "        tmp_df = self.language_error(df)\n",
    "        feats = feats.merge(tmp_df, on='id', how='left')\n",
    "        tmp_df = self.sentence_error()\n",
    "        feats = feats.merge(tmp_df, on='id', how='left')\n",
    "        if self.method == 'train':\n",
    "            tmp_df =  self.language_error_letter()\n",
    "        else:\n",
    "            essays_upper = getEssays_with_upper(df)\n",
    "            tmp_df =  self.language_error_letter()\n",
    "        feats = feats.merge(tmp_df, on='id', how='left')\n",
    "        \n",
    "        print('merge sentence and paragraph agg features')\n",
    "        sent_df = self.split_essays_into_sentences()\n",
    "        tmp_df = self.compute_sentence_aggregations(sent_df)\n",
    "        feats = feats.merge(tmp_df, on='id', how='left')\n",
    "        \n",
    "        paragraph_df = self.split_essays_into_paragraphs()\n",
    "        tmp_df = self.compute_paragraph_aggregations(paragraph_df)\n",
    "        feats = feats.merge(tmp_df, on='id', how='left')\n",
    "\n",
    "        print('merge R burst features')\n",
    "        tmp_df = self.R_burst(df)\n",
    "        feats = feats.merge(tmp_df, on='id', how='left')\n",
    "\n",
    "        print('merge difficulty agg features')\n",
    "        tmp_df = self.difficulty()\n",
    "        feats = feats.merge(tmp_df, on='id', how='left')\n",
    "        \n",
    "        if self.method == 'train':\n",
    "            return feats,tokenizer,save_cols\n",
    "        else:\n",
    "            return feats"
   ]
  },
  {
   "cell_type": "markdown",
   "id": "5a6c7e37",
   "metadata": {
    "papermill": {
     "duration": 0.007252,
     "end_time": "2024-01-06T04:44:53.547968",
     "exception": false,
     "start_time": "2024-01-06T04:44:53.540716",
     "status": "completed"
    },
    "tags": []
   },
   "source": [
    "## Feature Selection: Null Importances"
   ]
  },
  {
   "cell_type": "code",
   "execution_count": 8,
   "id": "19a7e370",
   "metadata": {
    "execution": {
     "iopub.execute_input": "2024-01-06T04:44:53.565530Z",
     "iopub.status.busy": "2024-01-06T04:44:53.565101Z",
     "iopub.status.idle": "2024-01-06T04:44:53.590040Z",
     "shell.execute_reply": "2024-01-06T04:44:53.588749Z"
    },
    "papermill": {
     "duration": 0.036582,
     "end_time": "2024-01-06T04:44:53.592283",
     "exception": false,
     "start_time": "2024-01-06T04:44:53.555701",
     "status": "completed"
    },
    "tags": []
   },
   "outputs": [],
   "source": [
    "def get_feature_importances(data_x, data_y, valid_x, valid_y, model_params, shuffle, seed=None):\n",
    "    if seed == None:\n",
    "        model_params['random_state'] = None\n",
    "\n",
    "    gain_model = LGBMRegressor(importance_type='gain', **model_params)\n",
    "    split_model = LGBMRegressor(importance_type='split', **model_params)\n",
    "\n",
    "    if shuffle:\n",
    "        random.shuffle(data_y)\n",
    "        random.shuffle(valid_y)\n",
    "        \n",
    "    gain_model.fit(data_x, data_y, eval_set=[(valid_x, valid_y)], verbose=False)\n",
    "    split_model.fit(data_x, data_y, eval_set=[(valid_x, valid_y)], verbose=False)\n",
    "\n",
    "    imp_df = pd.DataFrame()\n",
    "    imp_df[\"feature\"] = list(data_x)\n",
    "    imp_df[\"importance_gain\"] = gain_model.feature_importances_\n",
    "    imp_df[\"importance_split\"] = split_model.feature_importances_    \n",
    "    return imp_df\n",
    "\n",
    "\n",
    "def get_batch_imp_df(data_x, data_y, valid_x, valid_y, model_params, nb_runs=10, null_flag=True):\n",
    "    batch_imp_df = pd.DataFrame()\n",
    "    print(f'Run {nb_runs} rounds of model training:')\n",
    "    for i in tqdm(range(nb_runs)):\n",
    "        if null_flag:\n",
    "            imp_df = get_feature_importances(data_x, data_y, valid_x, valid_y, model_params, shuffle=True, seed=None)\n",
    "        else:\n",
    "            imp_df = get_feature_importances(data_x, data_y, valid_x, valid_y, model_params, shuffle=False, seed=None)\n",
    "        imp_df['run'] = i + 1 \n",
    "        batch_imp_df = pd.concat([batch_imp_df, imp_df], axis=0)\n",
    "    return batch_imp_df\n",
    "\n",
    "\n",
    "def display_distributions(actual_imp_df_, null_imp_df_, feature_):\n",
    "    plt.figure(figsize=(13, 6))\n",
    "    gs = gridspec.GridSpec(1, 2)\n",
    "    # Plot Split importances\n",
    "    ax = plt.subplot(gs[0, 0])\n",
    "    a = ax.hist(null_imp_df_.loc[null_imp_df_['feature'] == feature_, 'importance_split'].values, label='Null importances')\n",
    "    ax.vlines(x=actual_imp_df_.loc[actual_imp_df_['feature'] == feature_, 'importance_split'].mean(), \n",
    "               ymin=0, ymax=np.max(a[0]), color='r',linewidth=10, label='Real Target')\n",
    "    ax.legend()\n",
    "    ax.set_title('Split Importance of %s' % feature_.upper(), fontweight='bold')\n",
    "    plt.xlabel('Null Importance (split) Distribution for %s ' % feature_.upper())\n",
    "    # Plot Gain importances\n",
    "    ax = plt.subplot(gs[0, 1])\n",
    "    a = ax.hist(null_imp_df_.loc[null_imp_df_['feature'] == feature_, 'importance_gain'].values, label='Null importances')\n",
    "    ax.vlines(x=actual_imp_df_.loc[actual_imp_df_['feature'] == feature_, 'importance_gain'].mean(), \n",
    "               ymin=0, ymax=np.max(a[0]), color='r',linewidth=10, label='Real Target')\n",
    "    ax.legend()\n",
    "    ax.set_title('Gain Importance of %s' % feature_.upper(), fontweight='bold')\n",
    "    plt.xlabel('Null Importance (gain) Distribution for %s ' % feature_.upper())\n",
    "\n",
    "    \n",
    "def normalize_feat_imp(imp_df):\n",
    "    avg_gain_imp_df = imp_df.groupby(by=['feature'])['importance_gain'].mean().reset_index()\n",
    "    avg_split_imp_df = imp_df.groupby(by=['feature'])['importance_split'].mean().reset_index()\n",
    "    # rank-normalize score\n",
    "    avg_gain_imp_df['importance_gain'] = avg_gain_imp_df['importance_gain'].rank(ascending=False, pct=True)\n",
    "    avg_split_imp_df['importance_split'] = avg_split_imp_df['importance_split'].rank(ascending=False, pct=True)\n",
    "    avg_imp_df = pd.merge(avg_gain_imp_df, avg_split_imp_df, on='feature')\n",
    "    # # normalize score\n",
    "    # avg_imp_df['importance_gain'] = (avg_imp_df['importance_gain'] - avg_imp_df['importance_gain'].min())  / (avg_imp_df['importance_gain'].max() - avg_imp_df['importance_gain'].min())\n",
    "    # avg_imp_df['importance_split'] = (avg_imp_df['importance_split'] - avg_imp_df['importance_split'].min())  / (avg_imp_df['importance_split'].max() - avg_imp_df['importance_split'].min())\n",
    "    return avg_imp_df\n",
    "\n",
    "\n",
    "def nul_imp_feat_select(model_params,\n",
    "                        train_x, train_y, valid_x, valid_y,\n",
    "                        actual_avg_imp_df, null_avg_imp_df,\n",
    "                        search_thres=[ 0.5, 0.6, 0.7, 0.8, 0.9, 0.95, 1],\n",
    "                        search_criterion=['gain', 'split', 'both']):\n",
    "    feat_select_dfs = []\n",
    "    for search_cri in search_criterion:\n",
    "        print(f'Feature Selection by Null Importances: {search_cri}:')\n",
    "        for threshold in tqdm(search_thres):\n",
    "            if 'split' == search_cri:\n",
    "                actual_feats = actual_avg_imp_df[actual_avg_imp_df['importance_split']>threshold]['feature'].values.tolist()\n",
    "                null_feats = null_avg_imp_df[null_avg_imp_df['importance_split']>threshold]['feature'].values.tolist()\n",
    "                unstable_feats = set(actual_feats + null_feats)\n",
    "                feats = [_f for _f in actual_avg_imp_df['feature'].unique() if _f not in unstable_feats]\n",
    "            elif 'gain' == search_cri:\n",
    "                actual_feats = actual_avg_imp_df[actual_avg_imp_df['importance_gain']>threshold]['feature'].values.tolist()\n",
    "                null_feats = null_avg_imp_df[null_avg_imp_df['importance_gain']>threshold]['feature'].values.tolist()\n",
    "                unstable_feats = set(actual_feats + null_feats)\n",
    "                feats = [_f for _f in actual_avg_imp_df['feature'].unique() if _f not in unstable_feats]\n",
    "            elif 'both' == search_cri:\n",
    "                actual_feats = actual_avg_imp_df[actual_avg_imp_df['importance_split']>threshold]['feature'].values.tolist()\n",
    "                null_feats = null_avg_imp_df[null_avg_imp_df['importance_split']>threshold]['feature'].values.tolist()\n",
    "                unstable_feats1 = set(actual_feats + null_feats)\n",
    "\n",
    "                actual_feats = actual_avg_imp_df[actual_avg_imp_df['importance_gain']>threshold]['feature'].values.tolist()\n",
    "                null_feats = null_avg_imp_df[null_avg_imp_df['importance_gain']>threshold]['feature'].values.tolist()\n",
    "                unstable_feats2 = set(actual_feats + null_feats)\n",
    "                \n",
    "                unstable_feats = set(list(unstable_feats1) + list(unstable_feats2))\n",
    "                feats = [_f for _f in actual_avg_imp_df['feature'].unique() if _f not in unstable_feats]\n",
    "\n",
    "            model = LGBMRegressor(**model_params)\n",
    "            model.fit(train_x[feats], train_y, eval_set=[(valid_x[feats], valid_y)], verbose= False)\n",
    "            valid_pred_y = model.predict(valid_x[feats], num_iteration=model.best_iteration_)  \n",
    "            valid_eval_rmse = mean_squared_error(valid_y, valid_pred_y, squared=False) \n",
    "            feat_select_dfs.append([search_cri, threshold, feats, len(feats), valid_eval_rmse])\n",
    "    feat_select_dfs = pd.DataFrame(feat_select_dfs)   \n",
    "    feat_select_dfs.columns = ['imp_type', 'threshold', 'features', 'feature_number', 'valid_eval_rmse']    \n",
    "    return feat_select_dfs"
   ]
  },
  {
   "cell_type": "markdown",
   "id": "50ed4650",
   "metadata": {
    "papermill": {
     "duration": 0.007234,
     "end_time": "2024-01-06T04:44:53.607232",
     "exception": false,
     "start_time": "2024-01-06T04:44:53.599998",
     "status": "completed"
    },
    "tags": []
   },
   "source": [
    "## Data Loading"
   ]
  },
  {
   "cell_type": "code",
   "execution_count": 9,
   "id": "cc87f477",
   "metadata": {
    "execution": {
     "iopub.execute_input": "2024-01-06T04:44:53.624202Z",
     "iopub.status.busy": "2024-01-06T04:44:53.623800Z",
     "iopub.status.idle": "2024-01-06T05:07:07.432141Z",
     "shell.execute_reply": "2024-01-06T05:07:07.430926Z"
    },
    "papermill": {
     "duration": 1333.820293,
     "end_time": "2024-01-06T05:07:07.435161",
     "exception": false,
     "start_time": "2024-01-06T04:44:53.614868",
     "status": "completed"
    },
    "tags": []
   },
   "outputs": [
    {
     "name": "stdout",
     "output_type": "stream",
     "text": [
      "Engineering time data\n",
      "Engineering cursor position data\n",
      "Engineering word count data\n",
      "Engineering statistical summaries for features\n"
     ]
    },
    {
     "name": "stderr",
     "output_type": "stream",
     "text": [
      "100%|██████████| 29/29 [03:43<00:00,  7.71s/it, column=word_count_change100, method=kurt]\n"
     ]
    },
    {
     "name": "stdout",
     "output_type": "stream",
     "text": [
      "Engineering activity counts data\n"
     ]
    },
    {
     "name": "stderr",
     "output_type": "stream",
     "text": [
      "100%|██████████| 2471/2471 [00:00<00:00, 5031.03it/s]\n"
     ]
    },
    {
     "name": "stdout",
     "output_type": "stream",
     "text": [
      "Engineering event counts data\n"
     ]
    },
    {
     "name": "stderr",
     "output_type": "stream",
     "text": [
      "100%|██████████| 2471/2471 [00:00<00:00, 4490.81it/s]\n",
      "100%|██████████| 2471/2471 [00:00<00:00, 3198.93it/s]\n"
     ]
    },
    {
     "name": "stdout",
     "output_type": "stream",
     "text": [
      "Engineering text change counts data\n"
     ]
    },
    {
     "name": "stderr",
     "output_type": "stream",
     "text": [
      "100%|██████████| 2471/2471 [00:00<00:00, 4441.00it/s]\n"
     ]
    },
    {
     "name": "stdout",
     "output_type": "stream",
     "text": [
      "Engineering punctuation counts data\n"
     ]
    },
    {
     "name": "stderr",
     "output_type": "stream",
     "text": [
      "100%|██████████| 2471/2471 [00:00<00:00, 4806.83it/s]\n"
     ]
    },
    {
     "name": "stdout",
     "output_type": "stream",
     "text": [
      "Engineering input words data\n",
      "Calculating pause features\n",
      "<merge brute force agg.>\n",
      "Engineering ratios data\n",
      "<merge duration_features.>\n",
      "<merge countvectorizer_and_tfidf_features.>\n",
      "<merge other features.>\n"
     ]
    },
    {
     "name": "stderr",
     "output_type": "stream",
     "text": [
      "100%|██████████| 5/5 [13:38<00:00, 163.72s/it]\n"
     ]
    },
    {
     "name": "stdout",
     "output_type": "stream",
     "text": [
      "<merge errors features.>\n",
      "merge sentence and paragraph agg features\n",
      "merge R burst features\n",
      "merge difficulty agg features\n"
     ]
    },
    {
     "data": {
      "text/plain": [
       "(2471, 640)"
      ]
     },
     "execution_count": 9,
     "metadata": {},
     "output_type": "execute_result"
    }
   ],
   "source": [
    "data_path     = '/kaggle/input/linking-writing-processes-to-writing-quality/'\n",
    "train_logs    = pd.read_csv(data_path + 'train_logs.csv')\n",
    "train_scores   = pd.read_csv(data_path + 'train_scores.csv')\n",
    "\n",
    "#LGBM V1 train_feats and test_feats\n",
    "preprocessor = Preprocessor_v1(42,train_essays,train_essays_with_upper,train_scores = train_scores)\n",
    "train_feats,tokenizer,save_cols = preprocessor.make_feats(train_logs)\n",
    "train_feats.shape\n",
    "\n",
    "# print('< Mapping >')\n",
    "# data           = train_feats.merge(train_scores, on='id', how='left')\n",
    "# x              = data.drop(['id', 'score'], axis=1)\n",
    "# y              = data['score'].values\n",
    "# print(f'Number of features: {len(x.columns)}')\n",
    "\n",
    "\n",
    "# print('< Testing Data >')\n",
    "# test_logs   = pd.read_csv(data_path + 'test_logs.csv')\n",
    "# test_essays = EssayConstructor().getEssays(test_logs)\n",
    "# test_essays.set_index('id',inplace=True)\n",
    "# test_essays.index.name = None\n",
    "# test_essays_with_upper = getEssays_with_upper(test_logs)\n",
    "# preprocessor = Preprocessor_v1(42,test_essays,test_essays_with_upper,tokenizer=tokenizer,method='test',save_cols=save_cols)\n",
    "# test_feats = preprocessor.make_feats(test_logs)\n",
    "# test_feats.shape"
   ]
  },
  {
   "cell_type": "code",
   "execution_count": 10,
   "id": "992ec474",
   "metadata": {
    "execution": {
     "iopub.execute_input": "2024-01-06T05:07:07.518718Z",
     "iopub.status.busy": "2024-01-06T05:07:07.517410Z",
     "iopub.status.idle": "2024-01-06T05:07:07.535299Z",
     "shell.execute_reply": "2024-01-06T05:07:07.534252Z"
    },
    "papermill": {
     "duration": 0.062115,
     "end_time": "2024-01-06T05:07:07.537562",
     "exception": false,
     "start_time": "2024-01-06T05:07:07.475447",
     "status": "completed"
    },
    "tags": []
   },
   "outputs": [
    {
     "data": {
      "text/html": [
       "<div>\n",
       "<style scoped>\n",
       "    .dataframe tbody tr th:only-of-type {\n",
       "        vertical-align: middle;\n",
       "    }\n",
       "\n",
       "    .dataframe tbody tr th {\n",
       "        vertical-align: top;\n",
       "    }\n",
       "\n",
       "    .dataframe thead th {\n",
       "        text-align: right;\n",
       "    }\n",
       "</style>\n",
       "<table border=\"1\" class=\"dataframe\">\n",
       "  <thead>\n",
       "    <tr style=\"text-align: right;\">\n",
       "      <th></th>\n",
       "      <th>id</th>\n",
       "      <th>score</th>\n",
       "    </tr>\n",
       "  </thead>\n",
       "  <tbody>\n",
       "    <tr>\n",
       "      <th>0</th>\n",
       "      <td>001519c8</td>\n",
       "      <td>3.5</td>\n",
       "    </tr>\n",
       "    <tr>\n",
       "      <th>1</th>\n",
       "      <td>0022f953</td>\n",
       "      <td>3.5</td>\n",
       "    </tr>\n",
       "    <tr>\n",
       "      <th>2</th>\n",
       "      <td>0042269b</td>\n",
       "      <td>6.0</td>\n",
       "    </tr>\n",
       "    <tr>\n",
       "      <th>3</th>\n",
       "      <td>0059420b</td>\n",
       "      <td>2.0</td>\n",
       "    </tr>\n",
       "    <tr>\n",
       "      <th>4</th>\n",
       "      <td>0075873a</td>\n",
       "      <td>4.0</td>\n",
       "    </tr>\n",
       "    <tr>\n",
       "      <th>...</th>\n",
       "      <td>...</td>\n",
       "      <td>...</td>\n",
       "    </tr>\n",
       "    <tr>\n",
       "      <th>2466</th>\n",
       "      <td>ffb8c745</td>\n",
       "      <td>3.5</td>\n",
       "    </tr>\n",
       "    <tr>\n",
       "      <th>2467</th>\n",
       "      <td>ffbef7e5</td>\n",
       "      <td>4.0</td>\n",
       "    </tr>\n",
       "    <tr>\n",
       "      <th>2468</th>\n",
       "      <td>ffccd6fd</td>\n",
       "      <td>1.5</td>\n",
       "    </tr>\n",
       "    <tr>\n",
       "      <th>2469</th>\n",
       "      <td>ffec5b38</td>\n",
       "      <td>5.0</td>\n",
       "    </tr>\n",
       "    <tr>\n",
       "      <th>2470</th>\n",
       "      <td>fff05981</td>\n",
       "      <td>4.0</td>\n",
       "    </tr>\n",
       "  </tbody>\n",
       "</table>\n",
       "<p>2471 rows × 2 columns</p>\n",
       "</div>"
      ],
      "text/plain": [
       "            id  score\n",
       "0     001519c8    3.5\n",
       "1     0022f953    3.5\n",
       "2     0042269b    6.0\n",
       "3     0059420b    2.0\n",
       "4     0075873a    4.0\n",
       "...        ...    ...\n",
       "2466  ffb8c745    3.5\n",
       "2467  ffbef7e5    4.0\n",
       "2468  ffccd6fd    1.5\n",
       "2469  ffec5b38    5.0\n",
       "2470  fff05981    4.0\n",
       "\n",
       "[2471 rows x 2 columns]"
      ]
     },
     "execution_count": 10,
     "metadata": {},
     "output_type": "execute_result"
    }
   ],
   "source": [
    "train_scores"
   ]
  },
  {
   "cell_type": "code",
   "execution_count": 11,
   "id": "12616b27",
   "metadata": {
    "execution": {
     "iopub.execute_input": "2024-01-06T05:07:07.619890Z",
     "iopub.status.busy": "2024-01-06T05:07:07.619457Z",
     "iopub.status.idle": "2024-01-06T05:07:07.653842Z",
     "shell.execute_reply": "2024-01-06T05:07:07.652747Z"
    },
    "papermill": {
     "duration": 0.078095,
     "end_time": "2024-01-06T05:07:07.656282",
     "exception": false,
     "start_time": "2024-01-06T05:07:07.578187",
     "status": "completed"
    },
    "tags": []
   },
   "outputs": [
    {
     "data": {
      "text/html": [
       "<div>\n",
       "<style scoped>\n",
       "    .dataframe tbody tr th:only-of-type {\n",
       "        vertical-align: middle;\n",
       "    }\n",
       "\n",
       "    .dataframe tbody tr th {\n",
       "        vertical-align: top;\n",
       "    }\n",
       "\n",
       "    .dataframe thead th {\n",
       "        text-align: right;\n",
       "    }\n",
       "</style>\n",
       "<table border=\"1\" class=\"dataframe\">\n",
       "  <thead>\n",
       "    <tr style=\"text-align: right;\">\n",
       "      <th></th>\n",
       "      <th>id</th>\n",
       "      <th>event_id_max</th>\n",
       "      <th>activity_nunique</th>\n",
       "      <th>down_event_nunique</th>\n",
       "      <th>up_event_nunique</th>\n",
       "      <th>text_change_nunique</th>\n",
       "      <th>action_time_gap1_max</th>\n",
       "      <th>action_time_gap1_min</th>\n",
       "      <th>action_time_gap1_mean</th>\n",
       "      <th>action_time_gap1_std</th>\n",
       "      <th>...</th>\n",
       "      <th>sentence_long_sum</th>\n",
       "      <th>sentence_mid_max</th>\n",
       "      <th>sentence_mid_mean</th>\n",
       "      <th>sentence_mid_sum</th>\n",
       "      <th>sentence_difficulty_max</th>\n",
       "      <th>sentence_difficulty_mean</th>\n",
       "      <th>sentence_difficulty_sum</th>\n",
       "      <th>sentence_long_words_max</th>\n",
       "      <th>sentence_long_words_mean</th>\n",
       "      <th>sentence_long_words_sum</th>\n",
       "    </tr>\n",
       "  </thead>\n",
       "  <tbody>\n",
       "    <tr>\n",
       "      <th>0</th>\n",
       "      <td>001519c8</td>\n",
       "      <td>2557</td>\n",
       "      <td>7</td>\n",
       "      <td>12</td>\n",
       "      <td>12</td>\n",
       "      <td>17</td>\n",
       "      <td>154136.0</td>\n",
       "      <td>-142.0</td>\n",
       "      <td>586.932707</td>\n",
       "      <td>4294.022274</td>\n",
       "      <td>...</td>\n",
       "      <td>33</td>\n",
       "      <td>8</td>\n",
       "      <td>4.142857</td>\n",
       "      <td>58</td>\n",
       "      <td>52</td>\n",
       "      <td>22.285714</td>\n",
       "      <td>312</td>\n",
       "      <td>13</td>\n",
       "      <td>4.571429</td>\n",
       "      <td>64</td>\n",
       "    </tr>\n",
       "    <tr>\n",
       "      <th>1</th>\n",
       "      <td>0022f953</td>\n",
       "      <td>2454</td>\n",
       "      <td>5</td>\n",
       "      <td>17</td>\n",
       "      <td>17</td>\n",
       "      <td>12</td>\n",
       "      <td>145899.0</td>\n",
       "      <td>-166.0</td>\n",
       "      <td>604.547493</td>\n",
       "      <td>4897.303641</td>\n",
       "      <td>...</td>\n",
       "      <td>18</td>\n",
       "      <td>12</td>\n",
       "      <td>4.466667</td>\n",
       "      <td>67</td>\n",
       "      <td>31</td>\n",
       "      <td>12.066667</td>\n",
       "      <td>181</td>\n",
       "      <td>6</td>\n",
       "      <td>2.000000</td>\n",
       "      <td>30</td>\n",
       "    </tr>\n",
       "    <tr>\n",
       "      <th>2</th>\n",
       "      <td>0042269b</td>\n",
       "      <td>4136</td>\n",
       "      <td>4</td>\n",
       "      <td>13</td>\n",
       "      <td>18</td>\n",
       "      <td>19</td>\n",
       "      <td>153886.0</td>\n",
       "      <td>-250.0</td>\n",
       "      <td>325.520435</td>\n",
       "      <td>3937.359025</td>\n",
       "      <td>...</td>\n",
       "      <td>68</td>\n",
       "      <td>8</td>\n",
       "      <td>4.105263</td>\n",
       "      <td>78</td>\n",
       "      <td>48</td>\n",
       "      <td>31.421053</td>\n",
       "      <td>597</td>\n",
       "      <td>11</td>\n",
       "      <td>6.894737</td>\n",
       "      <td>131</td>\n",
       "    </tr>\n",
       "    <tr>\n",
       "      <th>3</th>\n",
       "      <td>0059420b</td>\n",
       "      <td>1556</td>\n",
       "      <td>5</td>\n",
       "      <td>15</td>\n",
       "      <td>15</td>\n",
       "      <td>10</td>\n",
       "      <td>101690.0</td>\n",
       "      <td>-516.0</td>\n",
       "      <td>754.648232</td>\n",
       "      <td>4242.152639</td>\n",
       "      <td>...</td>\n",
       "      <td>26</td>\n",
       "      <td>6</td>\n",
       "      <td>3.076923</td>\n",
       "      <td>40</td>\n",
       "      <td>24</td>\n",
       "      <td>14.461538</td>\n",
       "      <td>188</td>\n",
       "      <td>7</td>\n",
       "      <td>3.076923</td>\n",
       "      <td>40</td>\n",
       "    </tr>\n",
       "    <tr>\n",
       "      <th>4</th>\n",
       "      <td>0075873a</td>\n",
       "      <td>2531</td>\n",
       "      <td>3</td>\n",
       "      <td>11</td>\n",
       "      <td>11</td>\n",
       "      <td>9</td>\n",
       "      <td>110688.0</td>\n",
       "      <td>-158.0</td>\n",
       "      <td>502.094862</td>\n",
       "      <td>3896.209237</td>\n",
       "      <td>...</td>\n",
       "      <td>25</td>\n",
       "      <td>7</td>\n",
       "      <td>2.625000</td>\n",
       "      <td>42</td>\n",
       "      <td>28</td>\n",
       "      <td>13.875000</td>\n",
       "      <td>222</td>\n",
       "      <td>6</td>\n",
       "      <td>2.875000</td>\n",
       "      <td>46</td>\n",
       "    </tr>\n",
       "    <tr>\n",
       "      <th>...</th>\n",
       "      <td>...</td>\n",
       "      <td>...</td>\n",
       "      <td>...</td>\n",
       "      <td>...</td>\n",
       "      <td>...</td>\n",
       "      <td>...</td>\n",
       "      <td>...</td>\n",
       "      <td>...</td>\n",
       "      <td>...</td>\n",
       "      <td>...</td>\n",
       "      <td>...</td>\n",
       "      <td>...</td>\n",
       "      <td>...</td>\n",
       "      <td>...</td>\n",
       "      <td>...</td>\n",
       "      <td>...</td>\n",
       "      <td>...</td>\n",
       "      <td>...</td>\n",
       "      <td>...</td>\n",
       "      <td>...</td>\n",
       "      <td>...</td>\n",
       "    </tr>\n",
       "    <tr>\n",
       "      <th>2466</th>\n",
       "      <td>ffb8c745</td>\n",
       "      <td>4739</td>\n",
       "      <td>4</td>\n",
       "      <td>13</td>\n",
       "      <td>13</td>\n",
       "      <td>13</td>\n",
       "      <td>128570.0</td>\n",
       "      <td>-117.0</td>\n",
       "      <td>267.942592</td>\n",
       "      <td>3458.823757</td>\n",
       "      <td>...</td>\n",
       "      <td>40</td>\n",
       "      <td>9</td>\n",
       "      <td>4.307692</td>\n",
       "      <td>56</td>\n",
       "      <td>53</td>\n",
       "      <td>23.538462</td>\n",
       "      <td>306</td>\n",
       "      <td>12</td>\n",
       "      <td>5.076923</td>\n",
       "      <td>66</td>\n",
       "    </tr>\n",
       "    <tr>\n",
       "      <th>2467</th>\n",
       "      <td>ffbef7e5</td>\n",
       "      <td>2604</td>\n",
       "      <td>4</td>\n",
       "      <td>11</td>\n",
       "      <td>11</td>\n",
       "      <td>8</td>\n",
       "      <td>267869.0</td>\n",
       "      <td>-64.0</td>\n",
       "      <td>600.545909</td>\n",
       "      <td>5630.628933</td>\n",
       "      <td>...</td>\n",
       "      <td>51</td>\n",
       "      <td>8</td>\n",
       "      <td>3.034483</td>\n",
       "      <td>88</td>\n",
       "      <td>37</td>\n",
       "      <td>11.068966</td>\n",
       "      <td>321</td>\n",
       "      <td>10</td>\n",
       "      <td>2.310345</td>\n",
       "      <td>67</td>\n",
       "    </tr>\n",
       "    <tr>\n",
       "      <th>2468</th>\n",
       "      <td>ffccd6fd</td>\n",
       "      <td>3063</td>\n",
       "      <td>3</td>\n",
       "      <td>11</td>\n",
       "      <td>11</td>\n",
       "      <td>6</td>\n",
       "      <td>229804.0</td>\n",
       "      <td>-87.0</td>\n",
       "      <td>556.597322</td>\n",
       "      <td>5398.118769</td>\n",
       "      <td>...</td>\n",
       "      <td>18</td>\n",
       "      <td>20</td>\n",
       "      <td>12.250000</td>\n",
       "      <td>49</td>\n",
       "      <td>74</td>\n",
       "      <td>48.250000</td>\n",
       "      <td>193</td>\n",
       "      <td>12</td>\n",
       "      <td>9.000000</td>\n",
       "      <td>36</td>\n",
       "    </tr>\n",
       "    <tr>\n",
       "      <th>2469</th>\n",
       "      <td>ffec5b38</td>\n",
       "      <td>3242</td>\n",
       "      <td>3</td>\n",
       "      <td>15</td>\n",
       "      <td>15</td>\n",
       "      <td>13</td>\n",
       "      <td>127733.0</td>\n",
       "      <td>-132.0</td>\n",
       "      <td>370.003085</td>\n",
       "      <td>3462.066161</td>\n",
       "      <td>...</td>\n",
       "      <td>54</td>\n",
       "      <td>9</td>\n",
       "      <td>3.296296</td>\n",
       "      <td>89</td>\n",
       "      <td>37</td>\n",
       "      <td>18.925926</td>\n",
       "      <td>511</td>\n",
       "      <td>9</td>\n",
       "      <td>3.925926</td>\n",
       "      <td>106</td>\n",
       "    </tr>\n",
       "    <tr>\n",
       "      <th>2470</th>\n",
       "      <td>fff05981</td>\n",
       "      <td>3619</td>\n",
       "      <td>6</td>\n",
       "      <td>23</td>\n",
       "      <td>24</td>\n",
       "      <td>46</td>\n",
       "      <td>137607.0</td>\n",
       "      <td>-189.0</td>\n",
       "      <td>477.935600</td>\n",
       "      <td>2985.911031</td>\n",
       "      <td>...</td>\n",
       "      <td>28</td>\n",
       "      <td>12</td>\n",
       "      <td>4.818182</td>\n",
       "      <td>53</td>\n",
       "      <td>91</td>\n",
       "      <td>28.818182</td>\n",
       "      <td>317</td>\n",
       "      <td>19</td>\n",
       "      <td>5.818182</td>\n",
       "      <td>64</td>\n",
       "    </tr>\n",
       "  </tbody>\n",
       "</table>\n",
       "<p>2471 rows × 640 columns</p>\n",
       "</div>"
      ],
      "text/plain": [
       "            id  event_id_max  activity_nunique  down_event_nunique  \\\n",
       "0     001519c8          2557                 7                  12   \n",
       "1     0022f953          2454                 5                  17   \n",
       "2     0042269b          4136                 4                  13   \n",
       "3     0059420b          1556                 5                  15   \n",
       "4     0075873a          2531                 3                  11   \n",
       "...        ...           ...               ...                 ...   \n",
       "2466  ffb8c745          4739                 4                  13   \n",
       "2467  ffbef7e5          2604                 4                  11   \n",
       "2468  ffccd6fd          3063                 3                  11   \n",
       "2469  ffec5b38          3242                 3                  15   \n",
       "2470  fff05981          3619                 6                  23   \n",
       "\n",
       "      up_event_nunique  text_change_nunique  action_time_gap1_max  \\\n",
       "0                   12                   17              154136.0   \n",
       "1                   17                   12              145899.0   \n",
       "2                   18                   19              153886.0   \n",
       "3                   15                   10              101690.0   \n",
       "4                   11                    9              110688.0   \n",
       "...                ...                  ...                   ...   \n",
       "2466                13                   13              128570.0   \n",
       "2467                11                    8              267869.0   \n",
       "2468                11                    6              229804.0   \n",
       "2469                15                   13              127733.0   \n",
       "2470                24                   46              137607.0   \n",
       "\n",
       "      action_time_gap1_min  action_time_gap1_mean  action_time_gap1_std  ...  \\\n",
       "0                   -142.0             586.932707           4294.022274  ...   \n",
       "1                   -166.0             604.547493           4897.303641  ...   \n",
       "2                   -250.0             325.520435           3937.359025  ...   \n",
       "3                   -516.0             754.648232           4242.152639  ...   \n",
       "4                   -158.0             502.094862           3896.209237  ...   \n",
       "...                    ...                    ...                   ...  ...   \n",
       "2466                -117.0             267.942592           3458.823757  ...   \n",
       "2467                 -64.0             600.545909           5630.628933  ...   \n",
       "2468                 -87.0             556.597322           5398.118769  ...   \n",
       "2469                -132.0             370.003085           3462.066161  ...   \n",
       "2470                -189.0             477.935600           2985.911031  ...   \n",
       "\n",
       "      sentence_long_sum  sentence_mid_max  sentence_mid_mean  \\\n",
       "0                    33                 8           4.142857   \n",
       "1                    18                12           4.466667   \n",
       "2                    68                 8           4.105263   \n",
       "3                    26                 6           3.076923   \n",
       "4                    25                 7           2.625000   \n",
       "...                 ...               ...                ...   \n",
       "2466                 40                 9           4.307692   \n",
       "2467                 51                 8           3.034483   \n",
       "2468                 18                20          12.250000   \n",
       "2469                 54                 9           3.296296   \n",
       "2470                 28                12           4.818182   \n",
       "\n",
       "      sentence_mid_sum  sentence_difficulty_max  sentence_difficulty_mean  \\\n",
       "0                   58                       52                 22.285714   \n",
       "1                   67                       31                 12.066667   \n",
       "2                   78                       48                 31.421053   \n",
       "3                   40                       24                 14.461538   \n",
       "4                   42                       28                 13.875000   \n",
       "...                ...                      ...                       ...   \n",
       "2466                56                       53                 23.538462   \n",
       "2467                88                       37                 11.068966   \n",
       "2468                49                       74                 48.250000   \n",
       "2469                89                       37                 18.925926   \n",
       "2470                53                       91                 28.818182   \n",
       "\n",
       "      sentence_difficulty_sum  sentence_long_words_max  \\\n",
       "0                         312                       13   \n",
       "1                         181                        6   \n",
       "2                         597                       11   \n",
       "3                         188                        7   \n",
       "4                         222                        6   \n",
       "...                       ...                      ...   \n",
       "2466                      306                       12   \n",
       "2467                      321                       10   \n",
       "2468                      193                       12   \n",
       "2469                      511                        9   \n",
       "2470                      317                       19   \n",
       "\n",
       "      sentence_long_words_mean  sentence_long_words_sum  \n",
       "0                     4.571429                       64  \n",
       "1                     2.000000                       30  \n",
       "2                     6.894737                      131  \n",
       "3                     3.076923                       40  \n",
       "4                     2.875000                       46  \n",
       "...                        ...                      ...  \n",
       "2466                  5.076923                       66  \n",
       "2467                  2.310345                       67  \n",
       "2468                  9.000000                       36  \n",
       "2469                  3.925926                      106  \n",
       "2470                  5.818182                       64  \n",
       "\n",
       "[2471 rows x 640 columns]"
      ]
     },
     "execution_count": 11,
     "metadata": {},
     "output_type": "execute_result"
    }
   ],
   "source": [
    "train_feats"
   ]
  },
  {
   "cell_type": "code",
   "execution_count": 12,
   "id": "0b18d38e",
   "metadata": {
    "execution": {
     "iopub.execute_input": "2024-01-06T05:07:07.741312Z",
     "iopub.status.busy": "2024-01-06T05:07:07.740858Z",
     "iopub.status.idle": "2024-01-06T05:07:07.758128Z",
     "shell.execute_reply": "2024-01-06T05:07:07.756868Z"
    },
    "papermill": {
     "duration": 0.062147,
     "end_time": "2024-01-06T05:07:07.760745",
     "exception": false,
     "start_time": "2024-01-06T05:07:07.698598",
     "status": "completed"
    },
    "tags": []
   },
   "outputs": [],
   "source": [
    "data           = train_feats.merge(train_scores, on='id', how='left')"
   ]
  },
  {
   "cell_type": "code",
   "execution_count": 13,
   "id": "ced2d507",
   "metadata": {
    "execution": {
     "iopub.execute_input": "2024-01-06T05:07:07.845981Z",
     "iopub.status.busy": "2024-01-06T05:07:07.845538Z",
     "iopub.status.idle": "2024-01-06T05:07:07.879830Z",
     "shell.execute_reply": "2024-01-06T05:07:07.878643Z"
    },
    "papermill": {
     "duration": 0.080049,
     "end_time": "2024-01-06T05:07:07.882265",
     "exception": false,
     "start_time": "2024-01-06T05:07:07.802216",
     "status": "completed"
    },
    "tags": []
   },
   "outputs": [
    {
     "data": {
      "text/html": [
       "<div>\n",
       "<style scoped>\n",
       "    .dataframe tbody tr th:only-of-type {\n",
       "        vertical-align: middle;\n",
       "    }\n",
       "\n",
       "    .dataframe tbody tr th {\n",
       "        vertical-align: top;\n",
       "    }\n",
       "\n",
       "    .dataframe thead th {\n",
       "        text-align: right;\n",
       "    }\n",
       "</style>\n",
       "<table border=\"1\" class=\"dataframe\">\n",
       "  <thead>\n",
       "    <tr style=\"text-align: right;\">\n",
       "      <th></th>\n",
       "      <th>id</th>\n",
       "      <th>event_id_max</th>\n",
       "      <th>activity_nunique</th>\n",
       "      <th>down_event_nunique</th>\n",
       "      <th>up_event_nunique</th>\n",
       "      <th>text_change_nunique</th>\n",
       "      <th>action_time_gap1_max</th>\n",
       "      <th>action_time_gap1_min</th>\n",
       "      <th>action_time_gap1_mean</th>\n",
       "      <th>action_time_gap1_std</th>\n",
       "      <th>...</th>\n",
       "      <th>sentence_mid_max</th>\n",
       "      <th>sentence_mid_mean</th>\n",
       "      <th>sentence_mid_sum</th>\n",
       "      <th>sentence_difficulty_max</th>\n",
       "      <th>sentence_difficulty_mean</th>\n",
       "      <th>sentence_difficulty_sum</th>\n",
       "      <th>sentence_long_words_max</th>\n",
       "      <th>sentence_long_words_mean</th>\n",
       "      <th>sentence_long_words_sum</th>\n",
       "      <th>score_y</th>\n",
       "    </tr>\n",
       "  </thead>\n",
       "  <tbody>\n",
       "    <tr>\n",
       "      <th>0</th>\n",
       "      <td>001519c8</td>\n",
       "      <td>2557</td>\n",
       "      <td>7</td>\n",
       "      <td>12</td>\n",
       "      <td>12</td>\n",
       "      <td>17</td>\n",
       "      <td>154136.0</td>\n",
       "      <td>-142.0</td>\n",
       "      <td>586.932707</td>\n",
       "      <td>4294.022274</td>\n",
       "      <td>...</td>\n",
       "      <td>8</td>\n",
       "      <td>4.142857</td>\n",
       "      <td>58</td>\n",
       "      <td>52</td>\n",
       "      <td>22.285714</td>\n",
       "      <td>312</td>\n",
       "      <td>13</td>\n",
       "      <td>4.571429</td>\n",
       "      <td>64</td>\n",
       "      <td>3.5</td>\n",
       "    </tr>\n",
       "    <tr>\n",
       "      <th>1</th>\n",
       "      <td>0022f953</td>\n",
       "      <td>2454</td>\n",
       "      <td>5</td>\n",
       "      <td>17</td>\n",
       "      <td>17</td>\n",
       "      <td>12</td>\n",
       "      <td>145899.0</td>\n",
       "      <td>-166.0</td>\n",
       "      <td>604.547493</td>\n",
       "      <td>4897.303641</td>\n",
       "      <td>...</td>\n",
       "      <td>12</td>\n",
       "      <td>4.466667</td>\n",
       "      <td>67</td>\n",
       "      <td>31</td>\n",
       "      <td>12.066667</td>\n",
       "      <td>181</td>\n",
       "      <td>6</td>\n",
       "      <td>2.000000</td>\n",
       "      <td>30</td>\n",
       "      <td>3.5</td>\n",
       "    </tr>\n",
       "    <tr>\n",
       "      <th>2</th>\n",
       "      <td>0042269b</td>\n",
       "      <td>4136</td>\n",
       "      <td>4</td>\n",
       "      <td>13</td>\n",
       "      <td>18</td>\n",
       "      <td>19</td>\n",
       "      <td>153886.0</td>\n",
       "      <td>-250.0</td>\n",
       "      <td>325.520435</td>\n",
       "      <td>3937.359025</td>\n",
       "      <td>...</td>\n",
       "      <td>8</td>\n",
       "      <td>4.105263</td>\n",
       "      <td>78</td>\n",
       "      <td>48</td>\n",
       "      <td>31.421053</td>\n",
       "      <td>597</td>\n",
       "      <td>11</td>\n",
       "      <td>6.894737</td>\n",
       "      <td>131</td>\n",
       "      <td>6.0</td>\n",
       "    </tr>\n",
       "    <tr>\n",
       "      <th>3</th>\n",
       "      <td>0059420b</td>\n",
       "      <td>1556</td>\n",
       "      <td>5</td>\n",
       "      <td>15</td>\n",
       "      <td>15</td>\n",
       "      <td>10</td>\n",
       "      <td>101690.0</td>\n",
       "      <td>-516.0</td>\n",
       "      <td>754.648232</td>\n",
       "      <td>4242.152639</td>\n",
       "      <td>...</td>\n",
       "      <td>6</td>\n",
       "      <td>3.076923</td>\n",
       "      <td>40</td>\n",
       "      <td>24</td>\n",
       "      <td>14.461538</td>\n",
       "      <td>188</td>\n",
       "      <td>7</td>\n",
       "      <td>3.076923</td>\n",
       "      <td>40</td>\n",
       "      <td>2.0</td>\n",
       "    </tr>\n",
       "    <tr>\n",
       "      <th>4</th>\n",
       "      <td>0075873a</td>\n",
       "      <td>2531</td>\n",
       "      <td>3</td>\n",
       "      <td>11</td>\n",
       "      <td>11</td>\n",
       "      <td>9</td>\n",
       "      <td>110688.0</td>\n",
       "      <td>-158.0</td>\n",
       "      <td>502.094862</td>\n",
       "      <td>3896.209237</td>\n",
       "      <td>...</td>\n",
       "      <td>7</td>\n",
       "      <td>2.625000</td>\n",
       "      <td>42</td>\n",
       "      <td>28</td>\n",
       "      <td>13.875000</td>\n",
       "      <td>222</td>\n",
       "      <td>6</td>\n",
       "      <td>2.875000</td>\n",
       "      <td>46</td>\n",
       "      <td>4.0</td>\n",
       "    </tr>\n",
       "    <tr>\n",
       "      <th>...</th>\n",
       "      <td>...</td>\n",
       "      <td>...</td>\n",
       "      <td>...</td>\n",
       "      <td>...</td>\n",
       "      <td>...</td>\n",
       "      <td>...</td>\n",
       "      <td>...</td>\n",
       "      <td>...</td>\n",
       "      <td>...</td>\n",
       "      <td>...</td>\n",
       "      <td>...</td>\n",
       "      <td>...</td>\n",
       "      <td>...</td>\n",
       "      <td>...</td>\n",
       "      <td>...</td>\n",
       "      <td>...</td>\n",
       "      <td>...</td>\n",
       "      <td>...</td>\n",
       "      <td>...</td>\n",
       "      <td>...</td>\n",
       "      <td>...</td>\n",
       "    </tr>\n",
       "    <tr>\n",
       "      <th>2466</th>\n",
       "      <td>ffb8c745</td>\n",
       "      <td>4739</td>\n",
       "      <td>4</td>\n",
       "      <td>13</td>\n",
       "      <td>13</td>\n",
       "      <td>13</td>\n",
       "      <td>128570.0</td>\n",
       "      <td>-117.0</td>\n",
       "      <td>267.942592</td>\n",
       "      <td>3458.823757</td>\n",
       "      <td>...</td>\n",
       "      <td>9</td>\n",
       "      <td>4.307692</td>\n",
       "      <td>56</td>\n",
       "      <td>53</td>\n",
       "      <td>23.538462</td>\n",
       "      <td>306</td>\n",
       "      <td>12</td>\n",
       "      <td>5.076923</td>\n",
       "      <td>66</td>\n",
       "      <td>3.5</td>\n",
       "    </tr>\n",
       "    <tr>\n",
       "      <th>2467</th>\n",
       "      <td>ffbef7e5</td>\n",
       "      <td>2604</td>\n",
       "      <td>4</td>\n",
       "      <td>11</td>\n",
       "      <td>11</td>\n",
       "      <td>8</td>\n",
       "      <td>267869.0</td>\n",
       "      <td>-64.0</td>\n",
       "      <td>600.545909</td>\n",
       "      <td>5630.628933</td>\n",
       "      <td>...</td>\n",
       "      <td>8</td>\n",
       "      <td>3.034483</td>\n",
       "      <td>88</td>\n",
       "      <td>37</td>\n",
       "      <td>11.068966</td>\n",
       "      <td>321</td>\n",
       "      <td>10</td>\n",
       "      <td>2.310345</td>\n",
       "      <td>67</td>\n",
       "      <td>4.0</td>\n",
       "    </tr>\n",
       "    <tr>\n",
       "      <th>2468</th>\n",
       "      <td>ffccd6fd</td>\n",
       "      <td>3063</td>\n",
       "      <td>3</td>\n",
       "      <td>11</td>\n",
       "      <td>11</td>\n",
       "      <td>6</td>\n",
       "      <td>229804.0</td>\n",
       "      <td>-87.0</td>\n",
       "      <td>556.597322</td>\n",
       "      <td>5398.118769</td>\n",
       "      <td>...</td>\n",
       "      <td>20</td>\n",
       "      <td>12.250000</td>\n",
       "      <td>49</td>\n",
       "      <td>74</td>\n",
       "      <td>48.250000</td>\n",
       "      <td>193</td>\n",
       "      <td>12</td>\n",
       "      <td>9.000000</td>\n",
       "      <td>36</td>\n",
       "      <td>1.5</td>\n",
       "    </tr>\n",
       "    <tr>\n",
       "      <th>2469</th>\n",
       "      <td>ffec5b38</td>\n",
       "      <td>3242</td>\n",
       "      <td>3</td>\n",
       "      <td>15</td>\n",
       "      <td>15</td>\n",
       "      <td>13</td>\n",
       "      <td>127733.0</td>\n",
       "      <td>-132.0</td>\n",
       "      <td>370.003085</td>\n",
       "      <td>3462.066161</td>\n",
       "      <td>...</td>\n",
       "      <td>9</td>\n",
       "      <td>3.296296</td>\n",
       "      <td>89</td>\n",
       "      <td>37</td>\n",
       "      <td>18.925926</td>\n",
       "      <td>511</td>\n",
       "      <td>9</td>\n",
       "      <td>3.925926</td>\n",
       "      <td>106</td>\n",
       "      <td>5.0</td>\n",
       "    </tr>\n",
       "    <tr>\n",
       "      <th>2470</th>\n",
       "      <td>fff05981</td>\n",
       "      <td>3619</td>\n",
       "      <td>6</td>\n",
       "      <td>23</td>\n",
       "      <td>24</td>\n",
       "      <td>46</td>\n",
       "      <td>137607.0</td>\n",
       "      <td>-189.0</td>\n",
       "      <td>477.935600</td>\n",
       "      <td>2985.911031</td>\n",
       "      <td>...</td>\n",
       "      <td>12</td>\n",
       "      <td>4.818182</td>\n",
       "      <td>53</td>\n",
       "      <td>91</td>\n",
       "      <td>28.818182</td>\n",
       "      <td>317</td>\n",
       "      <td>19</td>\n",
       "      <td>5.818182</td>\n",
       "      <td>64</td>\n",
       "      <td>4.0</td>\n",
       "    </tr>\n",
       "  </tbody>\n",
       "</table>\n",
       "<p>2471 rows × 641 columns</p>\n",
       "</div>"
      ],
      "text/plain": [
       "            id  event_id_max  activity_nunique  down_event_nunique  \\\n",
       "0     001519c8          2557                 7                  12   \n",
       "1     0022f953          2454                 5                  17   \n",
       "2     0042269b          4136                 4                  13   \n",
       "3     0059420b          1556                 5                  15   \n",
       "4     0075873a          2531                 3                  11   \n",
       "...        ...           ...               ...                 ...   \n",
       "2466  ffb8c745          4739                 4                  13   \n",
       "2467  ffbef7e5          2604                 4                  11   \n",
       "2468  ffccd6fd          3063                 3                  11   \n",
       "2469  ffec5b38          3242                 3                  15   \n",
       "2470  fff05981          3619                 6                  23   \n",
       "\n",
       "      up_event_nunique  text_change_nunique  action_time_gap1_max  \\\n",
       "0                   12                   17              154136.0   \n",
       "1                   17                   12              145899.0   \n",
       "2                   18                   19              153886.0   \n",
       "3                   15                   10              101690.0   \n",
       "4                   11                    9              110688.0   \n",
       "...                ...                  ...                   ...   \n",
       "2466                13                   13              128570.0   \n",
       "2467                11                    8              267869.0   \n",
       "2468                11                    6              229804.0   \n",
       "2469                15                   13              127733.0   \n",
       "2470                24                   46              137607.0   \n",
       "\n",
       "      action_time_gap1_min  action_time_gap1_mean  action_time_gap1_std  ...  \\\n",
       "0                   -142.0             586.932707           4294.022274  ...   \n",
       "1                   -166.0             604.547493           4897.303641  ...   \n",
       "2                   -250.0             325.520435           3937.359025  ...   \n",
       "3                   -516.0             754.648232           4242.152639  ...   \n",
       "4                   -158.0             502.094862           3896.209237  ...   \n",
       "...                    ...                    ...                   ...  ...   \n",
       "2466                -117.0             267.942592           3458.823757  ...   \n",
       "2467                 -64.0             600.545909           5630.628933  ...   \n",
       "2468                 -87.0             556.597322           5398.118769  ...   \n",
       "2469                -132.0             370.003085           3462.066161  ...   \n",
       "2470                -189.0             477.935600           2985.911031  ...   \n",
       "\n",
       "      sentence_mid_max  sentence_mid_mean  sentence_mid_sum  \\\n",
       "0                    8           4.142857                58   \n",
       "1                   12           4.466667                67   \n",
       "2                    8           4.105263                78   \n",
       "3                    6           3.076923                40   \n",
       "4                    7           2.625000                42   \n",
       "...                ...                ...               ...   \n",
       "2466                 9           4.307692                56   \n",
       "2467                 8           3.034483                88   \n",
       "2468                20          12.250000                49   \n",
       "2469                 9           3.296296                89   \n",
       "2470                12           4.818182                53   \n",
       "\n",
       "      sentence_difficulty_max  sentence_difficulty_mean  \\\n",
       "0                          52                 22.285714   \n",
       "1                          31                 12.066667   \n",
       "2                          48                 31.421053   \n",
       "3                          24                 14.461538   \n",
       "4                          28                 13.875000   \n",
       "...                       ...                       ...   \n",
       "2466                       53                 23.538462   \n",
       "2467                       37                 11.068966   \n",
       "2468                       74                 48.250000   \n",
       "2469                       37                 18.925926   \n",
       "2470                       91                 28.818182   \n",
       "\n",
       "      sentence_difficulty_sum  sentence_long_words_max  \\\n",
       "0                         312                       13   \n",
       "1                         181                        6   \n",
       "2                         597                       11   \n",
       "3                         188                        7   \n",
       "4                         222                        6   \n",
       "...                       ...                      ...   \n",
       "2466                      306                       12   \n",
       "2467                      321                       10   \n",
       "2468                      193                       12   \n",
       "2469                      511                        9   \n",
       "2470                      317                       19   \n",
       "\n",
       "      sentence_long_words_mean  sentence_long_words_sum  score_y  \n",
       "0                     4.571429                       64      3.5  \n",
       "1                     2.000000                       30      3.5  \n",
       "2                     6.894737                      131      6.0  \n",
       "3                     3.076923                       40      2.0  \n",
       "4                     2.875000                       46      4.0  \n",
       "...                        ...                      ...      ...  \n",
       "2466                  5.076923                       66      3.5  \n",
       "2467                  2.310345                       67      4.0  \n",
       "2468                  9.000000                       36      1.5  \n",
       "2469                  3.925926                      106      5.0  \n",
       "2470                  5.818182                       64      4.0  \n",
       "\n",
       "[2471 rows x 641 columns]"
      ]
     },
     "execution_count": 13,
     "metadata": {},
     "output_type": "execute_result"
    }
   ],
   "source": [
    "data\n"
   ]
  },
  {
   "cell_type": "code",
   "execution_count": 14,
   "id": "536afcd2",
   "metadata": {
    "execution": {
     "iopub.execute_input": "2024-01-06T05:07:07.968705Z",
     "iopub.status.busy": "2024-01-06T05:07:07.968262Z",
     "iopub.status.idle": "2024-01-06T05:07:11.275764Z",
     "shell.execute_reply": "2024-01-06T05:07:11.274608Z"
    },
    "papermill": {
     "duration": 3.353547,
     "end_time": "2024-01-06T05:07:11.278254",
     "exception": false,
     "start_time": "2024-01-06T05:07:07.924707",
     "status": "completed"
    },
    "tags": []
   },
   "outputs": [
    {
     "name": "stdout",
     "output_type": "stream",
     "text": [
      "< Mapping >\n",
      "Number of features: 638\n",
      "< Testing Data >\n"
     ]
    },
    {
     "name": "stderr",
     "output_type": "stream",
     "text": [
      "100%|██████████| 3/3 [00:00<00:00, 1194.05it/s]\n",
      "100%|██████████| 3/3 [00:00<00:00, 459.00it/s]\n"
     ]
    },
    {
     "name": "stdout",
     "output_type": "stream",
     "text": [
      "Engineering time data\n",
      "Engineering cursor position data\n",
      "Engineering word count data\n",
      "Engineering statistical summaries for features\n"
     ]
    },
    {
     "name": "stderr",
     "output_type": "stream",
     "text": [
      "100%|██████████| 29/29 [00:01<00:00, 14.58it/s, column=word_count_change100, method=kurt]\n"
     ]
    },
    {
     "name": "stdout",
     "output_type": "stream",
     "text": [
      "Engineering activity counts data\n"
     ]
    },
    {
     "name": "stderr",
     "output_type": "stream",
     "text": [
      "100%|██████████| 3/3 [00:00<00:00, 19660.80it/s]\n"
     ]
    },
    {
     "name": "stdout",
     "output_type": "stream",
     "text": [
      "Engineering event counts data\n"
     ]
    },
    {
     "name": "stderr",
     "output_type": "stream",
     "text": [
      "100%|██████████| 3/3 [00:00<00:00, 20627.72it/s]\n",
      "100%|██████████| 3/3 [00:00<00:00, 19722.43it/s]\n"
     ]
    },
    {
     "name": "stdout",
     "output_type": "stream",
     "text": [
      "Engineering text change counts data\n"
     ]
    },
    {
     "name": "stderr",
     "output_type": "stream",
     "text": [
      "100%|██████████| 3/3 [00:00<00:00, 16710.37it/s]\n"
     ]
    },
    {
     "name": "stdout",
     "output_type": "stream",
     "text": [
      "Engineering punctuation counts data\n"
     ]
    },
    {
     "name": "stderr",
     "output_type": "stream",
     "text": [
      "100%|██████████| 3/3 [00:00<00:00, 15847.50it/s]\n"
     ]
    },
    {
     "name": "stdout",
     "output_type": "stream",
     "text": [
      "Engineering input words data\n",
      "Calculating pause features\n",
      "<merge brute force agg.>\n",
      "Engineering ratios data\n",
      "<merge duration_features.>\n",
      "<merge countvectorizer_and_tfidf_features.>\n",
      "<merge other features.>\n"
     ]
    },
    {
     "name": "stderr",
     "output_type": "stream",
     "text": [
      "100%|██████████| 5/5 [00:00<00:00,  8.98it/s]\n"
     ]
    },
    {
     "name": "stdout",
     "output_type": "stream",
     "text": [
      "<merge errors features.>\n"
     ]
    },
    {
     "name": "stderr",
     "output_type": "stream",
     "text": [
      "100%|██████████| 3/3 [00:00<00:00, 576.70it/s]\n"
     ]
    },
    {
     "name": "stdout",
     "output_type": "stream",
     "text": [
      "merge sentence and paragraph agg features\n",
      "merge R burst features\n",
      "merge difficulty agg features\n"
     ]
    },
    {
     "data": {
      "text/plain": [
       "(3, 639)"
      ]
     },
     "execution_count": 14,
     "metadata": {},
     "output_type": "execute_result"
    }
   ],
   "source": [
    "print('< Mapping >')\n",
    "data = train_feats\n",
    "# data           = train_feats.merge(train_scores, on='id', how='left')\n",
    "# data = data.rename(columns={'score_y': 'score'})\n",
    "x              = data.drop(['id', 'score'], axis=1)\n",
    "y              = data['score'].values\n",
    "print(f'Number of features: {len(x.columns)}')\n",
    "\n",
    "\n",
    "print('< Testing Data >')\n",
    "test_logs   = pd.read_csv(data_path + 'test_logs.csv')\n",
    "test_essays = EssayConstructor().getEssays(test_logs)\n",
    "test_essays.set_index('id',inplace=True)\n",
    "test_essays.index.name = None\n",
    "test_essays_with_upper = getEssays_with_upper(test_logs)\n",
    "preprocessor = Preprocessor_v1(42,test_essays,test_essays_with_upper,tokenizer=tokenizer,method='test',save_cols=save_cols)\n",
    "test_feats = preprocessor.make_feats(test_logs)\n",
    "test_feats.shape"
   ]
  },
  {
   "cell_type": "code",
   "execution_count": 15,
   "id": "8aca9f67",
   "metadata": {
    "execution": {
     "iopub.execute_input": "2024-01-06T05:07:11.425542Z",
     "iopub.status.busy": "2024-01-06T05:07:11.424798Z",
     "iopub.status.idle": "2024-01-06T05:07:11.451632Z",
     "shell.execute_reply": "2024-01-06T05:07:11.450446Z"
    },
    "papermill": {
     "duration": 0.103604,
     "end_time": "2024-01-06T05:07:11.454021",
     "exception": false,
     "start_time": "2024-01-06T05:07:11.350417",
     "status": "completed"
    },
    "tags": []
   },
   "outputs": [
    {
     "data": {
      "text/html": [
       "<div>\n",
       "<style scoped>\n",
       "    .dataframe tbody tr th:only-of-type {\n",
       "        vertical-align: middle;\n",
       "    }\n",
       "\n",
       "    .dataframe tbody tr th {\n",
       "        vertical-align: top;\n",
       "    }\n",
       "\n",
       "    .dataframe thead th {\n",
       "        text-align: right;\n",
       "    }\n",
       "</style>\n",
       "<table border=\"1\" class=\"dataframe\">\n",
       "  <thead>\n",
       "    <tr style=\"text-align: right;\">\n",
       "      <th></th>\n",
       "      <th>id</th>\n",
       "      <th>event_id_max</th>\n",
       "      <th>activity_nunique</th>\n",
       "      <th>down_event_nunique</th>\n",
       "      <th>up_event_nunique</th>\n",
       "      <th>text_change_nunique</th>\n",
       "      <th>action_time_gap1_max</th>\n",
       "      <th>action_time_gap1_min</th>\n",
       "      <th>action_time_gap1_mean</th>\n",
       "      <th>action_time_gap1_std</th>\n",
       "      <th>...</th>\n",
       "      <th>sentence_long_sum</th>\n",
       "      <th>sentence_mid_max</th>\n",
       "      <th>sentence_mid_mean</th>\n",
       "      <th>sentence_mid_sum</th>\n",
       "      <th>sentence_difficulty_max</th>\n",
       "      <th>sentence_difficulty_mean</th>\n",
       "      <th>sentence_difficulty_sum</th>\n",
       "      <th>sentence_long_words_max</th>\n",
       "      <th>sentence_long_words_mean</th>\n",
       "      <th>sentence_long_words_sum</th>\n",
       "    </tr>\n",
       "  </thead>\n",
       "  <tbody>\n",
       "    <tr>\n",
       "      <th>0</th>\n",
       "      <td>0000aaaa</td>\n",
       "      <td>2</td>\n",
       "      <td>1</td>\n",
       "      <td>1</td>\n",
       "      <td>1</td>\n",
       "      <td>1</td>\n",
       "      <td>421555.0</td>\n",
       "      <td>421555.0</td>\n",
       "      <td>421555.0</td>\n",
       "      <td>NaN</td>\n",
       "      <td>...</td>\n",
       "      <td>NaN</td>\n",
       "      <td>NaN</td>\n",
       "      <td>NaN</td>\n",
       "      <td>NaN</td>\n",
       "      <td>NaN</td>\n",
       "      <td>NaN</td>\n",
       "      <td>NaN</td>\n",
       "      <td>NaN</td>\n",
       "      <td>NaN</td>\n",
       "      <td>NaN</td>\n",
       "    </tr>\n",
       "    <tr>\n",
       "      <th>1</th>\n",
       "      <td>2222bbbb</td>\n",
       "      <td>2</td>\n",
       "      <td>1</td>\n",
       "      <td>1</td>\n",
       "      <td>1</td>\n",
       "      <td>1</td>\n",
       "      <td>-421521.0</td>\n",
       "      <td>-421521.0</td>\n",
       "      <td>-421521.0</td>\n",
       "      <td>NaN</td>\n",
       "      <td>...</td>\n",
       "      <td>0.0</td>\n",
       "      <td>0.0</td>\n",
       "      <td>0.0</td>\n",
       "      <td>0.0</td>\n",
       "      <td>0.0</td>\n",
       "      <td>0.0</td>\n",
       "      <td>0.0</td>\n",
       "      <td>0.0</td>\n",
       "      <td>0.0</td>\n",
       "      <td>0.0</td>\n",
       "    </tr>\n",
       "    <tr>\n",
       "      <th>2</th>\n",
       "      <td>4444cccc</td>\n",
       "      <td>2</td>\n",
       "      <td>1</td>\n",
       "      <td>2</td>\n",
       "      <td>2</td>\n",
       "      <td>2</td>\n",
       "      <td>-450645.0</td>\n",
       "      <td>-450645.0</td>\n",
       "      <td>-450645.0</td>\n",
       "      <td>NaN</td>\n",
       "      <td>...</td>\n",
       "      <td>0.0</td>\n",
       "      <td>0.0</td>\n",
       "      <td>0.0</td>\n",
       "      <td>0.0</td>\n",
       "      <td>0.0</td>\n",
       "      <td>0.0</td>\n",
       "      <td>0.0</td>\n",
       "      <td>0.0</td>\n",
       "      <td>0.0</td>\n",
       "      <td>0.0</td>\n",
       "    </tr>\n",
       "  </tbody>\n",
       "</table>\n",
       "<p>3 rows × 639 columns</p>\n",
       "</div>"
      ],
      "text/plain": [
       "         id  event_id_max  activity_nunique  down_event_nunique  \\\n",
       "0  0000aaaa             2                 1                   1   \n",
       "1  2222bbbb             2                 1                   1   \n",
       "2  4444cccc             2                 1                   2   \n",
       "\n",
       "   up_event_nunique  text_change_nunique  action_time_gap1_max  \\\n",
       "0                 1                    1              421555.0   \n",
       "1                 1                    1             -421521.0   \n",
       "2                 2                    2             -450645.0   \n",
       "\n",
       "   action_time_gap1_min  action_time_gap1_mean  action_time_gap1_std  ...  \\\n",
       "0              421555.0               421555.0                   NaN  ...   \n",
       "1             -421521.0              -421521.0                   NaN  ...   \n",
       "2             -450645.0              -450645.0                   NaN  ...   \n",
       "\n",
       "   sentence_long_sum  sentence_mid_max  sentence_mid_mean  sentence_mid_sum  \\\n",
       "0                NaN               NaN                NaN               NaN   \n",
       "1                0.0               0.0                0.0               0.0   \n",
       "2                0.0               0.0                0.0               0.0   \n",
       "\n",
       "   sentence_difficulty_max  sentence_difficulty_mean  sentence_difficulty_sum  \\\n",
       "0                      NaN                       NaN                      NaN   \n",
       "1                      0.0                       0.0                      0.0   \n",
       "2                      0.0                       0.0                      0.0   \n",
       "\n",
       "   sentence_long_words_max  sentence_long_words_mean  sentence_long_words_sum  \n",
       "0                      NaN                       NaN                      NaN  \n",
       "1                      0.0                       0.0                      0.0  \n",
       "2                      0.0                       0.0                      0.0  \n",
       "\n",
       "[3 rows x 639 columns]"
      ]
     },
     "execution_count": 15,
     "metadata": {},
     "output_type": "execute_result"
    }
   ],
   "source": [
    "test_feats"
   ]
  },
  {
   "cell_type": "markdown",
   "id": "3e536f4b",
   "metadata": {
    "papermill": {
     "duration": 0.071822,
     "end_time": "2024-01-06T05:07:11.597061",
     "exception": false,
     "start_time": "2024-01-06T05:07:11.525239",
     "status": "completed"
    },
    "tags": []
   },
   "source": [
    "## Model Training"
   ]
  },
  {
   "cell_type": "code",
   "execution_count": 16,
   "id": "d82f30ca",
   "metadata": {
    "execution": {
     "iopub.execute_input": "2024-01-06T05:07:11.741564Z",
     "iopub.status.busy": "2024-01-06T05:07:11.740790Z",
     "iopub.status.idle": "2024-01-06T05:07:11.754755Z",
     "shell.execute_reply": "2024-01-06T05:07:11.753705Z"
    },
    "papermill": {
     "duration": 0.089281,
     "end_time": "2024-01-06T05:07:11.757176",
     "exception": false,
     "start_time": "2024-01-06T05:07:11.667895",
     "status": "completed"
    },
    "tags": []
   },
   "outputs": [],
   "source": [
    "def train_valid_split(data_x, data_y, train_idx, valid_idx):\n",
    "    x_train = data_x.iloc[train_idx]\n",
    "    y_train = data_y[train_idx]\n",
    "    x_valid = data_x.iloc[valid_idx]\n",
    "    y_valid = data_y[valid_idx]\n",
    "    return x_train, y_train, x_valid, y_valid\n",
    "\n",
    "def evaluate(data_x, data_y, model, random_state=42, n_splits=5):\n",
    "    skf    = StratifiedKFold(n_splits=n_splits, random_state=random_state, shuffle=True)\n",
    "    test_y = np.zeros(len(data_x))\n",
    "    feature_list = list(data_x)\n",
    "    avg_feature_imp = pd.DataFrame({'feature':feature_list, 'importance':np.zeros(len(feature_list))})\n",
    "\n",
    "    for i, (train_index, valid_index) in enumerate(skf.split(data_x, data_y.astype(str))):\n",
    "        print(f'Fold:{i}:')\n",
    "        train_x, train_y, valid_x, valid_y = train_valid_split(data_x, data_y, train_index, valid_index)\n",
    "\n",
    "        model.fit(train_x, train_y, \n",
    "                  eval_set=[(valid_x, valid_y)],\n",
    "                 )\n",
    "        test_y[valid_index] = model.predict(valid_x, num_iteration=model.best_iteration_)\n",
    "        model.booster_.save_model(f'results/model_fold{i}.txt', num_iteration=model.best_iteration_)\n",
    "\n",
    "        importances = model.feature_importances_\n",
    "        \n",
    "        feature_imp = pd.DataFrame({'feature':feature_list, 'importance':importances})\n",
    "        feature_imp['importance'] = (feature_imp['importance'] - feature_imp['importance'].min())  / (feature_imp['importance'].max() - feature_imp['importance'].min())\n",
    "        avg_feature_imp['importance'] += feature_imp['importance']\n",
    "        feature_imp = feature_imp.sort_values(by='importance', ascending=False)\n",
    "        feature_imp.to_csv(f'results/model_feat_imp_fold{i}.csv', index=False)\n",
    "        print('-'*20)\n",
    "\n",
    "    eval_rmse = mean_squared_error(data_y, test_y, squared=False)\n",
    "    avg_feature_imp['importance'] /= n_splits\n",
    "    avg_feature_imp = avg_feature_imp.sort_values(by='importance', ascending=False)\n",
    "    avg_feature_imp.to_csv('results/model_feat_imp_avg.csv', index=False)\n",
    "    return test_y, eval_rmse, avg_feature_imp\n",
    "\n",
    "def inference(n_splits=5, test_x=None):\n",
    "    test_y = np.zeros((len(test_x), n_splits))\n",
    "    for i in range(n_splits):\n",
    "        use_feats = np.load(f'feature_selection/optimal_feat_select_res_fold{i}.npy', allow_pickle=True)\n",
    "        model = lightgbm.Booster(model_file=f'results/model_fold{i}.txt')\n",
    "        test_y[:, i] = model.predict(test_x[use_feats[2]])\n",
    "    return np.mean(test_y, axis=1)"
   ]
  },
  {
   "cell_type": "code",
   "execution_count": 17,
   "id": "672c023a",
   "metadata": {
    "execution": {
     "iopub.execute_input": "2024-01-06T05:07:11.905431Z",
     "iopub.status.busy": "2024-01-06T05:07:11.905003Z",
     "iopub.status.idle": "2024-01-06T07:14:41.499430Z",
     "shell.execute_reply": "2024-01-06T07:14:41.498120Z"
    },
    "papermill": {
     "duration": 7649.673256,
     "end_time": "2024-01-06T07:14:41.502394",
     "exception": false,
     "start_time": "2024-01-06T05:07:11.829138",
     "status": "completed"
    },
    "tags": []
   },
   "outputs": [
    {
     "name": "stdout",
     "output_type": "stream",
     "text": [
      "Fold:0:\n",
      "Feature Selection (get null_imp_df):\n",
      "Run 50 rounds of model training:\n"
     ]
    },
    {
     "name": "stderr",
     "output_type": "stream",
     "text": [
      "  0%|          | 0/50 [00:00<?, ?it/s]"
     ]
    },
    {
     "name": "stdout",
     "output_type": "stream",
     "text": [
      "[LightGBM] [Warning] bagging_fraction is set=0.75, subsample=0.9778252382803456 will be ignored. Current value: bagging_fraction=0.75\n",
      "[LightGBM] [Warning] bagging_freq is set=1, subsample_freq=0 will be ignored. Current value: bagging_freq=1\n",
      "[LightGBM] [Warning] feature_fraction is set=0.8, colsample_bytree=0.5420247656839267 will be ignored. Current value: feature_fraction=0.8\n"
     ]
    },
    {
     "name": "stderr",
     "output_type": "stream",
     "text": [
      "100%|██████████| 50/50 [04:35<00:00,  5.51s/it]\n"
     ]
    },
    {
     "name": "stdout",
     "output_type": "stream",
     "text": [
      "Feature Selection (actual_imp_df):\n",
      "Run 50 rounds of model training:\n"
     ]
    },
    {
     "name": "stderr",
     "output_type": "stream",
     "text": [
      "100%|██████████| 50/50 [18:31<00:00, 22.22s/it]\n"
     ]
    },
    {
     "name": "stdout",
     "output_type": "stream",
     "text": [
      "Feature Selection by Null Importances: gain:\n"
     ]
    },
    {
     "name": "stderr",
     "output_type": "stream",
     "text": [
      " 11%|█         | 1/9 [00:05<00:46,  5.83s/it]"
     ]
    },
    {
     "name": "stdout",
     "output_type": "stream",
     "text": [
      "[LightGBM] [Warning] bagging_fraction is set=0.75, subsample=0.9778252382803456 will be ignored. Current value: bagging_fraction=0.75\n",
      "[LightGBM] [Warning] bagging_freq is set=1, subsample_freq=0 will be ignored. Current value: bagging_freq=1\n",
      "[LightGBM] [Warning] feature_fraction is set=0.8, colsample_bytree=0.5420247656839267 will be ignored. Current value: feature_fraction=0.8\n"
     ]
    },
    {
     "name": "stderr",
     "output_type": "stream",
     "text": [
      " 22%|██▏       | 2/9 [00:10<00:35,  5.08s/it]"
     ]
    },
    {
     "name": "stdout",
     "output_type": "stream",
     "text": [
      "[LightGBM] [Warning] bagging_fraction is set=0.75, subsample=0.9778252382803456 will be ignored. Current value: bagging_fraction=0.75\n",
      "[LightGBM] [Warning] bagging_freq is set=1, subsample_freq=0 will be ignored. Current value: bagging_freq=1\n",
      "[LightGBM] [Warning] feature_fraction is set=0.8, colsample_bytree=0.5420247656839267 will be ignored. Current value: feature_fraction=0.8\n"
     ]
    },
    {
     "name": "stderr",
     "output_type": "stream",
     "text": [
      " 33%|███▎      | 3/9 [00:15<00:30,  5.11s/it]"
     ]
    },
    {
     "name": "stdout",
     "output_type": "stream",
     "text": [
      "[LightGBM] [Warning] bagging_fraction is set=0.75, subsample=0.9778252382803456 will be ignored. Current value: bagging_fraction=0.75\n",
      "[LightGBM] [Warning] bagging_freq is set=1, subsample_freq=0 will be ignored. Current value: bagging_freq=1\n",
      "[LightGBM] [Warning] feature_fraction is set=0.8, colsample_bytree=0.5420247656839267 will be ignored. Current value: feature_fraction=0.8\n"
     ]
    },
    {
     "name": "stderr",
     "output_type": "stream",
     "text": [
      " 44%|████▍     | 4/9 [00:21<00:26,  5.28s/it]"
     ]
    },
    {
     "name": "stdout",
     "output_type": "stream",
     "text": [
      "[LightGBM] [Warning] bagging_fraction is set=0.75, subsample=0.9778252382803456 will be ignored. Current value: bagging_fraction=0.75\n",
      "[LightGBM] [Warning] bagging_freq is set=1, subsample_freq=0 will be ignored. Current value: bagging_freq=1\n",
      "[LightGBM] [Warning] feature_fraction is set=0.8, colsample_bytree=0.5420247656839267 will be ignored. Current value: feature_fraction=0.8\n"
     ]
    },
    {
     "name": "stderr",
     "output_type": "stream",
     "text": [
      " 56%|█████▌    | 5/9 [00:28<00:24,  6.02s/it]"
     ]
    },
    {
     "name": "stdout",
     "output_type": "stream",
     "text": [
      "[LightGBM] [Warning] bagging_fraction is set=0.75, subsample=0.9778252382803456 will be ignored. Current value: bagging_fraction=0.75\n",
      "[LightGBM] [Warning] bagging_freq is set=1, subsample_freq=0 will be ignored. Current value: bagging_freq=1\n",
      "[LightGBM] [Warning] feature_fraction is set=0.8, colsample_bytree=0.5420247656839267 will be ignored. Current value: feature_fraction=0.8\n"
     ]
    },
    {
     "name": "stderr",
     "output_type": "stream",
     "text": [
      " 67%|██████▋   | 6/9 [00:34<00:18,  6.13s/it]"
     ]
    },
    {
     "name": "stdout",
     "output_type": "stream",
     "text": [
      "[LightGBM] [Warning] bagging_fraction is set=0.75, subsample=0.9778252382803456 will be ignored. Current value: bagging_fraction=0.75\n",
      "[LightGBM] [Warning] bagging_freq is set=1, subsample_freq=0 will be ignored. Current value: bagging_freq=1\n",
      "[LightGBM] [Warning] feature_fraction is set=0.8, colsample_bytree=0.5420247656839267 will be ignored. Current value: feature_fraction=0.8\n"
     ]
    },
    {
     "name": "stderr",
     "output_type": "stream",
     "text": [
      " 78%|███████▊  | 7/9 [00:43<00:14,  7.14s/it]"
     ]
    },
    {
     "name": "stdout",
     "output_type": "stream",
     "text": [
      "[LightGBM] [Warning] bagging_fraction is set=0.75, subsample=0.9778252382803456 will be ignored. Current value: bagging_fraction=0.75\n",
      "[LightGBM] [Warning] bagging_freq is set=1, subsample_freq=0 will be ignored. Current value: bagging_freq=1\n",
      "[LightGBM] [Warning] feature_fraction is set=0.8, colsample_bytree=0.5420247656839267 will be ignored. Current value: feature_fraction=0.8\n"
     ]
    },
    {
     "name": "stderr",
     "output_type": "stream",
     "text": [
      " 89%|████████▉ | 8/9 [00:51<00:07,  7.42s/it]"
     ]
    },
    {
     "name": "stdout",
     "output_type": "stream",
     "text": [
      "[LightGBM] [Warning] bagging_fraction is set=0.75, subsample=0.9778252382803456 will be ignored. Current value: bagging_fraction=0.75\n",
      "[LightGBM] [Warning] bagging_freq is set=1, subsample_freq=0 will be ignored. Current value: bagging_freq=1\n",
      "[LightGBM] [Warning] feature_fraction is set=0.8, colsample_bytree=0.5420247656839267 will be ignored. Current value: feature_fraction=0.8\n"
     ]
    },
    {
     "name": "stderr",
     "output_type": "stream",
     "text": [
      "100%|██████████| 9/9 [01:00<00:00,  6.74s/it]\n"
     ]
    },
    {
     "name": "stdout",
     "output_type": "stream",
     "text": [
      "Feature Selection by Null Importances: split:\n"
     ]
    },
    {
     "name": "stderr",
     "output_type": "stream",
     "text": [
      "  0%|          | 0/9 [00:00<?, ?it/s]"
     ]
    },
    {
     "name": "stdout",
     "output_type": "stream",
     "text": [
      "[LightGBM] [Warning] bagging_fraction is set=0.75, subsample=0.9778252382803456 will be ignored. Current value: bagging_fraction=0.75\n",
      "[LightGBM] [Warning] bagging_freq is set=1, subsample_freq=0 will be ignored. Current value: bagging_freq=1\n",
      "[LightGBM] [Warning] feature_fraction is set=0.8, colsample_bytree=0.5420247656839267 will be ignored. Current value: feature_fraction=0.8\n"
     ]
    },
    {
     "name": "stderr",
     "output_type": "stream",
     "text": [
      " 11%|█         | 1/9 [00:05<00:41,  5.24s/it]"
     ]
    },
    {
     "name": "stdout",
     "output_type": "stream",
     "text": [
      "[LightGBM] [Warning] bagging_fraction is set=0.75, subsample=0.9778252382803456 will be ignored. Current value: bagging_fraction=0.75\n",
      "[LightGBM] [Warning] bagging_freq is set=1, subsample_freq=0 will be ignored. Current value: bagging_freq=1\n",
      "[LightGBM] [Warning] feature_fraction is set=0.8, colsample_bytree=0.5420247656839267 will be ignored. Current value: feature_fraction=0.8\n"
     ]
    },
    {
     "name": "stderr",
     "output_type": "stream",
     "text": [
      " 22%|██▏       | 2/9 [00:12<00:42,  6.14s/it]"
     ]
    },
    {
     "name": "stdout",
     "output_type": "stream",
     "text": [
      "[LightGBM] [Warning] bagging_fraction is set=0.75, subsample=0.9778252382803456 will be ignored. Current value: bagging_fraction=0.75\n",
      "[LightGBM] [Warning] bagging_freq is set=1, subsample_freq=0 will be ignored. Current value: bagging_freq=1\n",
      "[LightGBM] [Warning] feature_fraction is set=0.8, colsample_bytree=0.5420247656839267 will be ignored. Current value: feature_fraction=0.8\n"
     ]
    },
    {
     "name": "stderr",
     "output_type": "stream",
     "text": [
      " 33%|███▎      | 3/9 [00:16<00:32,  5.43s/it]"
     ]
    },
    {
     "name": "stdout",
     "output_type": "stream",
     "text": [
      "[LightGBM] [Warning] bagging_fraction is set=0.75, subsample=0.9778252382803456 will be ignored. Current value: bagging_fraction=0.75\n",
      "[LightGBM] [Warning] bagging_freq is set=1, subsample_freq=0 will be ignored. Current value: bagging_freq=1\n",
      "[LightGBM] [Warning] feature_fraction is set=0.8, colsample_bytree=0.5420247656839267 will be ignored. Current value: feature_fraction=0.8\n"
     ]
    },
    {
     "name": "stderr",
     "output_type": "stream",
     "text": [
      " 44%|████▍     | 4/9 [00:22<00:27,  5.49s/it]"
     ]
    },
    {
     "name": "stdout",
     "output_type": "stream",
     "text": [
      "[LightGBM] [Warning] bagging_fraction is set=0.75, subsample=0.9778252382803456 will be ignored. Current value: bagging_fraction=0.75\n",
      "[LightGBM] [Warning] bagging_freq is set=1, subsample_freq=0 will be ignored. Current value: bagging_freq=1\n",
      "[LightGBM] [Warning] feature_fraction is set=0.8, colsample_bytree=0.5420247656839267 will be ignored. Current value: feature_fraction=0.8\n"
     ]
    },
    {
     "name": "stderr",
     "output_type": "stream",
     "text": [
      " 56%|█████▌    | 5/9 [00:28<00:23,  5.86s/it]"
     ]
    },
    {
     "name": "stdout",
     "output_type": "stream",
     "text": [
      "[LightGBM] [Warning] bagging_fraction is set=0.75, subsample=0.9778252382803456 will be ignored. Current value: bagging_fraction=0.75\n",
      "[LightGBM] [Warning] bagging_freq is set=1, subsample_freq=0 will be ignored. Current value: bagging_freq=1\n",
      "[LightGBM] [Warning] feature_fraction is set=0.8, colsample_bytree=0.5420247656839267 will be ignored. Current value: feature_fraction=0.8\n"
     ]
    },
    {
     "name": "stderr",
     "output_type": "stream",
     "text": [
      " 67%|██████▋   | 6/9 [00:35<00:18,  6.14s/it]"
     ]
    },
    {
     "name": "stdout",
     "output_type": "stream",
     "text": [
      "[LightGBM] [Warning] bagging_fraction is set=0.75, subsample=0.9778252382803456 will be ignored. Current value: bagging_fraction=0.75\n",
      "[LightGBM] [Warning] bagging_freq is set=1, subsample_freq=0 will be ignored. Current value: bagging_freq=1\n",
      "[LightGBM] [Warning] feature_fraction is set=0.8, colsample_bytree=0.5420247656839267 will be ignored. Current value: feature_fraction=0.8\n"
     ]
    },
    {
     "name": "stderr",
     "output_type": "stream",
     "text": [
      " 78%|███████▊  | 7/9 [00:44<00:14,  7.15s/it]"
     ]
    },
    {
     "name": "stdout",
     "output_type": "stream",
     "text": [
      "[LightGBM] [Warning] bagging_fraction is set=0.75, subsample=0.9778252382803456 will be ignored. Current value: bagging_fraction=0.75\n",
      "[LightGBM] [Warning] bagging_freq is set=1, subsample_freq=0 will be ignored. Current value: bagging_freq=1\n",
      "[LightGBM] [Warning] feature_fraction is set=0.8, colsample_bytree=0.5420247656839267 will be ignored. Current value: feature_fraction=0.8\n"
     ]
    },
    {
     "name": "stderr",
     "output_type": "stream",
     "text": [
      " 89%|████████▉ | 8/9 [00:52<00:07,  7.42s/it]"
     ]
    },
    {
     "name": "stdout",
     "output_type": "stream",
     "text": [
      "[LightGBM] [Warning] bagging_fraction is set=0.75, subsample=0.9778252382803456 will be ignored. Current value: bagging_fraction=0.75\n",
      "[LightGBM] [Warning] bagging_freq is set=1, subsample_freq=0 will be ignored. Current value: bagging_freq=1\n",
      "[LightGBM] [Warning] feature_fraction is set=0.8, colsample_bytree=0.5420247656839267 will be ignored. Current value: feature_fraction=0.8\n"
     ]
    },
    {
     "name": "stderr",
     "output_type": "stream",
     "text": [
      "100%|██████████| 9/9 [01:01<00:00,  6.79s/it]\n"
     ]
    },
    {
     "name": "stdout",
     "output_type": "stream",
     "text": [
      "Feature Selection by Null Importances: both:\n"
     ]
    },
    {
     "name": "stderr",
     "output_type": "stream",
     "text": [
      "  0%|          | 0/9 [00:00<?, ?it/s]"
     ]
    },
    {
     "name": "stdout",
     "output_type": "stream",
     "text": [
      "[LightGBM] [Warning] bagging_fraction is set=0.75, subsample=0.9778252382803456 will be ignored. Current value: bagging_fraction=0.75\n",
      "[LightGBM] [Warning] bagging_freq is set=1, subsample_freq=0 will be ignored. Current value: bagging_freq=1\n",
      "[LightGBM] [Warning] feature_fraction is set=0.8, colsample_bytree=0.5420247656839267 will be ignored. Current value: feature_fraction=0.8\n"
     ]
    },
    {
     "name": "stderr",
     "output_type": "stream",
     "text": [
      " 11%|█         | 1/9 [00:05<00:42,  5.27s/it]"
     ]
    },
    {
     "name": "stdout",
     "output_type": "stream",
     "text": [
      "[LightGBM] [Warning] bagging_fraction is set=0.75, subsample=0.9778252382803456 will be ignored. Current value: bagging_fraction=0.75\n",
      "[LightGBM] [Warning] bagging_freq is set=1, subsample_freq=0 will be ignored. Current value: bagging_freq=1\n",
      "[LightGBM] [Warning] feature_fraction is set=0.8, colsample_bytree=0.5420247656839267 will be ignored. Current value: feature_fraction=0.8\n"
     ]
    },
    {
     "name": "stderr",
     "output_type": "stream",
     "text": [
      " 22%|██▏       | 2/9 [00:10<00:36,  5.15s/it]"
     ]
    },
    {
     "name": "stdout",
     "output_type": "stream",
     "text": [
      "[LightGBM] [Warning] bagging_fraction is set=0.75, subsample=0.9778252382803456 will be ignored. Current value: bagging_fraction=0.75\n",
      "[LightGBM] [Warning] bagging_freq is set=1, subsample_freq=0 will be ignored. Current value: bagging_freq=1\n",
      "[LightGBM] [Warning] feature_fraction is set=0.8, colsample_bytree=0.5420247656839267 will be ignored. Current value: feature_fraction=0.8\n"
     ]
    },
    {
     "name": "stderr",
     "output_type": "stream",
     "text": [
      " 33%|███▎      | 3/9 [00:16<00:33,  5.51s/it]"
     ]
    },
    {
     "name": "stdout",
     "output_type": "stream",
     "text": [
      "[LightGBM] [Warning] bagging_fraction is set=0.75, subsample=0.9778252382803456 will be ignored. Current value: bagging_fraction=0.75\n",
      "[LightGBM] [Warning] bagging_freq is set=1, subsample_freq=0 will be ignored. Current value: bagging_freq=1\n",
      "[LightGBM] [Warning] feature_fraction is set=0.8, colsample_bytree=0.5420247656839267 will be ignored. Current value: feature_fraction=0.8\n"
     ]
    },
    {
     "name": "stderr",
     "output_type": "stream",
     "text": [
      " 44%|████▍     | 4/9 [00:23<00:29,  5.99s/it]"
     ]
    },
    {
     "name": "stdout",
     "output_type": "stream",
     "text": [
      "[LightGBM] [Warning] bagging_fraction is set=0.75, subsample=0.9778252382803456 will be ignored. Current value: bagging_fraction=0.75\n",
      "[LightGBM] [Warning] bagging_freq is set=1, subsample_freq=0 will be ignored. Current value: bagging_freq=1\n",
      "[LightGBM] [Warning] feature_fraction is set=0.8, colsample_bytree=0.5420247656839267 will be ignored. Current value: feature_fraction=0.8\n"
     ]
    },
    {
     "name": "stderr",
     "output_type": "stream",
     "text": [
      " 56%|█████▌    | 5/9 [00:28<00:22,  5.73s/it]"
     ]
    },
    {
     "name": "stdout",
     "output_type": "stream",
     "text": [
      "[LightGBM] [Warning] bagging_fraction is set=0.75, subsample=0.9778252382803456 will be ignored. Current value: bagging_fraction=0.75\n",
      "[LightGBM] [Warning] bagging_freq is set=1, subsample_freq=0 will be ignored. Current value: bagging_freq=1\n",
      "[LightGBM] [Warning] feature_fraction is set=0.8, colsample_bytree=0.5420247656839267 will be ignored. Current value: feature_fraction=0.8\n"
     ]
    },
    {
     "name": "stderr",
     "output_type": "stream",
     "text": [
      " 67%|██████▋   | 6/9 [00:34<00:17,  5.99s/it]"
     ]
    },
    {
     "name": "stdout",
     "output_type": "stream",
     "text": [
      "[LightGBM] [Warning] bagging_fraction is set=0.75, subsample=0.9778252382803456 will be ignored. Current value: bagging_fraction=0.75\n",
      "[LightGBM] [Warning] bagging_freq is set=1, subsample_freq=0 will be ignored. Current value: bagging_freq=1\n",
      "[LightGBM] [Warning] feature_fraction is set=0.8, colsample_bytree=0.5420247656839267 will be ignored. Current value: feature_fraction=0.8\n"
     ]
    },
    {
     "name": "stderr",
     "output_type": "stream",
     "text": [
      " 78%|███████▊  | 7/9 [00:43<00:14,  7.04s/it]"
     ]
    },
    {
     "name": "stdout",
     "output_type": "stream",
     "text": [
      "[LightGBM] [Warning] bagging_fraction is set=0.75, subsample=0.9778252382803456 will be ignored. Current value: bagging_fraction=0.75\n",
      "[LightGBM] [Warning] bagging_freq is set=1, subsample_freq=0 will be ignored. Current value: bagging_freq=1\n",
      "[LightGBM] [Warning] feature_fraction is set=0.8, colsample_bytree=0.5420247656839267 will be ignored. Current value: feature_fraction=0.8\n"
     ]
    },
    {
     "name": "stderr",
     "output_type": "stream",
     "text": [
      " 89%|████████▉ | 8/9 [00:52<00:07,  7.37s/it]"
     ]
    },
    {
     "name": "stdout",
     "output_type": "stream",
     "text": [
      "[LightGBM] [Warning] bagging_fraction is set=0.75, subsample=0.9778252382803456 will be ignored. Current value: bagging_fraction=0.75\n",
      "[LightGBM] [Warning] bagging_freq is set=1, subsample_freq=0 will be ignored. Current value: bagging_freq=1\n",
      "[LightGBM] [Warning] feature_fraction is set=0.8, colsample_bytree=0.5420247656839267 will be ignored. Current value: feature_fraction=0.8\n"
     ]
    },
    {
     "name": "stderr",
     "output_type": "stream",
     "text": [
      "100%|██████████| 9/9 [01:00<00:00,  6.73s/it]\n"
     ]
    },
    {
     "name": "stdout",
     "output_type": "stream",
     "text": [
      "After feature selection: 638 -> 638.\n",
      "[LightGBM] [Warning] bagging_fraction is set=0.75, subsample=0.9778252382803456 will be ignored. Current value: bagging_fraction=0.75\n",
      "[LightGBM] [Warning] bagging_freq is set=1, subsample_freq=0 will be ignored. Current value: bagging_freq=1\n",
      "[LightGBM] [Warning] feature_fraction is set=0.8, colsample_bytree=0.5420247656839267 will be ignored. Current value: feature_fraction=0.8\n",
      "[1]\tvalid_0's rmse: 1.01245\n",
      "[2]\tvalid_0's rmse: 1.00248\n",
      "[3]\tvalid_0's rmse: 0.992275\n",
      "[4]\tvalid_0's rmse: 0.982615\n",
      "[5]\tvalid_0's rmse: 0.97331\n",
      "[6]\tvalid_0's rmse: 0.963503\n",
      "[7]\tvalid_0's rmse: 0.954021\n",
      "[8]\tvalid_0's rmse: 0.945054\n",
      "[9]\tvalid_0's rmse: 0.936179\n",
      "[10]\tvalid_0's rmse: 0.927516\n",
      "[11]\tvalid_0's rmse: 0.919284\n",
      "[12]\tvalid_0's rmse: 0.911439\n",
      "[13]\tvalid_0's rmse: 0.903608\n",
      "[14]\tvalid_0's rmse: 0.895495\n",
      "[15]\tvalid_0's rmse: 0.887919\n",
      "[16]\tvalid_0's rmse: 0.880713\n",
      "[17]\tvalid_0's rmse: 0.873405\n",
      "[18]\tvalid_0's rmse: 0.866058\n",
      "[19]\tvalid_0's rmse: 0.859375\n",
      "[20]\tvalid_0's rmse: 0.852566\n",
      "[21]\tvalid_0's rmse: 0.845207\n",
      "[22]\tvalid_0's rmse: 0.838838\n",
      "[23]\tvalid_0's rmse: 0.832696\n",
      "[24]\tvalid_0's rmse: 0.826583\n",
      "[25]\tvalid_0's rmse: 0.820468\n",
      "[26]\tvalid_0's rmse: 0.814493\n",
      "[27]\tvalid_0's rmse: 0.808853\n",
      "[28]\tvalid_0's rmse: 0.803381\n",
      "[29]\tvalid_0's rmse: 0.797906\n",
      "[30]\tvalid_0's rmse: 0.79266\n",
      "[31]\tvalid_0's rmse: 0.787787\n",
      "[32]\tvalid_0's rmse: 0.782864\n",
      "[33]\tvalid_0's rmse: 0.778011\n",
      "[34]\tvalid_0's rmse: 0.772976\n",
      "[35]\tvalid_0's rmse: 0.768304\n",
      "[36]\tvalid_0's rmse: 0.763696\n",
      "[37]\tvalid_0's rmse: 0.759007\n",
      "[38]\tvalid_0's rmse: 0.754341\n",
      "[39]\tvalid_0's rmse: 0.750023\n",
      "[40]\tvalid_0's rmse: 0.745918\n",
      "[41]\tvalid_0's rmse: 0.741905\n",
      "[42]\tvalid_0's rmse: 0.738097\n",
      "[43]\tvalid_0's rmse: 0.734054\n",
      "[44]\tvalid_0's rmse: 0.730153\n",
      "[45]\tvalid_0's rmse: 0.726545\n",
      "[46]\tvalid_0's rmse: 0.722726\n",
      "[47]\tvalid_0's rmse: 0.719066\n",
      "[48]\tvalid_0's rmse: 0.715616\n",
      "[49]\tvalid_0's rmse: 0.712312\n",
      "[50]\tvalid_0's rmse: 0.708971\n",
      "[51]\tvalid_0's rmse: 0.706194\n",
      "[52]\tvalid_0's rmse: 0.703041\n",
      "[53]\tvalid_0's rmse: 0.700037\n",
      "[54]\tvalid_0's rmse: 0.697498\n",
      "[55]\tvalid_0's rmse: 0.694964\n",
      "[56]\tvalid_0's rmse: 0.692266\n",
      "[57]\tvalid_0's rmse: 0.689451\n",
      "[58]\tvalid_0's rmse: 0.687055\n",
      "[59]\tvalid_0's rmse: 0.684581\n",
      "[60]\tvalid_0's rmse: 0.681951\n",
      "[61]\tvalid_0's rmse: 0.679842\n",
      "[62]\tvalid_0's rmse: 0.677383\n",
      "[63]\tvalid_0's rmse: 0.675116\n",
      "[64]\tvalid_0's rmse: 0.672806\n",
      "[65]\tvalid_0's rmse: 0.670946\n",
      "[66]\tvalid_0's rmse: 0.668995\n",
      "[67]\tvalid_0's rmse: 0.667266\n",
      "[68]\tvalid_0's rmse: 0.665318\n",
      "[69]\tvalid_0's rmse: 0.663541\n",
      "[70]\tvalid_0's rmse: 0.661751\n",
      "[71]\tvalid_0's rmse: 0.659882\n",
      "[72]\tvalid_0's rmse: 0.658187\n",
      "[73]\tvalid_0's rmse: 0.656661\n",
      "[74]\tvalid_0's rmse: 0.655287\n",
      "[75]\tvalid_0's rmse: 0.653934\n",
      "[76]\tvalid_0's rmse: 0.652532\n",
      "[77]\tvalid_0's rmse: 0.650968\n",
      "[78]\tvalid_0's rmse: 0.649702\n",
      "[79]\tvalid_0's rmse: 0.648267\n",
      "[80]\tvalid_0's rmse: 0.647023\n",
      "[81]\tvalid_0's rmse: 0.645415\n",
      "[82]\tvalid_0's rmse: 0.643941\n",
      "[83]\tvalid_0's rmse: 0.642788\n",
      "[84]\tvalid_0's rmse: 0.641504\n",
      "[85]\tvalid_0's rmse: 0.640134\n",
      "[86]\tvalid_0's rmse: 0.638854\n",
      "[87]\tvalid_0's rmse: 0.637387\n",
      "[88]\tvalid_0's rmse: 0.636271\n",
      "[89]\tvalid_0's rmse: 0.63493\n",
      "[90]\tvalid_0's rmse: 0.633787\n",
      "[91]\tvalid_0's rmse: 0.632935\n",
      "[92]\tvalid_0's rmse: 0.631891\n",
      "[93]\tvalid_0's rmse: 0.630833\n",
      "[94]\tvalid_0's rmse: 0.629841\n",
      "[95]\tvalid_0's rmse: 0.62872\n",
      "[96]\tvalid_0's rmse: 0.627584\n",
      "[97]\tvalid_0's rmse: 0.62681\n",
      "[98]\tvalid_0's rmse: 0.625703\n",
      "[99]\tvalid_0's rmse: 0.624667\n",
      "[100]\tvalid_0's rmse: 0.623646\n",
      "[101]\tvalid_0's rmse: 0.622458\n",
      "[102]\tvalid_0's rmse: 0.621379\n",
      "[103]\tvalid_0's rmse: 0.620385\n",
      "[104]\tvalid_0's rmse: 0.619448\n",
      "[105]\tvalid_0's rmse: 0.618609\n",
      "[106]\tvalid_0's rmse: 0.618046\n",
      "[107]\tvalid_0's rmse: 0.617173\n",
      "[108]\tvalid_0's rmse: 0.616356\n",
      "[109]\tvalid_0's rmse: 0.61543\n",
      "[110]\tvalid_0's rmse: 0.615099\n",
      "[111]\tvalid_0's rmse: 0.614399\n",
      "[112]\tvalid_0's rmse: 0.61366\n",
      "[113]\tvalid_0's rmse: 0.613186\n",
      "[114]\tvalid_0's rmse: 0.612722\n",
      "[115]\tvalid_0's rmse: 0.61216\n",
      "[116]\tvalid_0's rmse: 0.611608\n",
      "[117]\tvalid_0's rmse: 0.611046\n",
      "[118]\tvalid_0's rmse: 0.610155\n",
      "[119]\tvalid_0's rmse: 0.609591\n",
      "[120]\tvalid_0's rmse: 0.60896\n",
      "[121]\tvalid_0's rmse: 0.608653\n",
      "[122]\tvalid_0's rmse: 0.608223\n",
      "[123]\tvalid_0's rmse: 0.607663\n",
      "[124]\tvalid_0's rmse: 0.607123\n",
      "[125]\tvalid_0's rmse: 0.606782\n",
      "[126]\tvalid_0's rmse: 0.606389\n",
      "[127]\tvalid_0's rmse: 0.606045\n",
      "[128]\tvalid_0's rmse: 0.605624\n",
      "[129]\tvalid_0's rmse: 0.605302\n",
      "[130]\tvalid_0's rmse: 0.604898\n",
      "[131]\tvalid_0's rmse: 0.604666\n",
      "[132]\tvalid_0's rmse: 0.60426\n",
      "[133]\tvalid_0's rmse: 0.603904\n",
      "[134]\tvalid_0's rmse: 0.603493\n",
      "[135]\tvalid_0's rmse: 0.603142\n",
      "[136]\tvalid_0's rmse: 0.603097\n",
      "[137]\tvalid_0's rmse: 0.602623\n",
      "[138]\tvalid_0's rmse: 0.602166\n",
      "[139]\tvalid_0's rmse: 0.601844\n",
      "[140]\tvalid_0's rmse: 0.601593\n",
      "[141]\tvalid_0's rmse: 0.601281\n",
      "[142]\tvalid_0's rmse: 0.60109\n",
      "[143]\tvalid_0's rmse: 0.600824\n",
      "[144]\tvalid_0's rmse: 0.600424\n",
      "[145]\tvalid_0's rmse: 0.600121\n",
      "[146]\tvalid_0's rmse: 0.599795\n",
      "[147]\tvalid_0's rmse: 0.59948\n",
      "[148]\tvalid_0's rmse: 0.599115\n",
      "[149]\tvalid_0's rmse: 0.599127\n",
      "[150]\tvalid_0's rmse: 0.598731\n",
      "[151]\tvalid_0's rmse: 0.598445\n",
      "[152]\tvalid_0's rmse: 0.598065\n",
      "[153]\tvalid_0's rmse: 0.597856\n",
      "[154]\tvalid_0's rmse: 0.597587\n",
      "[155]\tvalid_0's rmse: 0.597224\n",
      "[156]\tvalid_0's rmse: 0.597196\n",
      "[157]\tvalid_0's rmse: 0.596881\n",
      "[158]\tvalid_0's rmse: 0.596722\n",
      "[159]\tvalid_0's rmse: 0.596482\n",
      "[160]\tvalid_0's rmse: 0.596069\n",
      "[161]\tvalid_0's rmse: 0.595899\n",
      "[162]\tvalid_0's rmse: 0.595672\n",
      "[163]\tvalid_0's rmse: 0.595506\n",
      "[164]\tvalid_0's rmse: 0.595288\n",
      "[165]\tvalid_0's rmse: 0.595106\n",
      "[166]\tvalid_0's rmse: 0.594777\n",
      "[167]\tvalid_0's rmse: 0.594471\n",
      "[168]\tvalid_0's rmse: 0.594218\n",
      "[169]\tvalid_0's rmse: 0.594155\n",
      "[170]\tvalid_0's rmse: 0.593603\n",
      "[171]\tvalid_0's rmse: 0.593513\n",
      "[172]\tvalid_0's rmse: 0.593389\n",
      "[173]\tvalid_0's rmse: 0.593257\n",
      "[174]\tvalid_0's rmse: 0.593171\n",
      "[175]\tvalid_0's rmse: 0.593014\n",
      "[176]\tvalid_0's rmse: 0.592886\n",
      "[177]\tvalid_0's rmse: 0.592458\n",
      "[178]\tvalid_0's rmse: 0.592399\n",
      "[179]\tvalid_0's rmse: 0.592182\n",
      "[180]\tvalid_0's rmse: 0.592162\n",
      "[181]\tvalid_0's rmse: 0.592086\n",
      "[182]\tvalid_0's rmse: 0.591766\n",
      "[183]\tvalid_0's rmse: 0.591638\n",
      "[184]\tvalid_0's rmse: 0.591655\n",
      "[185]\tvalid_0's rmse: 0.591946\n",
      "[186]\tvalid_0's rmse: 0.591652\n",
      "[187]\tvalid_0's rmse: 0.591397\n",
      "[188]\tvalid_0's rmse: 0.591215\n",
      "[189]\tvalid_0's rmse: 0.591206\n",
      "[190]\tvalid_0's rmse: 0.591191\n",
      "[191]\tvalid_0's rmse: 0.591024\n",
      "[192]\tvalid_0's rmse: 0.590915\n",
      "[193]\tvalid_0's rmse: 0.590809\n",
      "[194]\tvalid_0's rmse: 0.590775\n",
      "[195]\tvalid_0's rmse: 0.590395\n",
      "[196]\tvalid_0's rmse: 0.590309\n",
      "[197]\tvalid_0's rmse: 0.590441\n",
      "[198]\tvalid_0's rmse: 0.590567\n",
      "[199]\tvalid_0's rmse: 0.590535\n",
      "[200]\tvalid_0's rmse: 0.590524\n",
      "[201]\tvalid_0's rmse: 0.590435\n",
      "[202]\tvalid_0's rmse: 0.590423\n",
      "[203]\tvalid_0's rmse: 0.590155\n",
      "[204]\tvalid_0's rmse: 0.589926\n",
      "[205]\tvalid_0's rmse: 0.589985\n",
      "[206]\tvalid_0's rmse: 0.590012\n",
      "[207]\tvalid_0's rmse: 0.589881\n",
      "[208]\tvalid_0's rmse: 0.589688\n",
      "[209]\tvalid_0's rmse: 0.589626\n",
      "[210]\tvalid_0's rmse: 0.589518\n",
      "[211]\tvalid_0's rmse: 0.589439\n",
      "[212]\tvalid_0's rmse: 0.589155\n",
      "[213]\tvalid_0's rmse: 0.589244\n",
      "[214]\tvalid_0's rmse: 0.589105\n",
      "[215]\tvalid_0's rmse: 0.589096\n",
      "[216]\tvalid_0's rmse: 0.589074\n",
      "[217]\tvalid_0's rmse: 0.588984\n",
      "[218]\tvalid_0's rmse: 0.588983\n",
      "[219]\tvalid_0's rmse: 0.58917\n",
      "[220]\tvalid_0's rmse: 0.589142\n",
      "[221]\tvalid_0's rmse: 0.589124\n",
      "[222]\tvalid_0's rmse: 0.588977\n",
      "[223]\tvalid_0's rmse: 0.589066\n",
      "[224]\tvalid_0's rmse: 0.588941\n",
      "[225]\tvalid_0's rmse: 0.588986\n",
      "[226]\tvalid_0's rmse: 0.588951\n",
      "[227]\tvalid_0's rmse: 0.589171\n",
      "[228]\tvalid_0's rmse: 0.58914\n",
      "[229]\tvalid_0's rmse: 0.589108\n",
      "[230]\tvalid_0's rmse: 0.589117\n",
      "[231]\tvalid_0's rmse: 0.589274\n",
      "[232]\tvalid_0's rmse: 0.58945\n",
      "[233]\tvalid_0's rmse: 0.589483\n",
      "[234]\tvalid_0's rmse: 0.589374\n",
      "[235]\tvalid_0's rmse: 0.589535\n",
      "[236]\tvalid_0's rmse: 0.589741\n",
      "[237]\tvalid_0's rmse: 0.58962\n",
      "[238]\tvalid_0's rmse: 0.589694\n",
      "[239]\tvalid_0's rmse: 0.589522\n",
      "[240]\tvalid_0's rmse: 0.589468\n",
      "[241]\tvalid_0's rmse: 0.589377\n",
      "[242]\tvalid_0's rmse: 0.589323\n",
      "[243]\tvalid_0's rmse: 0.589451\n",
      "[244]\tvalid_0's rmse: 0.589497\n",
      "[245]\tvalid_0's rmse: 0.589223\n",
      "[246]\tvalid_0's rmse: 0.58908\n",
      "[247]\tvalid_0's rmse: 0.589011\n",
      "[248]\tvalid_0's rmse: 0.588979\n",
      "[249]\tvalid_0's rmse: 0.588962\n",
      "[250]\tvalid_0's rmse: 0.588941\n",
      "[251]\tvalid_0's rmse: 0.588889\n",
      "[252]\tvalid_0's rmse: 0.588957\n",
      "[253]\tvalid_0's rmse: 0.588872\n",
      "[254]\tvalid_0's rmse: 0.58855\n",
      "[255]\tvalid_0's rmse: 0.588402\n",
      "[256]\tvalid_0's rmse: 0.588392\n",
      "[257]\tvalid_0's rmse: 0.588588\n",
      "[258]\tvalid_0's rmse: 0.588798\n",
      "[259]\tvalid_0's rmse: 0.588829\n",
      "[260]\tvalid_0's rmse: 0.588997\n",
      "[261]\tvalid_0's rmse: 0.589063\n",
      "[262]\tvalid_0's rmse: 0.589041\n",
      "[263]\tvalid_0's rmse: 0.588973\n",
      "[264]\tvalid_0's rmse: 0.588968\n",
      "[265]\tvalid_0's rmse: 0.588931\n",
      "[266]\tvalid_0's rmse: 0.589003\n",
      "[267]\tvalid_0's rmse: 0.58899\n",
      "[268]\tvalid_0's rmse: 0.588789\n",
      "[269]\tvalid_0's rmse: 0.58867\n",
      "[270]\tvalid_0's rmse: 0.58886\n",
      "[271]\tvalid_0's rmse: 0.588666\n",
      "[272]\tvalid_0's rmse: 0.588645\n",
      "[273]\tvalid_0's rmse: 0.588598\n",
      "[274]\tvalid_0's rmse: 0.588827\n",
      "[275]\tvalid_0's rmse: 0.58874\n",
      "[276]\tvalid_0's rmse: 0.588617\n",
      "[277]\tvalid_0's rmse: 0.588608\n",
      "[278]\tvalid_0's rmse: 0.588681\n",
      "[279]\tvalid_0's rmse: 0.58869\n",
      "[280]\tvalid_0's rmse: 0.588644\n",
      "[281]\tvalid_0's rmse: 0.588655\n",
      "[282]\tvalid_0's rmse: 0.588577\n",
      "[283]\tvalid_0's rmse: 0.588502\n",
      "[284]\tvalid_0's rmse: 0.588467\n",
      "[285]\tvalid_0's rmse: 0.588432\n",
      "[286]\tvalid_0's rmse: 0.588377\n",
      "[287]\tvalid_0's rmse: 0.588275\n",
      "[288]\tvalid_0's rmse: 0.588323\n",
      "[289]\tvalid_0's rmse: 0.588419\n",
      "[290]\tvalid_0's rmse: 0.588339\n",
      "[291]\tvalid_0's rmse: 0.588255\n",
      "[292]\tvalid_0's rmse: 0.588316\n",
      "[293]\tvalid_0's rmse: 0.588534\n",
      "[294]\tvalid_0's rmse: 0.58857\n",
      "[295]\tvalid_0's rmse: 0.588467\n",
      "[296]\tvalid_0's rmse: 0.588653\n",
      "[297]\tvalid_0's rmse: 0.588522\n",
      "[298]\tvalid_0's rmse: 0.588387\n",
      "[299]\tvalid_0's rmse: 0.58842\n",
      "[300]\tvalid_0's rmse: 0.588556\n",
      "[301]\tvalid_0's rmse: 0.588461\n",
      "[302]\tvalid_0's rmse: 0.588484\n",
      "[303]\tvalid_0's rmse: 0.588431\n",
      "[304]\tvalid_0's rmse: 0.58846\n",
      "[305]\tvalid_0's rmse: 0.588287\n",
      "[306]\tvalid_0's rmse: 0.588323\n",
      "[307]\tvalid_0's rmse: 0.588413\n",
      "[308]\tvalid_0's rmse: 0.588323\n",
      "[309]\tvalid_0's rmse: 0.588272\n",
      "[310]\tvalid_0's rmse: 0.588179\n",
      "[311]\tvalid_0's rmse: 0.588068\n",
      "[312]\tvalid_0's rmse: 0.587984\n",
      "[313]\tvalid_0's rmse: 0.587999\n",
      "[314]\tvalid_0's rmse: 0.588072\n",
      "[315]\tvalid_0's rmse: 0.588114\n",
      "[316]\tvalid_0's rmse: 0.58806\n",
      "[317]\tvalid_0's rmse: 0.588234\n",
      "[318]\tvalid_0's rmse: 0.588087\n",
      "[319]\tvalid_0's rmse: 0.588082\n",
      "[320]\tvalid_0's rmse: 0.588139\n",
      "[321]\tvalid_0's rmse: 0.588054\n",
      "[322]\tvalid_0's rmse: 0.587845\n",
      "[323]\tvalid_0's rmse: 0.587563\n",
      "[324]\tvalid_0's rmse: 0.587677\n",
      "[325]\tvalid_0's rmse: 0.58771\n",
      "[326]\tvalid_0's rmse: 0.58762\n",
      "[327]\tvalid_0's rmse: 0.587613\n",
      "[328]\tvalid_0's rmse: 0.587608\n",
      "[329]\tvalid_0's rmse: 0.587621\n",
      "[330]\tvalid_0's rmse: 0.58757\n",
      "[331]\tvalid_0's rmse: 0.587529\n",
      "[332]\tvalid_0's rmse: 0.587462\n",
      "[333]\tvalid_0's rmse: 0.587481\n",
      "[334]\tvalid_0's rmse: 0.587362\n",
      "[335]\tvalid_0's rmse: 0.587368\n",
      "[336]\tvalid_0's rmse: 0.58737\n",
      "[337]\tvalid_0's rmse: 0.587399\n",
      "[338]\tvalid_0's rmse: 0.587263\n",
      "[339]\tvalid_0's rmse: 0.587293\n",
      "[340]\tvalid_0's rmse: 0.587188\n",
      "[341]\tvalid_0's rmse: 0.587124\n",
      "[342]\tvalid_0's rmse: 0.587084\n",
      "[343]\tvalid_0's rmse: 0.586948\n",
      "[344]\tvalid_0's rmse: 0.587014\n",
      "[345]\tvalid_0's rmse: 0.587149\n",
      "[346]\tvalid_0's rmse: 0.587078\n",
      "[347]\tvalid_0's rmse: 0.587083\n",
      "[348]\tvalid_0's rmse: 0.587135\n",
      "[349]\tvalid_0's rmse: 0.587152\n",
      "[350]\tvalid_0's rmse: 0.587115\n",
      "[351]\tvalid_0's rmse: 0.587114\n",
      "[352]\tvalid_0's rmse: 0.587215\n",
      "[353]\tvalid_0's rmse: 0.587388\n",
      "[354]\tvalid_0's rmse: 0.587376\n",
      "[355]\tvalid_0's rmse: 0.587515\n",
      "[356]\tvalid_0's rmse: 0.587573\n",
      "[357]\tvalid_0's rmse: 0.587669\n",
      "[358]\tvalid_0's rmse: 0.587914\n",
      "[359]\tvalid_0's rmse: 0.587791\n",
      "[360]\tvalid_0's rmse: 0.587884\n",
      "[361]\tvalid_0's rmse: 0.587945\n",
      "[362]\tvalid_0's rmse: 0.587747\n",
      "[363]\tvalid_0's rmse: 0.587739\n",
      "[364]\tvalid_0's rmse: 0.587633\n",
      "[365]\tvalid_0's rmse: 0.587685\n",
      "[366]\tvalid_0's rmse: 0.587895\n",
      "[367]\tvalid_0's rmse: 0.58808\n",
      "[368]\tvalid_0's rmse: 0.588151\n",
      "[369]\tvalid_0's rmse: 0.588188\n",
      "[370]\tvalid_0's rmse: 0.588222\n",
      "[371]\tvalid_0's rmse: 0.588221\n",
      "[372]\tvalid_0's rmse: 0.588188\n",
      "[373]\tvalid_0's rmse: 0.58813\n",
      "[374]\tvalid_0's rmse: 0.588204\n",
      "[375]\tvalid_0's rmse: 0.58822\n",
      "[376]\tvalid_0's rmse: 0.588222\n",
      "[377]\tvalid_0's rmse: 0.58817\n",
      "[378]\tvalid_0's rmse: 0.5881\n",
      "[379]\tvalid_0's rmse: 0.588074\n",
      "[380]\tvalid_0's rmse: 0.588007\n",
      "[381]\tvalid_0's rmse: 0.588215\n",
      "[382]\tvalid_0's rmse: 0.588303\n",
      "[383]\tvalid_0's rmse: 0.588313\n",
      "[384]\tvalid_0's rmse: 0.588491\n",
      "[385]\tvalid_0's rmse: 0.588565\n",
      "[386]\tvalid_0's rmse: 0.588802\n",
      "[387]\tvalid_0's rmse: 0.58887\n",
      "[388]\tvalid_0's rmse: 0.588872\n",
      "[389]\tvalid_0's rmse: 0.588816\n",
      "[390]\tvalid_0's rmse: 0.588808\n",
      "[391]\tvalid_0's rmse: 0.588902\n",
      "[392]\tvalid_0's rmse: 0.589002\n",
      "[393]\tvalid_0's rmse: 0.588855\n",
      "[394]\tvalid_0's rmse: 0.588783\n",
      "[395]\tvalid_0's rmse: 0.588766\n",
      "[396]\tvalid_0's rmse: 0.588911\n",
      "[397]\tvalid_0's rmse: 0.589109\n",
      "[398]\tvalid_0's rmse: 0.589167\n",
      "[399]\tvalid_0's rmse: 0.58934\n",
      "[400]\tvalid_0's rmse: 0.589252\n",
      "[401]\tvalid_0's rmse: 0.589143\n",
      "[402]\tvalid_0's rmse: 0.589133\n",
      "[403]\tvalid_0's rmse: 0.589191\n",
      "[404]\tvalid_0's rmse: 0.589286\n",
      "[405]\tvalid_0's rmse: 0.589181\n",
      "[406]\tvalid_0's rmse: 0.589082\n",
      "[407]\tvalid_0's rmse: 0.589048\n",
      "[408]\tvalid_0's rmse: 0.58916\n",
      "[409]\tvalid_0's rmse: 0.589219\n",
      "[410]\tvalid_0's rmse: 0.589143\n",
      "[411]\tvalid_0's rmse: 0.589144\n",
      "[412]\tvalid_0's rmse: 0.589136\n",
      "[413]\tvalid_0's rmse: 0.589102\n",
      "[414]\tvalid_0's rmse: 0.589137\n",
      "[415]\tvalid_0's rmse: 0.589264\n",
      "[416]\tvalid_0's rmse: 0.589288\n",
      "[417]\tvalid_0's rmse: 0.589219\n",
      "[418]\tvalid_0's rmse: 0.58929\n",
      "[419]\tvalid_0's rmse: 0.589408\n",
      "[420]\tvalid_0's rmse: 0.589491\n",
      "[421]\tvalid_0's rmse: 0.58961\n",
      "[422]\tvalid_0's rmse: 0.589482\n",
      "[423]\tvalid_0's rmse: 0.58948\n",
      "[424]\tvalid_0's rmse: 0.589528\n",
      "[425]\tvalid_0's rmse: 0.589649\n",
      "[426]\tvalid_0's rmse: 0.589866\n",
      "[427]\tvalid_0's rmse: 0.589858\n",
      "[428]\tvalid_0's rmse: 0.58996\n",
      "[429]\tvalid_0's rmse: 0.589896\n",
      "[430]\tvalid_0's rmse: 0.589774\n",
      "[431]\tvalid_0's rmse: 0.589724\n",
      "[432]\tvalid_0's rmse: 0.589762\n",
      "[433]\tvalid_0's rmse: 0.589854\n",
      "[434]\tvalid_0's rmse: 0.589882\n",
      "[435]\tvalid_0's rmse: 0.589947\n",
      "[436]\tvalid_0's rmse: 0.590006\n",
      "[437]\tvalid_0's rmse: 0.590066\n",
      "[438]\tvalid_0's rmse: 0.590149\n",
      "[439]\tvalid_0's rmse: 0.590191\n",
      "[440]\tvalid_0's rmse: 0.590194\n",
      "[441]\tvalid_0's rmse: 0.590161\n",
      "[442]\tvalid_0's rmse: 0.590259\n",
      "[443]\tvalid_0's rmse: 0.590373\n",
      "--------------------\n",
      "Fold:1:\n",
      "Feature Selection (get null_imp_df):\n",
      "Run 50 rounds of model training:\n"
     ]
    },
    {
     "name": "stderr",
     "output_type": "stream",
     "text": [
      "  0%|          | 0/50 [00:00<?, ?it/s]"
     ]
    },
    {
     "name": "stdout",
     "output_type": "stream",
     "text": [
      "[LightGBM] [Warning] bagging_fraction is set=0.75, subsample=0.9778252382803456 will be ignored. Current value: bagging_fraction=0.75\n",
      "[LightGBM] [Warning] bagging_freq is set=1, subsample_freq=0 will be ignored. Current value: bagging_freq=1\n",
      "[LightGBM] [Warning] feature_fraction is set=0.8, colsample_bytree=0.5420247656839267 will be ignored. Current value: feature_fraction=0.8\n"
     ]
    },
    {
     "name": "stderr",
     "output_type": "stream",
     "text": [
      "100%|██████████| 50/50 [04:23<00:00,  5.26s/it]\n"
     ]
    },
    {
     "name": "stdout",
     "output_type": "stream",
     "text": [
      "Feature Selection (actual_imp_df):\n",
      "Run 50 rounds of model training:\n"
     ]
    },
    {
     "name": "stderr",
     "output_type": "stream",
     "text": [
      "100%|██████████| 50/50 [18:10<00:00, 21.81s/it]\n"
     ]
    },
    {
     "name": "stdout",
     "output_type": "stream",
     "text": [
      "Feature Selection by Null Importances: gain:\n"
     ]
    },
    {
     "name": "stderr",
     "output_type": "stream",
     "text": [
      " 11%|█         | 1/9 [00:04<00:36,  4.58s/it]"
     ]
    },
    {
     "name": "stdout",
     "output_type": "stream",
     "text": [
      "[LightGBM] [Warning] bagging_fraction is set=0.75, subsample=0.9778252382803456 will be ignored. Current value: bagging_fraction=0.75\n",
      "[LightGBM] [Warning] bagging_freq is set=1, subsample_freq=0 will be ignored. Current value: bagging_freq=1\n",
      "[LightGBM] [Warning] feature_fraction is set=0.8, colsample_bytree=0.5420247656839267 will be ignored. Current value: feature_fraction=0.8\n"
     ]
    },
    {
     "name": "stderr",
     "output_type": "stream",
     "text": [
      " 22%|██▏       | 2/9 [00:09<00:32,  4.68s/it]"
     ]
    },
    {
     "name": "stdout",
     "output_type": "stream",
     "text": [
      "[LightGBM] [Warning] bagging_fraction is set=0.75, subsample=0.9778252382803456 will be ignored. Current value: bagging_fraction=0.75\n",
      "[LightGBM] [Warning] bagging_freq is set=1, subsample_freq=0 will be ignored. Current value: bagging_freq=1\n",
      "[LightGBM] [Warning] feature_fraction is set=0.8, colsample_bytree=0.5420247656839267 will be ignored. Current value: feature_fraction=0.8\n"
     ]
    },
    {
     "name": "stderr",
     "output_type": "stream",
     "text": [
      " 33%|███▎      | 3/9 [00:15<00:31,  5.27s/it]"
     ]
    },
    {
     "name": "stdout",
     "output_type": "stream",
     "text": [
      "[LightGBM] [Warning] bagging_fraction is set=0.75, subsample=0.9778252382803456 will be ignored. Current value: bagging_fraction=0.75\n",
      "[LightGBM] [Warning] bagging_freq is set=1, subsample_freq=0 will be ignored. Current value: bagging_freq=1\n",
      "[LightGBM] [Warning] feature_fraction is set=0.8, colsample_bytree=0.5420247656839267 will be ignored. Current value: feature_fraction=0.8\n"
     ]
    },
    {
     "name": "stderr",
     "output_type": "stream",
     "text": [
      " 44%|████▍     | 4/9 [00:21<00:28,  5.71s/it]"
     ]
    },
    {
     "name": "stdout",
     "output_type": "stream",
     "text": [
      "[LightGBM] [Warning] bagging_fraction is set=0.75, subsample=0.9778252382803456 will be ignored. Current value: bagging_fraction=0.75\n",
      "[LightGBM] [Warning] bagging_freq is set=1, subsample_freq=0 will be ignored. Current value: bagging_freq=1\n",
      "[LightGBM] [Warning] feature_fraction is set=0.8, colsample_bytree=0.5420247656839267 will be ignored. Current value: feature_fraction=0.8\n"
     ]
    },
    {
     "name": "stderr",
     "output_type": "stream",
     "text": [
      " 56%|█████▌    | 5/9 [00:28<00:24,  6.02s/it]"
     ]
    },
    {
     "name": "stdout",
     "output_type": "stream",
     "text": [
      "[LightGBM] [Warning] bagging_fraction is set=0.75, subsample=0.9778252382803456 will be ignored. Current value: bagging_fraction=0.75\n",
      "[LightGBM] [Warning] bagging_freq is set=1, subsample_freq=0 will be ignored. Current value: bagging_freq=1\n",
      "[LightGBM] [Warning] feature_fraction is set=0.8, colsample_bytree=0.5420247656839267 will be ignored. Current value: feature_fraction=0.8\n"
     ]
    },
    {
     "name": "stderr",
     "output_type": "stream",
     "text": [
      " 67%|██████▋   | 6/9 [00:35<00:18,  6.27s/it]"
     ]
    },
    {
     "name": "stdout",
     "output_type": "stream",
     "text": [
      "[LightGBM] [Warning] bagging_fraction is set=0.75, subsample=0.9778252382803456 will be ignored. Current value: bagging_fraction=0.75\n",
      "[LightGBM] [Warning] bagging_freq is set=1, subsample_freq=0 will be ignored. Current value: bagging_freq=1\n",
      "[LightGBM] [Warning] feature_fraction is set=0.8, colsample_bytree=0.5420247656839267 will be ignored. Current value: feature_fraction=0.8\n"
     ]
    },
    {
     "name": "stderr",
     "output_type": "stream",
     "text": [
      " 78%|███████▊  | 7/9 [00:42<00:13,  6.62s/it]"
     ]
    },
    {
     "name": "stdout",
     "output_type": "stream",
     "text": [
      "[LightGBM] [Warning] bagging_fraction is set=0.75, subsample=0.9778252382803456 will be ignored. Current value: bagging_fraction=0.75\n",
      "[LightGBM] [Warning] bagging_freq is set=1, subsample_freq=0 will be ignored. Current value: bagging_freq=1\n",
      "[LightGBM] [Warning] feature_fraction is set=0.8, colsample_bytree=0.5420247656839267 will be ignored. Current value: feature_fraction=0.8\n"
     ]
    },
    {
     "name": "stderr",
     "output_type": "stream",
     "text": [
      " 89%|████████▉ | 8/9 [00:48<00:06,  6.50s/it]"
     ]
    },
    {
     "name": "stdout",
     "output_type": "stream",
     "text": [
      "[LightGBM] [Warning] bagging_fraction is set=0.75, subsample=0.9778252382803456 will be ignored. Current value: bagging_fraction=0.75\n",
      "[LightGBM] [Warning] bagging_freq is set=1, subsample_freq=0 will be ignored. Current value: bagging_freq=1\n",
      "[LightGBM] [Warning] feature_fraction is set=0.8, colsample_bytree=0.5420247656839267 will be ignored. Current value: feature_fraction=0.8\n"
     ]
    },
    {
     "name": "stderr",
     "output_type": "stream",
     "text": [
      "100%|██████████| 9/9 [00:55<00:00,  6.16s/it]\n"
     ]
    },
    {
     "name": "stdout",
     "output_type": "stream",
     "text": [
      "Feature Selection by Null Importances: split:\n"
     ]
    },
    {
     "name": "stderr",
     "output_type": "stream",
     "text": [
      "  0%|          | 0/9 [00:00<?, ?it/s]"
     ]
    },
    {
     "name": "stdout",
     "output_type": "stream",
     "text": [
      "[LightGBM] [Warning] bagging_fraction is set=0.75, subsample=0.9778252382803456 will be ignored. Current value: bagging_fraction=0.75\n",
      "[LightGBM] [Warning] bagging_freq is set=1, subsample_freq=0 will be ignored. Current value: bagging_freq=1\n",
      "[LightGBM] [Warning] feature_fraction is set=0.8, colsample_bytree=0.5420247656839267 will be ignored. Current value: feature_fraction=0.8\n"
     ]
    },
    {
     "name": "stderr",
     "output_type": "stream",
     "text": [
      " 11%|█         | 1/9 [00:04<00:33,  4.17s/it]"
     ]
    },
    {
     "name": "stdout",
     "output_type": "stream",
     "text": [
      "[LightGBM] [Warning] bagging_fraction is set=0.75, subsample=0.9778252382803456 will be ignored. Current value: bagging_fraction=0.75\n",
      "[LightGBM] [Warning] bagging_freq is set=1, subsample_freq=0 will be ignored. Current value: bagging_freq=1\n",
      "[LightGBM] [Warning] feature_fraction is set=0.8, colsample_bytree=0.5420247656839267 will be ignored. Current value: feature_fraction=0.8\n"
     ]
    },
    {
     "name": "stderr",
     "output_type": "stream",
     "text": [
      " 22%|██▏       | 2/9 [00:10<00:38,  5.52s/it]"
     ]
    },
    {
     "name": "stdout",
     "output_type": "stream",
     "text": [
      "[LightGBM] [Warning] bagging_fraction is set=0.75, subsample=0.9778252382803456 will be ignored. Current value: bagging_fraction=0.75\n",
      "[LightGBM] [Warning] bagging_freq is set=1, subsample_freq=0 will be ignored. Current value: bagging_freq=1\n",
      "[LightGBM] [Warning] feature_fraction is set=0.8, colsample_bytree=0.5420247656839267 will be ignored. Current value: feature_fraction=0.8\n"
     ]
    },
    {
     "name": "stderr",
     "output_type": "stream",
     "text": [
      " 33%|███▎      | 3/9 [00:15<00:32,  5.41s/it]"
     ]
    },
    {
     "name": "stdout",
     "output_type": "stream",
     "text": [
      "[LightGBM] [Warning] bagging_fraction is set=0.75, subsample=0.9778252382803456 will be ignored. Current value: bagging_fraction=0.75\n",
      "[LightGBM] [Warning] bagging_freq is set=1, subsample_freq=0 will be ignored. Current value: bagging_freq=1\n",
      "[LightGBM] [Warning] feature_fraction is set=0.8, colsample_bytree=0.5420247656839267 will be ignored. Current value: feature_fraction=0.8\n"
     ]
    },
    {
     "name": "stderr",
     "output_type": "stream",
     "text": [
      " 44%|████▍     | 4/9 [00:21<00:28,  5.68s/it]"
     ]
    },
    {
     "name": "stdout",
     "output_type": "stream",
     "text": [
      "[LightGBM] [Warning] bagging_fraction is set=0.75, subsample=0.9778252382803456 will be ignored. Current value: bagging_fraction=0.75\n",
      "[LightGBM] [Warning] bagging_freq is set=1, subsample_freq=0 will be ignored. Current value: bagging_freq=1\n",
      "[LightGBM] [Warning] feature_fraction is set=0.8, colsample_bytree=0.5420247656839267 will be ignored. Current value: feature_fraction=0.8\n"
     ]
    },
    {
     "name": "stderr",
     "output_type": "stream",
     "text": [
      " 56%|█████▌    | 5/9 [00:28<00:24,  6.01s/it]"
     ]
    },
    {
     "name": "stdout",
     "output_type": "stream",
     "text": [
      "[LightGBM] [Warning] bagging_fraction is set=0.75, subsample=0.9778252382803456 will be ignored. Current value: bagging_fraction=0.75\n",
      "[LightGBM] [Warning] bagging_freq is set=1, subsample_freq=0 will be ignored. Current value: bagging_freq=1\n",
      "[LightGBM] [Warning] feature_fraction is set=0.8, colsample_bytree=0.5420247656839267 will be ignored. Current value: feature_fraction=0.8\n"
     ]
    },
    {
     "name": "stderr",
     "output_type": "stream",
     "text": [
      " 67%|██████▋   | 6/9 [00:36<00:19,  6.54s/it]"
     ]
    },
    {
     "name": "stdout",
     "output_type": "stream",
     "text": [
      "[LightGBM] [Warning] bagging_fraction is set=0.75, subsample=0.9778252382803456 will be ignored. Current value: bagging_fraction=0.75\n",
      "[LightGBM] [Warning] bagging_freq is set=1, subsample_freq=0 will be ignored. Current value: bagging_freq=1\n",
      "[LightGBM] [Warning] feature_fraction is set=0.8, colsample_bytree=0.5420247656839267 will be ignored. Current value: feature_fraction=0.8\n"
     ]
    },
    {
     "name": "stderr",
     "output_type": "stream",
     "text": [
      " 78%|███████▊  | 7/9 [00:43<00:13,  6.79s/it]"
     ]
    },
    {
     "name": "stdout",
     "output_type": "stream",
     "text": [
      "[LightGBM] [Warning] bagging_fraction is set=0.75, subsample=0.9778252382803456 will be ignored. Current value: bagging_fraction=0.75\n",
      "[LightGBM] [Warning] bagging_freq is set=1, subsample_freq=0 will be ignored. Current value: bagging_freq=1\n",
      "[LightGBM] [Warning] feature_fraction is set=0.8, colsample_bytree=0.5420247656839267 will be ignored. Current value: feature_fraction=0.8\n"
     ]
    },
    {
     "name": "stderr",
     "output_type": "stream",
     "text": [
      " 89%|████████▉ | 8/9 [00:49<00:06,  6.61s/it]"
     ]
    },
    {
     "name": "stdout",
     "output_type": "stream",
     "text": [
      "[LightGBM] [Warning] bagging_fraction is set=0.75, subsample=0.9778252382803456 will be ignored. Current value: bagging_fraction=0.75\n",
      "[LightGBM] [Warning] bagging_freq is set=1, subsample_freq=0 will be ignored. Current value: bagging_freq=1\n",
      "[LightGBM] [Warning] feature_fraction is set=0.8, colsample_bytree=0.5420247656839267 will be ignored. Current value: feature_fraction=0.8\n"
     ]
    },
    {
     "name": "stderr",
     "output_type": "stream",
     "text": [
      "100%|██████████| 9/9 [00:56<00:00,  6.30s/it]\n"
     ]
    },
    {
     "name": "stdout",
     "output_type": "stream",
     "text": [
      "Feature Selection by Null Importances: both:\n"
     ]
    },
    {
     "name": "stderr",
     "output_type": "stream",
     "text": [
      "  0%|          | 0/9 [00:00<?, ?it/s]"
     ]
    },
    {
     "name": "stdout",
     "output_type": "stream",
     "text": [
      "[LightGBM] [Warning] bagging_fraction is set=0.75, subsample=0.9778252382803456 will be ignored. Current value: bagging_fraction=0.75\n",
      "[LightGBM] [Warning] bagging_freq is set=1, subsample_freq=0 will be ignored. Current value: bagging_freq=1\n",
      "[LightGBM] [Warning] feature_fraction is set=0.8, colsample_bytree=0.5420247656839267 will be ignored. Current value: feature_fraction=0.8\n"
     ]
    },
    {
     "name": "stderr",
     "output_type": "stream",
     "text": [
      " 11%|█         | 1/9 [00:04<00:32,  4.04s/it]"
     ]
    },
    {
     "name": "stdout",
     "output_type": "stream",
     "text": [
      "[LightGBM] [Warning] bagging_fraction is set=0.75, subsample=0.9778252382803456 will be ignored. Current value: bagging_fraction=0.75\n",
      "[LightGBM] [Warning] bagging_freq is set=1, subsample_freq=0 will be ignored. Current value: bagging_freq=1\n",
      "[LightGBM] [Warning] feature_fraction is set=0.8, colsample_bytree=0.5420247656839267 will be ignored. Current value: feature_fraction=0.8\n"
     ]
    },
    {
     "name": "stderr",
     "output_type": "stream",
     "text": [
      " 22%|██▏       | 2/9 [00:08<00:30,  4.42s/it]"
     ]
    },
    {
     "name": "stdout",
     "output_type": "stream",
     "text": [
      "[LightGBM] [Warning] bagging_fraction is set=0.75, subsample=0.9778252382803456 will be ignored. Current value: bagging_fraction=0.75\n",
      "[LightGBM] [Warning] bagging_freq is set=1, subsample_freq=0 will be ignored. Current value: bagging_freq=1\n",
      "[LightGBM] [Warning] feature_fraction is set=0.8, colsample_bytree=0.5420247656839267 will be ignored. Current value: feature_fraction=0.8\n"
     ]
    },
    {
     "name": "stderr",
     "output_type": "stream",
     "text": [
      " 33%|███▎      | 3/9 [00:15<00:33,  5.51s/it]"
     ]
    },
    {
     "name": "stdout",
     "output_type": "stream",
     "text": [
      "[LightGBM] [Warning] bagging_fraction is set=0.75, subsample=0.9778252382803456 will be ignored. Current value: bagging_fraction=0.75\n",
      "[LightGBM] [Warning] bagging_freq is set=1, subsample_freq=0 will be ignored. Current value: bagging_freq=1\n",
      "[LightGBM] [Warning] feature_fraction is set=0.8, colsample_bytree=0.5420247656839267 will be ignored. Current value: feature_fraction=0.8\n"
     ]
    },
    {
     "name": "stderr",
     "output_type": "stream",
     "text": [
      " 44%|████▍     | 4/9 [00:21<00:27,  5.51s/it]"
     ]
    },
    {
     "name": "stdout",
     "output_type": "stream",
     "text": [
      "[LightGBM] [Warning] bagging_fraction is set=0.75, subsample=0.9778252382803456 will be ignored. Current value: bagging_fraction=0.75\n",
      "[LightGBM] [Warning] bagging_freq is set=1, subsample_freq=0 will be ignored. Current value: bagging_freq=1\n",
      "[LightGBM] [Warning] feature_fraction is set=0.8, colsample_bytree=0.5420247656839267 will be ignored. Current value: feature_fraction=0.8\n"
     ]
    },
    {
     "name": "stderr",
     "output_type": "stream",
     "text": [
      " 56%|█████▌    | 5/9 [00:28<00:24,  6.10s/it]"
     ]
    },
    {
     "name": "stdout",
     "output_type": "stream",
     "text": [
      "[LightGBM] [Warning] bagging_fraction is set=0.75, subsample=0.9778252382803456 will be ignored. Current value: bagging_fraction=0.75\n",
      "[LightGBM] [Warning] bagging_freq is set=1, subsample_freq=0 will be ignored. Current value: bagging_freq=1\n",
      "[LightGBM] [Warning] feature_fraction is set=0.8, colsample_bytree=0.5420247656839267 will be ignored. Current value: feature_fraction=0.8\n"
     ]
    },
    {
     "name": "stderr",
     "output_type": "stream",
     "text": [
      " 67%|██████▋   | 6/9 [00:33<00:17,  5.99s/it]"
     ]
    },
    {
     "name": "stdout",
     "output_type": "stream",
     "text": [
      "[LightGBM] [Warning] bagging_fraction is set=0.75, subsample=0.9778252382803456 will be ignored. Current value: bagging_fraction=0.75\n",
      "[LightGBM] [Warning] bagging_freq is set=1, subsample_freq=0 will be ignored. Current value: bagging_freq=1\n",
      "[LightGBM] [Warning] feature_fraction is set=0.8, colsample_bytree=0.5420247656839267 will be ignored. Current value: feature_fraction=0.8\n"
     ]
    },
    {
     "name": "stderr",
     "output_type": "stream",
     "text": [
      " 78%|███████▊  | 7/9 [00:41<00:12,  6.37s/it]"
     ]
    },
    {
     "name": "stdout",
     "output_type": "stream",
     "text": [
      "[LightGBM] [Warning] bagging_fraction is set=0.75, subsample=0.9778252382803456 will be ignored. Current value: bagging_fraction=0.75\n",
      "[LightGBM] [Warning] bagging_freq is set=1, subsample_freq=0 will be ignored. Current value: bagging_freq=1\n",
      "[LightGBM] [Warning] feature_fraction is set=0.8, colsample_bytree=0.5420247656839267 will be ignored. Current value: feature_fraction=0.8\n"
     ]
    },
    {
     "name": "stderr",
     "output_type": "stream",
     "text": [
      " 89%|████████▉ | 8/9 [00:48<00:06,  6.67s/it]"
     ]
    },
    {
     "name": "stdout",
     "output_type": "stream",
     "text": [
      "[LightGBM] [Warning] bagging_fraction is set=0.75, subsample=0.9778252382803456 will be ignored. Current value: bagging_fraction=0.75\n",
      "[LightGBM] [Warning] bagging_freq is set=1, subsample_freq=0 will be ignored. Current value: bagging_freq=1\n",
      "[LightGBM] [Warning] feature_fraction is set=0.8, colsample_bytree=0.5420247656839267 will be ignored. Current value: feature_fraction=0.8\n"
     ]
    },
    {
     "name": "stderr",
     "output_type": "stream",
     "text": [
      "100%|██████████| 9/9 [00:55<00:00,  6.15s/it]\n"
     ]
    },
    {
     "name": "stdout",
     "output_type": "stream",
     "text": [
      "After feature selection: 638 -> 344.\n",
      "[LightGBM] [Warning] bagging_fraction is set=0.75, subsample=0.9778252382803456 will be ignored. Current value: bagging_fraction=0.75\n",
      "[LightGBM] [Warning] bagging_freq is set=1, subsample_freq=0 will be ignored. Current value: bagging_freq=1\n",
      "[LightGBM] [Warning] feature_fraction is set=0.8, colsample_bytree=0.5420247656839267 will be ignored. Current value: feature_fraction=0.8\n",
      "[1]\tvalid_0's rmse: 1.01637\n",
      "[2]\tvalid_0's rmse: 1.00625\n",
      "[3]\tvalid_0's rmse: 0.99703\n",
      "[4]\tvalid_0's rmse: 0.987547\n",
      "[5]\tvalid_0's rmse: 0.978556\n",
      "[6]\tvalid_0's rmse: 0.969481\n",
      "[7]\tvalid_0's rmse: 0.960219\n",
      "[8]\tvalid_0's rmse: 0.950951\n",
      "[9]\tvalid_0's rmse: 0.942364\n",
      "[10]\tvalid_0's rmse: 0.93389\n",
      "[11]\tvalid_0's rmse: 0.926169\n",
      "[12]\tvalid_0's rmse: 0.918037\n",
      "[13]\tvalid_0's rmse: 0.910263\n",
      "[14]\tvalid_0's rmse: 0.902805\n",
      "[15]\tvalid_0's rmse: 0.895165\n",
      "[16]\tvalid_0's rmse: 0.887707\n",
      "[17]\tvalid_0's rmse: 0.88079\n",
      "[18]\tvalid_0's rmse: 0.873972\n",
      "[19]\tvalid_0's rmse: 0.867372\n",
      "[20]\tvalid_0's rmse: 0.860778\n",
      "[21]\tvalid_0's rmse: 0.854411\n",
      "[22]\tvalid_0's rmse: 0.847801\n",
      "[23]\tvalid_0's rmse: 0.84148\n",
      "[24]\tvalid_0's rmse: 0.835782\n",
      "[25]\tvalid_0's rmse: 0.830374\n",
      "[26]\tvalid_0's rmse: 0.824612\n",
      "[27]\tvalid_0's rmse: 0.81895\n",
      "[28]\tvalid_0's rmse: 0.813518\n",
      "[29]\tvalid_0's rmse: 0.807935\n",
      "[30]\tvalid_0's rmse: 0.802553\n",
      "[31]\tvalid_0's rmse: 0.797422\n",
      "[32]\tvalid_0's rmse: 0.791923\n",
      "[33]\tvalid_0's rmse: 0.787277\n",
      "[34]\tvalid_0's rmse: 0.782567\n",
      "[35]\tvalid_0's rmse: 0.777993\n",
      "[36]\tvalid_0's rmse: 0.773695\n",
      "[37]\tvalid_0's rmse: 0.769183\n",
      "[38]\tvalid_0's rmse: 0.764734\n",
      "[39]\tvalid_0's rmse: 0.760547\n",
      "[40]\tvalid_0's rmse: 0.756336\n",
      "[41]\tvalid_0's rmse: 0.752577\n",
      "[42]\tvalid_0's rmse: 0.749261\n",
      "[43]\tvalid_0's rmse: 0.746051\n",
      "[44]\tvalid_0's rmse: 0.741865\n",
      "[45]\tvalid_0's rmse: 0.738396\n",
      "[46]\tvalid_0's rmse: 0.734944\n",
      "[47]\tvalid_0's rmse: 0.7316\n",
      "[48]\tvalid_0's rmse: 0.728247\n",
      "[49]\tvalid_0's rmse: 0.724869\n",
      "[50]\tvalid_0's rmse: 0.721721\n",
      "[51]\tvalid_0's rmse: 0.718505\n",
      "[52]\tvalid_0's rmse: 0.715563\n",
      "[53]\tvalid_0's rmse: 0.71276\n",
      "[54]\tvalid_0's rmse: 0.709641\n",
      "[55]\tvalid_0's rmse: 0.706718\n",
      "[56]\tvalid_0's rmse: 0.703909\n",
      "[57]\tvalid_0's rmse: 0.70126\n",
      "[58]\tvalid_0's rmse: 0.698607\n",
      "[59]\tvalid_0's rmse: 0.696178\n",
      "[60]\tvalid_0's rmse: 0.693781\n",
      "[61]\tvalid_0's rmse: 0.691445\n",
      "[62]\tvalid_0's rmse: 0.689038\n",
      "[63]\tvalid_0's rmse: 0.686691\n",
      "[64]\tvalid_0's rmse: 0.684536\n",
      "[65]\tvalid_0's rmse: 0.682451\n",
      "[66]\tvalid_0's rmse: 0.680689\n",
      "[67]\tvalid_0's rmse: 0.678766\n",
      "[68]\tvalid_0's rmse: 0.676905\n",
      "[69]\tvalid_0's rmse: 0.674794\n",
      "[70]\tvalid_0's rmse: 0.672683\n",
      "[71]\tvalid_0's rmse: 0.670937\n",
      "[72]\tvalid_0's rmse: 0.668872\n",
      "[73]\tvalid_0's rmse: 0.667256\n",
      "[74]\tvalid_0's rmse: 0.665493\n",
      "[75]\tvalid_0's rmse: 0.663831\n",
      "[76]\tvalid_0's rmse: 0.661914\n",
      "[77]\tvalid_0's rmse: 0.660426\n",
      "[78]\tvalid_0's rmse: 0.658612\n",
      "[79]\tvalid_0's rmse: 0.657128\n",
      "[80]\tvalid_0's rmse: 0.655634\n",
      "[81]\tvalid_0's rmse: 0.654076\n",
      "[82]\tvalid_0's rmse: 0.653032\n",
      "[83]\tvalid_0's rmse: 0.651761\n",
      "[84]\tvalid_0's rmse: 0.650583\n",
      "[85]\tvalid_0's rmse: 0.649371\n",
      "[86]\tvalid_0's rmse: 0.648018\n",
      "[87]\tvalid_0's rmse: 0.647019\n",
      "[88]\tvalid_0's rmse: 0.646183\n",
      "[89]\tvalid_0's rmse: 0.644802\n",
      "[90]\tvalid_0's rmse: 0.643746\n",
      "[91]\tvalid_0's rmse: 0.642506\n",
      "[92]\tvalid_0's rmse: 0.641502\n",
      "[93]\tvalid_0's rmse: 0.640392\n",
      "[94]\tvalid_0's rmse: 0.639343\n",
      "[95]\tvalid_0's rmse: 0.638201\n",
      "[96]\tvalid_0's rmse: 0.637523\n",
      "[97]\tvalid_0's rmse: 0.636993\n",
      "[98]\tvalid_0's rmse: 0.636151\n",
      "[99]\tvalid_0's rmse: 0.635248\n",
      "[100]\tvalid_0's rmse: 0.634287\n",
      "[101]\tvalid_0's rmse: 0.633398\n",
      "[102]\tvalid_0's rmse: 0.632403\n",
      "[103]\tvalid_0's rmse: 0.631284\n",
      "[104]\tvalid_0's rmse: 0.630229\n",
      "[105]\tvalid_0's rmse: 0.629452\n",
      "[106]\tvalid_0's rmse: 0.628646\n",
      "[107]\tvalid_0's rmse: 0.627808\n",
      "[108]\tvalid_0's rmse: 0.627149\n",
      "[109]\tvalid_0's rmse: 0.626193\n",
      "[110]\tvalid_0's rmse: 0.625235\n",
      "[111]\tvalid_0's rmse: 0.624723\n",
      "[112]\tvalid_0's rmse: 0.624062\n",
      "[113]\tvalid_0's rmse: 0.623689\n",
      "[114]\tvalid_0's rmse: 0.623117\n",
      "[115]\tvalid_0's rmse: 0.622804\n",
      "[116]\tvalid_0's rmse: 0.622306\n",
      "[117]\tvalid_0's rmse: 0.621718\n",
      "[118]\tvalid_0's rmse: 0.621182\n",
      "[119]\tvalid_0's rmse: 0.620564\n",
      "[120]\tvalid_0's rmse: 0.619937\n",
      "[121]\tvalid_0's rmse: 0.619494\n",
      "[122]\tvalid_0's rmse: 0.618985\n",
      "[123]\tvalid_0's rmse: 0.618376\n",
      "[124]\tvalid_0's rmse: 0.617776\n",
      "[125]\tvalid_0's rmse: 0.617323\n",
      "[126]\tvalid_0's rmse: 0.61697\n",
      "[127]\tvalid_0's rmse: 0.616527\n",
      "[128]\tvalid_0's rmse: 0.616462\n",
      "[129]\tvalid_0's rmse: 0.61609\n",
      "[130]\tvalid_0's rmse: 0.615566\n",
      "[131]\tvalid_0's rmse: 0.61519\n",
      "[132]\tvalid_0's rmse: 0.614864\n",
      "[133]\tvalid_0's rmse: 0.614536\n",
      "[134]\tvalid_0's rmse: 0.614003\n",
      "[135]\tvalid_0's rmse: 0.613604\n",
      "[136]\tvalid_0's rmse: 0.613054\n",
      "[137]\tvalid_0's rmse: 0.612727\n",
      "[138]\tvalid_0's rmse: 0.612429\n",
      "[139]\tvalid_0's rmse: 0.612003\n",
      "[140]\tvalid_0's rmse: 0.611763\n",
      "[141]\tvalid_0's rmse: 0.611684\n",
      "[142]\tvalid_0's rmse: 0.611564\n",
      "[143]\tvalid_0's rmse: 0.611012\n",
      "[144]\tvalid_0's rmse: 0.610758\n",
      "[145]\tvalid_0's rmse: 0.610624\n",
      "[146]\tvalid_0's rmse: 0.610085\n",
      "[147]\tvalid_0's rmse: 0.609851\n",
      "[148]\tvalid_0's rmse: 0.609581\n",
      "[149]\tvalid_0's rmse: 0.60942\n",
      "[150]\tvalid_0's rmse: 0.609423\n",
      "[151]\tvalid_0's rmse: 0.608976\n",
      "[152]\tvalid_0's rmse: 0.608797\n",
      "[153]\tvalid_0's rmse: 0.608418\n",
      "[154]\tvalid_0's rmse: 0.608244\n",
      "[155]\tvalid_0's rmse: 0.607981\n",
      "[156]\tvalid_0's rmse: 0.607804\n",
      "[157]\tvalid_0's rmse: 0.607657\n",
      "[158]\tvalid_0's rmse: 0.607506\n",
      "[159]\tvalid_0's rmse: 0.607153\n",
      "[160]\tvalid_0's rmse: 0.607114\n",
      "[161]\tvalid_0's rmse: 0.606658\n",
      "[162]\tvalid_0's rmse: 0.606324\n",
      "[163]\tvalid_0's rmse: 0.60601\n",
      "[164]\tvalid_0's rmse: 0.605548\n",
      "[165]\tvalid_0's rmse: 0.605315\n",
      "[166]\tvalid_0's rmse: 0.605091\n",
      "[167]\tvalid_0's rmse: 0.604955\n",
      "[168]\tvalid_0's rmse: 0.60493\n",
      "[169]\tvalid_0's rmse: 0.604509\n",
      "[170]\tvalid_0's rmse: 0.604414\n",
      "[171]\tvalid_0's rmse: 0.604186\n",
      "[172]\tvalid_0's rmse: 0.604003\n",
      "[173]\tvalid_0's rmse: 0.603798\n",
      "[174]\tvalid_0's rmse: 0.603565\n",
      "[175]\tvalid_0's rmse: 0.603568\n",
      "[176]\tvalid_0's rmse: 0.603504\n",
      "[177]\tvalid_0's rmse: 0.603062\n",
      "[178]\tvalid_0's rmse: 0.602987\n",
      "[179]\tvalid_0's rmse: 0.603035\n",
      "[180]\tvalid_0's rmse: 0.603056\n",
      "[181]\tvalid_0's rmse: 0.602816\n",
      "[182]\tvalid_0's rmse: 0.602707\n",
      "[183]\tvalid_0's rmse: 0.602503\n",
      "[184]\tvalid_0's rmse: 0.60241\n",
      "[185]\tvalid_0's rmse: 0.602258\n",
      "[186]\tvalid_0's rmse: 0.601966\n",
      "[187]\tvalid_0's rmse: 0.601837\n",
      "[188]\tvalid_0's rmse: 0.601828\n",
      "[189]\tvalid_0's rmse: 0.601826\n",
      "[190]\tvalid_0's rmse: 0.601787\n",
      "[191]\tvalid_0's rmse: 0.601742\n",
      "[192]\tvalid_0's rmse: 0.601689\n",
      "[193]\tvalid_0's rmse: 0.601657\n",
      "[194]\tvalid_0's rmse: 0.601713\n",
      "[195]\tvalid_0's rmse: 0.6018\n",
      "[196]\tvalid_0's rmse: 0.601825\n",
      "[197]\tvalid_0's rmse: 0.601757\n",
      "[198]\tvalid_0's rmse: 0.60167\n",
      "[199]\tvalid_0's rmse: 0.601512\n",
      "[200]\tvalid_0's rmse: 0.601239\n",
      "[201]\tvalid_0's rmse: 0.60107\n",
      "[202]\tvalid_0's rmse: 0.601076\n",
      "[203]\tvalid_0's rmse: 0.601193\n",
      "[204]\tvalid_0's rmse: 0.601184\n",
      "[205]\tvalid_0's rmse: 0.600991\n",
      "[206]\tvalid_0's rmse: 0.60096\n",
      "[207]\tvalid_0's rmse: 0.600786\n",
      "[208]\tvalid_0's rmse: 0.600999\n",
      "[209]\tvalid_0's rmse: 0.600995\n",
      "[210]\tvalid_0's rmse: 0.600859\n",
      "[211]\tvalid_0's rmse: 0.600701\n",
      "[212]\tvalid_0's rmse: 0.600579\n",
      "[213]\tvalid_0's rmse: 0.600558\n",
      "[214]\tvalid_0's rmse: 0.600592\n",
      "[215]\tvalid_0's rmse: 0.600578\n",
      "[216]\tvalid_0's rmse: 0.600555\n",
      "[217]\tvalid_0's rmse: 0.600613\n",
      "[218]\tvalid_0's rmse: 0.600461\n",
      "[219]\tvalid_0's rmse: 0.600295\n",
      "[220]\tvalid_0's rmse: 0.600326\n",
      "[221]\tvalid_0's rmse: 0.600412\n",
      "[222]\tvalid_0's rmse: 0.600422\n",
      "[223]\tvalid_0's rmse: 0.600256\n",
      "[224]\tvalid_0's rmse: 0.600409\n",
      "[225]\tvalid_0's rmse: 0.600253\n",
      "[226]\tvalid_0's rmse: 0.600235\n",
      "[227]\tvalid_0's rmse: 0.600117\n",
      "[228]\tvalid_0's rmse: 0.600133\n",
      "[229]\tvalid_0's rmse: 0.600111\n",
      "[230]\tvalid_0's rmse: 0.599952\n",
      "[231]\tvalid_0's rmse: 0.600072\n",
      "[232]\tvalid_0's rmse: 0.600039\n",
      "[233]\tvalid_0's rmse: 0.600083\n",
      "[234]\tvalid_0's rmse: 0.600025\n",
      "[235]\tvalid_0's rmse: 0.600058\n",
      "[236]\tvalid_0's rmse: 0.600129\n",
      "[237]\tvalid_0's rmse: 0.600039\n",
      "[238]\tvalid_0's rmse: 0.600018\n",
      "[239]\tvalid_0's rmse: 0.600061\n",
      "[240]\tvalid_0's rmse: 0.600127\n",
      "[241]\tvalid_0's rmse: 0.600233\n",
      "[242]\tvalid_0's rmse: 0.60018\n",
      "[243]\tvalid_0's rmse: 0.600262\n",
      "[244]\tvalid_0's rmse: 0.600146\n",
      "[245]\tvalid_0's rmse: 0.60006\n",
      "[246]\tvalid_0's rmse: 0.60003\n",
      "[247]\tvalid_0's rmse: 0.600005\n",
      "[248]\tvalid_0's rmse: 0.600195\n",
      "[249]\tvalid_0's rmse: 0.600016\n",
      "[250]\tvalid_0's rmse: 0.599893\n",
      "[251]\tvalid_0's rmse: 0.59994\n",
      "[252]\tvalid_0's rmse: 0.600068\n",
      "[253]\tvalid_0's rmse: 0.600043\n",
      "[254]\tvalid_0's rmse: 0.600003\n",
      "[255]\tvalid_0's rmse: 0.599924\n",
      "[256]\tvalid_0's rmse: 0.599833\n",
      "[257]\tvalid_0's rmse: 0.599684\n",
      "[258]\tvalid_0's rmse: 0.599708\n",
      "[259]\tvalid_0's rmse: 0.59961\n",
      "[260]\tvalid_0's rmse: 0.599699\n",
      "[261]\tvalid_0's rmse: 0.599583\n",
      "[262]\tvalid_0's rmse: 0.599593\n",
      "[263]\tvalid_0's rmse: 0.59958\n",
      "[264]\tvalid_0's rmse: 0.599352\n",
      "[265]\tvalid_0's rmse: 0.599276\n",
      "[266]\tvalid_0's rmse: 0.599169\n",
      "[267]\tvalid_0's rmse: 0.599346\n",
      "[268]\tvalid_0's rmse: 0.599295\n",
      "[269]\tvalid_0's rmse: 0.599278\n",
      "[270]\tvalid_0's rmse: 0.599318\n",
      "[271]\tvalid_0's rmse: 0.599459\n",
      "[272]\tvalid_0's rmse: 0.599598\n",
      "[273]\tvalid_0's rmse: 0.599631\n",
      "[274]\tvalid_0's rmse: 0.599585\n",
      "[275]\tvalid_0's rmse: 0.599547\n",
      "[276]\tvalid_0's rmse: 0.599545\n",
      "[277]\tvalid_0's rmse: 0.599468\n",
      "[278]\tvalid_0's rmse: 0.599452\n",
      "[279]\tvalid_0's rmse: 0.599413\n",
      "[280]\tvalid_0's rmse: 0.59934\n",
      "[281]\tvalid_0's rmse: 0.599473\n",
      "[282]\tvalid_0's rmse: 0.599238\n",
      "[283]\tvalid_0's rmse: 0.599426\n",
      "[284]\tvalid_0's rmse: 0.599391\n",
      "[285]\tvalid_0's rmse: 0.599374\n",
      "[286]\tvalid_0's rmse: 0.599421\n",
      "[287]\tvalid_0's rmse: 0.599292\n",
      "[288]\tvalid_0's rmse: 0.599404\n",
      "[289]\tvalid_0's rmse: 0.599341\n",
      "[290]\tvalid_0's rmse: 0.599404\n",
      "[291]\tvalid_0's rmse: 0.599377\n",
      "[292]\tvalid_0's rmse: 0.599658\n",
      "[293]\tvalid_0's rmse: 0.599689\n",
      "[294]\tvalid_0's rmse: 0.599573\n",
      "[295]\tvalid_0's rmse: 0.599468\n",
      "[296]\tvalid_0's rmse: 0.599476\n",
      "[297]\tvalid_0's rmse: 0.599301\n",
      "[298]\tvalid_0's rmse: 0.59932\n",
      "[299]\tvalid_0's rmse: 0.599445\n",
      "[300]\tvalid_0's rmse: 0.599544\n",
      "[301]\tvalid_0's rmse: 0.599427\n",
      "[302]\tvalid_0's rmse: 0.599274\n",
      "[303]\tvalid_0's rmse: 0.599339\n",
      "[304]\tvalid_0's rmse: 0.599233\n",
      "[305]\tvalid_0's rmse: 0.599215\n",
      "[306]\tvalid_0's rmse: 0.599184\n",
      "[307]\tvalid_0's rmse: 0.59919\n",
      "[308]\tvalid_0's rmse: 0.599092\n",
      "[309]\tvalid_0's rmse: 0.599156\n",
      "[310]\tvalid_0's rmse: 0.599074\n",
      "[311]\tvalid_0's rmse: 0.599054\n",
      "[312]\tvalid_0's rmse: 0.598969\n",
      "[313]\tvalid_0's rmse: 0.598947\n",
      "[314]\tvalid_0's rmse: 0.598881\n",
      "[315]\tvalid_0's rmse: 0.598788\n",
      "[316]\tvalid_0's rmse: 0.598731\n",
      "[317]\tvalid_0's rmse: 0.598802\n",
      "[318]\tvalid_0's rmse: 0.598758\n",
      "[319]\tvalid_0's rmse: 0.598747\n",
      "[320]\tvalid_0's rmse: 0.598852\n",
      "[321]\tvalid_0's rmse: 0.598927\n",
      "[322]\tvalid_0's rmse: 0.599128\n",
      "[323]\tvalid_0's rmse: 0.598951\n",
      "[324]\tvalid_0's rmse: 0.598946\n",
      "[325]\tvalid_0's rmse: 0.59896\n",
      "[326]\tvalid_0's rmse: 0.598883\n",
      "[327]\tvalid_0's rmse: 0.59868\n",
      "[328]\tvalid_0's rmse: 0.598691\n",
      "[329]\tvalid_0's rmse: 0.59855\n",
      "[330]\tvalid_0's rmse: 0.5987\n",
      "[331]\tvalid_0's rmse: 0.598667\n",
      "[332]\tvalid_0's rmse: 0.598793\n",
      "[333]\tvalid_0's rmse: 0.598885\n",
      "[334]\tvalid_0's rmse: 0.598932\n",
      "[335]\tvalid_0's rmse: 0.598704\n",
      "[336]\tvalid_0's rmse: 0.59877\n",
      "[337]\tvalid_0's rmse: 0.598755\n",
      "[338]\tvalid_0's rmse: 0.598877\n",
      "[339]\tvalid_0's rmse: 0.598973\n",
      "[340]\tvalid_0's rmse: 0.598938\n",
      "[341]\tvalid_0's rmse: 0.598818\n",
      "[342]\tvalid_0's rmse: 0.598825\n",
      "[343]\tvalid_0's rmse: 0.598815\n",
      "[344]\tvalid_0's rmse: 0.598784\n",
      "[345]\tvalid_0's rmse: 0.598865\n",
      "[346]\tvalid_0's rmse: 0.598773\n",
      "[347]\tvalid_0's rmse: 0.598803\n",
      "[348]\tvalid_0's rmse: 0.598737\n",
      "[349]\tvalid_0's rmse: 0.598817\n",
      "[350]\tvalid_0's rmse: 0.598732\n",
      "[351]\tvalid_0's rmse: 0.598871\n",
      "[352]\tvalid_0's rmse: 0.599021\n",
      "[353]\tvalid_0's rmse: 0.599042\n",
      "[354]\tvalid_0's rmse: 0.599086\n",
      "[355]\tvalid_0's rmse: 0.598956\n",
      "[356]\tvalid_0's rmse: 0.599052\n",
      "[357]\tvalid_0's rmse: 0.599184\n",
      "[358]\tvalid_0's rmse: 0.599149\n",
      "[359]\tvalid_0's rmse: 0.599168\n",
      "[360]\tvalid_0's rmse: 0.599374\n",
      "[361]\tvalid_0's rmse: 0.599311\n",
      "[362]\tvalid_0's rmse: 0.599347\n",
      "[363]\tvalid_0's rmse: 0.599348\n",
      "[364]\tvalid_0's rmse: 0.599445\n",
      "[365]\tvalid_0's rmse: 0.599487\n",
      "[366]\tvalid_0's rmse: 0.599506\n",
      "[367]\tvalid_0's rmse: 0.599545\n",
      "[368]\tvalid_0's rmse: 0.59967\n",
      "[369]\tvalid_0's rmse: 0.59946\n",
      "[370]\tvalid_0's rmse: 0.599331\n",
      "[371]\tvalid_0's rmse: 0.599482\n",
      "[372]\tvalid_0's rmse: 0.5996\n",
      "[373]\tvalid_0's rmse: 0.599718\n",
      "[374]\tvalid_0's rmse: 0.599576\n",
      "[375]\tvalid_0's rmse: 0.599582\n",
      "[376]\tvalid_0's rmse: 0.59959\n",
      "[377]\tvalid_0's rmse: 0.5998\n",
      "[378]\tvalid_0's rmse: 0.599809\n",
      "[379]\tvalid_0's rmse: 0.599803\n",
      "[380]\tvalid_0's rmse: 0.599788\n",
      "[381]\tvalid_0's rmse: 0.599838\n",
      "[382]\tvalid_0's rmse: 0.599872\n",
      "[383]\tvalid_0's rmse: 0.599876\n",
      "[384]\tvalid_0's rmse: 0.600006\n",
      "[385]\tvalid_0's rmse: 0.600143\n",
      "[386]\tvalid_0's rmse: 0.600168\n",
      "[387]\tvalid_0's rmse: 0.600284\n",
      "[388]\tvalid_0's rmse: 0.600237\n",
      "[389]\tvalid_0's rmse: 0.600163\n",
      "[390]\tvalid_0's rmse: 0.600149\n",
      "[391]\tvalid_0's rmse: 0.600303\n",
      "[392]\tvalid_0's rmse: 0.600192\n",
      "[393]\tvalid_0's rmse: 0.600293\n",
      "[394]\tvalid_0's rmse: 0.60043\n",
      "[395]\tvalid_0's rmse: 0.600519\n",
      "[396]\tvalid_0's rmse: 0.600365\n",
      "[397]\tvalid_0's rmse: 0.600303\n",
      "[398]\tvalid_0's rmse: 0.600253\n",
      "[399]\tvalid_0's rmse: 0.600229\n",
      "[400]\tvalid_0's rmse: 0.600219\n",
      "[401]\tvalid_0's rmse: 0.6003\n",
      "[402]\tvalid_0's rmse: 0.600344\n",
      "[403]\tvalid_0's rmse: 0.600427\n",
      "[404]\tvalid_0's rmse: 0.600279\n",
      "[405]\tvalid_0's rmse: 0.600231\n",
      "[406]\tvalid_0's rmse: 0.600451\n",
      "[407]\tvalid_0's rmse: 0.600461\n",
      "[408]\tvalid_0's rmse: 0.600356\n",
      "[409]\tvalid_0's rmse: 0.600417\n",
      "[410]\tvalid_0's rmse: 0.600574\n",
      "[411]\tvalid_0's rmse: 0.600548\n",
      "[412]\tvalid_0's rmse: 0.600535\n",
      "[413]\tvalid_0's rmse: 0.600513\n",
      "[414]\tvalid_0's rmse: 0.60041\n",
      "[415]\tvalid_0's rmse: 0.600332\n",
      "[416]\tvalid_0's rmse: 0.6003\n",
      "[417]\tvalid_0's rmse: 0.600266\n",
      "[418]\tvalid_0's rmse: 0.600332\n",
      "[419]\tvalid_0's rmse: 0.600377\n",
      "[420]\tvalid_0's rmse: 0.60022\n",
      "[421]\tvalid_0's rmse: 0.60035\n",
      "[422]\tvalid_0's rmse: 0.600516\n",
      "[423]\tvalid_0's rmse: 0.600472\n",
      "[424]\tvalid_0's rmse: 0.600421\n",
      "[425]\tvalid_0's rmse: 0.600511\n",
      "[426]\tvalid_0's rmse: 0.600386\n",
      "[427]\tvalid_0's rmse: 0.600383\n",
      "[428]\tvalid_0's rmse: 0.600394\n",
      "[429]\tvalid_0's rmse: 0.600377\n",
      "--------------------\n",
      "Fold:2:\n",
      "Feature Selection (get null_imp_df):\n",
      "Run 50 rounds of model training:\n"
     ]
    },
    {
     "name": "stderr",
     "output_type": "stream",
     "text": [
      "  0%|          | 0/50 [00:00<?, ?it/s]"
     ]
    },
    {
     "name": "stdout",
     "output_type": "stream",
     "text": [
      "[LightGBM] [Warning] bagging_fraction is set=0.75, subsample=0.9778252382803456 will be ignored. Current value: bagging_fraction=0.75\n",
      "[LightGBM] [Warning] bagging_freq is set=1, subsample_freq=0 will be ignored. Current value: bagging_freq=1\n",
      "[LightGBM] [Warning] feature_fraction is set=0.8, colsample_bytree=0.5420247656839267 will be ignored. Current value: feature_fraction=0.8\n"
     ]
    },
    {
     "name": "stderr",
     "output_type": "stream",
     "text": [
      "100%|██████████| 50/50 [04:11<00:00,  5.02s/it]\n"
     ]
    },
    {
     "name": "stdout",
     "output_type": "stream",
     "text": [
      "Feature Selection (actual_imp_df):\n",
      "Run 50 rounds of model training:\n"
     ]
    },
    {
     "name": "stderr",
     "output_type": "stream",
     "text": [
      "100%|██████████| 50/50 [17:48<00:00, 21.37s/it]\n"
     ]
    },
    {
     "name": "stdout",
     "output_type": "stream",
     "text": [
      "Feature Selection by Null Importances: gain:\n"
     ]
    },
    {
     "name": "stderr",
     "output_type": "stream",
     "text": [
      " 11%|█         | 1/9 [00:03<00:31,  3.92s/it]"
     ]
    },
    {
     "name": "stdout",
     "output_type": "stream",
     "text": [
      "[LightGBM] [Warning] bagging_fraction is set=0.75, subsample=0.9778252382803456 will be ignored. Current value: bagging_fraction=0.75\n",
      "[LightGBM] [Warning] bagging_freq is set=1, subsample_freq=0 will be ignored. Current value: bagging_freq=1\n",
      "[LightGBM] [Warning] feature_fraction is set=0.8, colsample_bytree=0.5420247656839267 will be ignored. Current value: feature_fraction=0.8\n"
     ]
    },
    {
     "name": "stderr",
     "output_type": "stream",
     "text": [
      " 22%|██▏       | 2/9 [00:09<00:34,  4.94s/it]"
     ]
    },
    {
     "name": "stdout",
     "output_type": "stream",
     "text": [
      "[LightGBM] [Warning] bagging_fraction is set=0.75, subsample=0.9778252382803456 will be ignored. Current value: bagging_fraction=0.75\n",
      "[LightGBM] [Warning] bagging_freq is set=1, subsample_freq=0 will be ignored. Current value: bagging_freq=1\n",
      "[LightGBM] [Warning] feature_fraction is set=0.8, colsample_bytree=0.5420247656839267 will be ignored. Current value: feature_fraction=0.8\n"
     ]
    },
    {
     "name": "stderr",
     "output_type": "stream",
     "text": [
      " 33%|███▎      | 3/9 [00:16<00:34,  5.78s/it]"
     ]
    },
    {
     "name": "stdout",
     "output_type": "stream",
     "text": [
      "[LightGBM] [Warning] bagging_fraction is set=0.75, subsample=0.9778252382803456 will be ignored. Current value: bagging_fraction=0.75\n",
      "[LightGBM] [Warning] bagging_freq is set=1, subsample_freq=0 will be ignored. Current value: bagging_freq=1\n",
      "[LightGBM] [Warning] feature_fraction is set=0.8, colsample_bytree=0.5420247656839267 will be ignored. Current value: feature_fraction=0.8\n"
     ]
    },
    {
     "name": "stderr",
     "output_type": "stream",
     "text": [
      " 44%|████▍     | 4/9 [00:22<00:29,  5.84s/it]"
     ]
    },
    {
     "name": "stdout",
     "output_type": "stream",
     "text": [
      "[LightGBM] [Warning] bagging_fraction is set=0.75, subsample=0.9778252382803456 will be ignored. Current value: bagging_fraction=0.75\n",
      "[LightGBM] [Warning] bagging_freq is set=1, subsample_freq=0 will be ignored. Current value: bagging_freq=1\n",
      "[LightGBM] [Warning] feature_fraction is set=0.8, colsample_bytree=0.5420247656839267 will be ignored. Current value: feature_fraction=0.8\n"
     ]
    },
    {
     "name": "stderr",
     "output_type": "stream",
     "text": [
      " 56%|█████▌    | 5/9 [00:29<00:25,  6.31s/it]"
     ]
    },
    {
     "name": "stdout",
     "output_type": "stream",
     "text": [
      "[LightGBM] [Warning] bagging_fraction is set=0.75, subsample=0.9778252382803456 will be ignored. Current value: bagging_fraction=0.75\n",
      "[LightGBM] [Warning] bagging_freq is set=1, subsample_freq=0 will be ignored. Current value: bagging_freq=1\n",
      "[LightGBM] [Warning] feature_fraction is set=0.8, colsample_bytree=0.5420247656839267 will be ignored. Current value: feature_fraction=0.8\n"
     ]
    },
    {
     "name": "stderr",
     "output_type": "stream",
     "text": [
      " 67%|██████▋   | 6/9 [00:36<00:19,  6.43s/it]"
     ]
    },
    {
     "name": "stdout",
     "output_type": "stream",
     "text": [
      "[LightGBM] [Warning] bagging_fraction is set=0.75, subsample=0.9778252382803456 will be ignored. Current value: bagging_fraction=0.75\n",
      "[LightGBM] [Warning] bagging_freq is set=1, subsample_freq=0 will be ignored. Current value: bagging_freq=1\n",
      "[LightGBM] [Warning] feature_fraction is set=0.8, colsample_bytree=0.5420247656839267 will be ignored. Current value: feature_fraction=0.8\n"
     ]
    },
    {
     "name": "stderr",
     "output_type": "stream",
     "text": [
      " 78%|███████▊  | 7/9 [00:45<00:14,  7.37s/it]"
     ]
    },
    {
     "name": "stdout",
     "output_type": "stream",
     "text": [
      "[LightGBM] [Warning] bagging_fraction is set=0.75, subsample=0.9778252382803456 will be ignored. Current value: bagging_fraction=0.75\n",
      "[LightGBM] [Warning] bagging_freq is set=1, subsample_freq=0 will be ignored. Current value: bagging_freq=1\n",
      "[LightGBM] [Warning] feature_fraction is set=0.8, colsample_bytree=0.5420247656839267 will be ignored. Current value: feature_fraction=0.8\n"
     ]
    },
    {
     "name": "stderr",
     "output_type": "stream",
     "text": [
      " 89%|████████▉ | 8/9 [00:53<00:07,  7.62s/it]"
     ]
    },
    {
     "name": "stdout",
     "output_type": "stream",
     "text": [
      "[LightGBM] [Warning] bagging_fraction is set=0.75, subsample=0.9778252382803456 will be ignored. Current value: bagging_fraction=0.75\n",
      "[LightGBM] [Warning] bagging_freq is set=1, subsample_freq=0 will be ignored. Current value: bagging_freq=1\n",
      "[LightGBM] [Warning] feature_fraction is set=0.8, colsample_bytree=0.5420247656839267 will be ignored. Current value: feature_fraction=0.8\n"
     ]
    },
    {
     "name": "stderr",
     "output_type": "stream",
     "text": [
      "100%|██████████| 9/9 [01:01<00:00,  6.83s/it]\n"
     ]
    },
    {
     "name": "stdout",
     "output_type": "stream",
     "text": [
      "Feature Selection by Null Importances: split:\n"
     ]
    },
    {
     "name": "stderr",
     "output_type": "stream",
     "text": [
      "  0%|          | 0/9 [00:00<?, ?it/s]"
     ]
    },
    {
     "name": "stdout",
     "output_type": "stream",
     "text": [
      "[LightGBM] [Warning] bagging_fraction is set=0.75, subsample=0.9778252382803456 will be ignored. Current value: bagging_fraction=0.75\n",
      "[LightGBM] [Warning] bagging_freq is set=1, subsample_freq=0 will be ignored. Current value: bagging_freq=1\n",
      "[LightGBM] [Warning] feature_fraction is set=0.8, colsample_bytree=0.5420247656839267 will be ignored. Current value: feature_fraction=0.8\n"
     ]
    },
    {
     "name": "stderr",
     "output_type": "stream",
     "text": [
      " 11%|█         | 1/9 [00:05<00:40,  5.01s/it]"
     ]
    },
    {
     "name": "stdout",
     "output_type": "stream",
     "text": [
      "[LightGBM] [Warning] bagging_fraction is set=0.75, subsample=0.9778252382803456 will be ignored. Current value: bagging_fraction=0.75\n",
      "[LightGBM] [Warning] bagging_freq is set=1, subsample_freq=0 will be ignored. Current value: bagging_freq=1\n",
      "[LightGBM] [Warning] feature_fraction is set=0.8, colsample_bytree=0.5420247656839267 will be ignored. Current value: feature_fraction=0.8\n"
     ]
    },
    {
     "name": "stderr",
     "output_type": "stream",
     "text": [
      " 22%|██▏       | 2/9 [00:11<00:39,  5.66s/it]"
     ]
    },
    {
     "name": "stdout",
     "output_type": "stream",
     "text": [
      "[LightGBM] [Warning] bagging_fraction is set=0.75, subsample=0.9778252382803456 will be ignored. Current value: bagging_fraction=0.75\n",
      "[LightGBM] [Warning] bagging_freq is set=1, subsample_freq=0 will be ignored. Current value: bagging_freq=1\n",
      "[LightGBM] [Warning] feature_fraction is set=0.8, colsample_bytree=0.5420247656839267 will be ignored. Current value: feature_fraction=0.8\n"
     ]
    },
    {
     "name": "stderr",
     "output_type": "stream",
     "text": [
      " 33%|███▎      | 3/9 [00:18<00:38,  6.43s/it]"
     ]
    },
    {
     "name": "stdout",
     "output_type": "stream",
     "text": [
      "[LightGBM] [Warning] bagging_fraction is set=0.75, subsample=0.9778252382803456 will be ignored. Current value: bagging_fraction=0.75\n",
      "[LightGBM] [Warning] bagging_freq is set=1, subsample_freq=0 will be ignored. Current value: bagging_freq=1\n",
      "[LightGBM] [Warning] feature_fraction is set=0.8, colsample_bytree=0.5420247656839267 will be ignored. Current value: feature_fraction=0.8\n"
     ]
    },
    {
     "name": "stderr",
     "output_type": "stream",
     "text": [
      " 44%|████▍     | 4/9 [00:24<00:30,  6.16s/it]"
     ]
    },
    {
     "name": "stdout",
     "output_type": "stream",
     "text": [
      "[LightGBM] [Warning] bagging_fraction is set=0.75, subsample=0.9778252382803456 will be ignored. Current value: bagging_fraction=0.75\n",
      "[LightGBM] [Warning] bagging_freq is set=1, subsample_freq=0 will be ignored. Current value: bagging_freq=1\n",
      "[LightGBM] [Warning] feature_fraction is set=0.8, colsample_bytree=0.5420247656839267 will be ignored. Current value: feature_fraction=0.8\n"
     ]
    },
    {
     "name": "stderr",
     "output_type": "stream",
     "text": [
      " 56%|█████▌    | 5/9 [00:29<00:23,  5.94s/it]"
     ]
    },
    {
     "name": "stdout",
     "output_type": "stream",
     "text": [
      "[LightGBM] [Warning] bagging_fraction is set=0.75, subsample=0.9778252382803456 will be ignored. Current value: bagging_fraction=0.75\n",
      "[LightGBM] [Warning] bagging_freq is set=1, subsample_freq=0 will be ignored. Current value: bagging_freq=1\n",
      "[LightGBM] [Warning] feature_fraction is set=0.8, colsample_bytree=0.5420247656839267 will be ignored. Current value: feature_fraction=0.8\n"
     ]
    },
    {
     "name": "stderr",
     "output_type": "stream",
     "text": [
      " 67%|██████▋   | 6/9 [00:35<00:17,  5.85s/it]"
     ]
    },
    {
     "name": "stdout",
     "output_type": "stream",
     "text": [
      "[LightGBM] [Warning] bagging_fraction is set=0.75, subsample=0.9778252382803456 will be ignored. Current value: bagging_fraction=0.75\n",
      "[LightGBM] [Warning] bagging_freq is set=1, subsample_freq=0 will be ignored. Current value: bagging_freq=1\n",
      "[LightGBM] [Warning] feature_fraction is set=0.8, colsample_bytree=0.5420247656839267 will be ignored. Current value: feature_fraction=0.8\n"
     ]
    },
    {
     "name": "stderr",
     "output_type": "stream",
     "text": [
      " 78%|███████▊  | 7/9 [00:41<00:12,  6.02s/it]"
     ]
    },
    {
     "name": "stdout",
     "output_type": "stream",
     "text": [
      "[LightGBM] [Warning] bagging_fraction is set=0.75, subsample=0.9778252382803456 will be ignored. Current value: bagging_fraction=0.75\n",
      "[LightGBM] [Warning] bagging_freq is set=1, subsample_freq=0 will be ignored. Current value: bagging_freq=1\n",
      "[LightGBM] [Warning] feature_fraction is set=0.8, colsample_bytree=0.5420247656839267 will be ignored. Current value: feature_fraction=0.8\n"
     ]
    },
    {
     "name": "stderr",
     "output_type": "stream",
     "text": [
      " 89%|████████▉ | 8/9 [00:49<00:06,  6.48s/it]"
     ]
    },
    {
     "name": "stdout",
     "output_type": "stream",
     "text": [
      "[LightGBM] [Warning] bagging_fraction is set=0.75, subsample=0.9778252382803456 will be ignored. Current value: bagging_fraction=0.75\n",
      "[LightGBM] [Warning] bagging_freq is set=1, subsample_freq=0 will be ignored. Current value: bagging_freq=1\n",
      "[LightGBM] [Warning] feature_fraction is set=0.8, colsample_bytree=0.5420247656839267 will be ignored. Current value: feature_fraction=0.8\n"
     ]
    },
    {
     "name": "stderr",
     "output_type": "stream",
     "text": [
      "100%|██████████| 9/9 [00:55<00:00,  6.20s/it]\n"
     ]
    },
    {
     "name": "stdout",
     "output_type": "stream",
     "text": [
      "Feature Selection by Null Importances: both:\n"
     ]
    },
    {
     "name": "stderr",
     "output_type": "stream",
     "text": [
      "  0%|          | 0/9 [00:00<?, ?it/s]"
     ]
    },
    {
     "name": "stdout",
     "output_type": "stream",
     "text": [
      "[LightGBM] [Warning] bagging_fraction is set=0.75, subsample=0.9778252382803456 will be ignored. Current value: bagging_fraction=0.75\n",
      "[LightGBM] [Warning] bagging_freq is set=1, subsample_freq=0 will be ignored. Current value: bagging_freq=1\n",
      "[LightGBM] [Warning] feature_fraction is set=0.8, colsample_bytree=0.5420247656839267 will be ignored. Current value: feature_fraction=0.8\n"
     ]
    },
    {
     "name": "stderr",
     "output_type": "stream",
     "text": [
      " 11%|█         | 1/9 [00:03<00:28,  3.58s/it]"
     ]
    },
    {
     "name": "stdout",
     "output_type": "stream",
     "text": [
      "[LightGBM] [Warning] bagging_fraction is set=0.75, subsample=0.9778252382803456 will be ignored. Current value: bagging_fraction=0.75\n",
      "[LightGBM] [Warning] bagging_freq is set=1, subsample_freq=0 will be ignored. Current value: bagging_freq=1\n",
      "[LightGBM] [Warning] feature_fraction is set=0.8, colsample_bytree=0.5420247656839267 will be ignored. Current value: feature_fraction=0.8\n"
     ]
    },
    {
     "name": "stderr",
     "output_type": "stream",
     "text": [
      " 22%|██▏       | 2/9 [00:08<00:30,  4.35s/it]"
     ]
    },
    {
     "name": "stdout",
     "output_type": "stream",
     "text": [
      "[LightGBM] [Warning] bagging_fraction is set=0.75, subsample=0.9778252382803456 will be ignored. Current value: bagging_fraction=0.75\n",
      "[LightGBM] [Warning] bagging_freq is set=1, subsample_freq=0 will be ignored. Current value: bagging_freq=1\n",
      "[LightGBM] [Warning] feature_fraction is set=0.8, colsample_bytree=0.5420247656839267 will be ignored. Current value: feature_fraction=0.8\n"
     ]
    },
    {
     "name": "stderr",
     "output_type": "stream",
     "text": [
      " 33%|███▎      | 3/9 [00:13<00:27,  4.56s/it]"
     ]
    },
    {
     "name": "stdout",
     "output_type": "stream",
     "text": [
      "[LightGBM] [Warning] bagging_fraction is set=0.75, subsample=0.9778252382803456 will be ignored. Current value: bagging_fraction=0.75\n",
      "[LightGBM] [Warning] bagging_freq is set=1, subsample_freq=0 will be ignored. Current value: bagging_freq=1\n",
      "[LightGBM] [Warning] feature_fraction is set=0.8, colsample_bytree=0.5420247656839267 will be ignored. Current value: feature_fraction=0.8\n"
     ]
    },
    {
     "name": "stderr",
     "output_type": "stream",
     "text": [
      " 44%|████▍     | 4/9 [00:18<00:24,  4.82s/it]"
     ]
    },
    {
     "name": "stdout",
     "output_type": "stream",
     "text": [
      "[LightGBM] [Warning] bagging_fraction is set=0.75, subsample=0.9778252382803456 will be ignored. Current value: bagging_fraction=0.75\n",
      "[LightGBM] [Warning] bagging_freq is set=1, subsample_freq=0 will be ignored. Current value: bagging_freq=1\n",
      "[LightGBM] [Warning] feature_fraction is set=0.8, colsample_bytree=0.5420247656839267 will be ignored. Current value: feature_fraction=0.8\n"
     ]
    },
    {
     "name": "stderr",
     "output_type": "stream",
     "text": [
      " 56%|█████▌    | 5/9 [00:25<00:21,  5.49s/it]"
     ]
    },
    {
     "name": "stdout",
     "output_type": "stream",
     "text": [
      "[LightGBM] [Warning] bagging_fraction is set=0.75, subsample=0.9778252382803456 will be ignored. Current value: bagging_fraction=0.75\n",
      "[LightGBM] [Warning] bagging_freq is set=1, subsample_freq=0 will be ignored. Current value: bagging_freq=1\n",
      "[LightGBM] [Warning] feature_fraction is set=0.8, colsample_bytree=0.5420247656839267 will be ignored. Current value: feature_fraction=0.8\n"
     ]
    },
    {
     "name": "stderr",
     "output_type": "stream",
     "text": [
      " 67%|██████▋   | 6/9 [00:30<00:16,  5.54s/it]"
     ]
    },
    {
     "name": "stdout",
     "output_type": "stream",
     "text": [
      "[LightGBM] [Warning] bagging_fraction is set=0.75, subsample=0.9778252382803456 will be ignored. Current value: bagging_fraction=0.75\n",
      "[LightGBM] [Warning] bagging_freq is set=1, subsample_freq=0 will be ignored. Current value: bagging_freq=1\n",
      "[LightGBM] [Warning] feature_fraction is set=0.8, colsample_bytree=0.5420247656839267 will be ignored. Current value: feature_fraction=0.8\n"
     ]
    },
    {
     "name": "stderr",
     "output_type": "stream",
     "text": [
      " 78%|███████▊  | 7/9 [00:37<00:11,  5.78s/it]"
     ]
    },
    {
     "name": "stdout",
     "output_type": "stream",
     "text": [
      "[LightGBM] [Warning] bagging_fraction is set=0.75, subsample=0.9778252382803456 will be ignored. Current value: bagging_fraction=0.75\n",
      "[LightGBM] [Warning] bagging_freq is set=1, subsample_freq=0 will be ignored. Current value: bagging_freq=1\n",
      "[LightGBM] [Warning] feature_fraction is set=0.8, colsample_bytree=0.5420247656839267 will be ignored. Current value: feature_fraction=0.8\n"
     ]
    },
    {
     "name": "stderr",
     "output_type": "stream",
     "text": [
      " 89%|████████▉ | 8/9 [00:43<00:05,  5.95s/it]"
     ]
    },
    {
     "name": "stdout",
     "output_type": "stream",
     "text": [
      "[LightGBM] [Warning] bagging_fraction is set=0.75, subsample=0.9778252382803456 will be ignored. Current value: bagging_fraction=0.75\n",
      "[LightGBM] [Warning] bagging_freq is set=1, subsample_freq=0 will be ignored. Current value: bagging_freq=1\n",
      "[LightGBM] [Warning] feature_fraction is set=0.8, colsample_bytree=0.5420247656839267 will be ignored. Current value: feature_fraction=0.8\n"
     ]
    },
    {
     "name": "stderr",
     "output_type": "stream",
     "text": [
      "100%|██████████| 9/9 [00:49<00:00,  5.54s/it]\n"
     ]
    },
    {
     "name": "stdout",
     "output_type": "stream",
     "text": [
      "After feature selection: 638 -> 448.\n",
      "[LightGBM] [Warning] bagging_fraction is set=0.75, subsample=0.9778252382803456 will be ignored. Current value: bagging_fraction=0.75\n",
      "[LightGBM] [Warning] bagging_freq is set=1, subsample_freq=0 will be ignored. Current value: bagging_freq=1\n",
      "[LightGBM] [Warning] feature_fraction is set=0.8, colsample_bytree=0.5420247656839267 will be ignored. Current value: feature_fraction=0.8\n",
      "[1]\tvalid_0's rmse: 1.01514\n",
      "[2]\tvalid_0's rmse: 1.00451\n",
      "[3]\tvalid_0's rmse: 0.993716\n",
      "[4]\tvalid_0's rmse: 0.983735\n",
      "[5]\tvalid_0's rmse: 0.973702\n",
      "[6]\tvalid_0's rmse: 0.963807\n",
      "[7]\tvalid_0's rmse: 0.953821\n",
      "[8]\tvalid_0's rmse: 0.944589\n",
      "[9]\tvalid_0's rmse: 0.935321\n",
      "[10]\tvalid_0's rmse: 0.926042\n",
      "[11]\tvalid_0's rmse: 0.91736\n",
      "[12]\tvalid_0's rmse: 0.908632\n",
      "[13]\tvalid_0's rmse: 0.900076\n",
      "[14]\tvalid_0's rmse: 0.891884\n",
      "[15]\tvalid_0's rmse: 0.883434\n",
      "[16]\tvalid_0's rmse: 0.87571\n",
      "[17]\tvalid_0's rmse: 0.867961\n",
      "[18]\tvalid_0's rmse: 0.86076\n",
      "[19]\tvalid_0's rmse: 0.85359\n",
      "[20]\tvalid_0's rmse: 0.846701\n",
      "[21]\tvalid_0's rmse: 0.839869\n",
      "[22]\tvalid_0's rmse: 0.833438\n",
      "[23]\tvalid_0's rmse: 0.82678\n",
      "[24]\tvalid_0's rmse: 0.820588\n",
      "[25]\tvalid_0's rmse: 0.814624\n",
      "[26]\tvalid_0's rmse: 0.808731\n",
      "[27]\tvalid_0's rmse: 0.802988\n",
      "[28]\tvalid_0's rmse: 0.797253\n",
      "[29]\tvalid_0's rmse: 0.791632\n",
      "[30]\tvalid_0's rmse: 0.786157\n",
      "[31]\tvalid_0's rmse: 0.780478\n",
      "[32]\tvalid_0's rmse: 0.775275\n",
      "[33]\tvalid_0's rmse: 0.770042\n",
      "[34]\tvalid_0's rmse: 0.764962\n",
      "[35]\tvalid_0's rmse: 0.760553\n",
      "[36]\tvalid_0's rmse: 0.756077\n",
      "[37]\tvalid_0's rmse: 0.751992\n",
      "[38]\tvalid_0's rmse: 0.747057\n",
      "[39]\tvalid_0's rmse: 0.742378\n",
      "[40]\tvalid_0's rmse: 0.738332\n",
      "[41]\tvalid_0's rmse: 0.734117\n",
      "[42]\tvalid_0's rmse: 0.729712\n",
      "[43]\tvalid_0's rmse: 0.725817\n",
      "[44]\tvalid_0's rmse: 0.72217\n",
      "[45]\tvalid_0's rmse: 0.71829\n",
      "[46]\tvalid_0's rmse: 0.714595\n",
      "[47]\tvalid_0's rmse: 0.711112\n",
      "[48]\tvalid_0's rmse: 0.707579\n",
      "[49]\tvalid_0's rmse: 0.703828\n",
      "[50]\tvalid_0's rmse: 0.700898\n",
      "[51]\tvalid_0's rmse: 0.697908\n",
      "[52]\tvalid_0's rmse: 0.695041\n",
      "[53]\tvalid_0's rmse: 0.69191\n",
      "[54]\tvalid_0's rmse: 0.688871\n",
      "[55]\tvalid_0's rmse: 0.686281\n",
      "[56]\tvalid_0's rmse: 0.683497\n",
      "[57]\tvalid_0's rmse: 0.680829\n",
      "[58]\tvalid_0's rmse: 0.678456\n",
      "[59]\tvalid_0's rmse: 0.676151\n",
      "[60]\tvalid_0's rmse: 0.673582\n",
      "[61]\tvalid_0's rmse: 0.671111\n",
      "[62]\tvalid_0's rmse: 0.669065\n",
      "[63]\tvalid_0's rmse: 0.666839\n",
      "[64]\tvalid_0's rmse: 0.664632\n",
      "[65]\tvalid_0's rmse: 0.662917\n",
      "[66]\tvalid_0's rmse: 0.660753\n",
      "[67]\tvalid_0's rmse: 0.658701\n",
      "[68]\tvalid_0's rmse: 0.656597\n",
      "[69]\tvalid_0's rmse: 0.654772\n",
      "[70]\tvalid_0's rmse: 0.652338\n",
      "[71]\tvalid_0's rmse: 0.650622\n",
      "[72]\tvalid_0's rmse: 0.648891\n",
      "[73]\tvalid_0's rmse: 0.647054\n",
      "[74]\tvalid_0's rmse: 0.645285\n",
      "[75]\tvalid_0's rmse: 0.643573\n",
      "[76]\tvalid_0's rmse: 0.641859\n",
      "[77]\tvalid_0's rmse: 0.640311\n",
      "[78]\tvalid_0's rmse: 0.638532\n",
      "[79]\tvalid_0's rmse: 0.637\n",
      "[80]\tvalid_0's rmse: 0.635382\n",
      "[81]\tvalid_0's rmse: 0.634028\n",
      "[82]\tvalid_0's rmse: 0.632499\n",
      "[83]\tvalid_0's rmse: 0.631642\n",
      "[84]\tvalid_0's rmse: 0.630333\n",
      "[85]\tvalid_0's rmse: 0.629163\n",
      "[86]\tvalid_0's rmse: 0.627982\n",
      "[87]\tvalid_0's rmse: 0.626759\n",
      "[88]\tvalid_0's rmse: 0.625384\n",
      "[89]\tvalid_0's rmse: 0.624475\n",
      "[90]\tvalid_0's rmse: 0.624079\n",
      "[91]\tvalid_0's rmse: 0.623115\n",
      "[92]\tvalid_0's rmse: 0.622253\n",
      "[93]\tvalid_0's rmse: 0.621548\n",
      "[94]\tvalid_0's rmse: 0.620791\n",
      "[95]\tvalid_0's rmse: 0.619833\n",
      "[96]\tvalid_0's rmse: 0.618731\n",
      "[97]\tvalid_0's rmse: 0.61776\n",
      "[98]\tvalid_0's rmse: 0.617013\n",
      "[99]\tvalid_0's rmse: 0.616132\n",
      "[100]\tvalid_0's rmse: 0.615208\n",
      "[101]\tvalid_0's rmse: 0.614371\n",
      "[102]\tvalid_0's rmse: 0.613695\n",
      "[103]\tvalid_0's rmse: 0.613212\n",
      "[104]\tvalid_0's rmse: 0.612397\n",
      "[105]\tvalid_0's rmse: 0.611837\n",
      "[106]\tvalid_0's rmse: 0.611382\n",
      "[107]\tvalid_0's rmse: 0.6106\n",
      "[108]\tvalid_0's rmse: 0.610055\n",
      "[109]\tvalid_0's rmse: 0.609294\n",
      "[110]\tvalid_0's rmse: 0.608876\n",
      "[111]\tvalid_0's rmse: 0.607969\n",
      "[112]\tvalid_0's rmse: 0.607652\n",
      "[113]\tvalid_0's rmse: 0.606997\n",
      "[114]\tvalid_0's rmse: 0.606347\n",
      "[115]\tvalid_0's rmse: 0.605603\n",
      "[116]\tvalid_0's rmse: 0.604884\n",
      "[117]\tvalid_0's rmse: 0.604491\n",
      "[118]\tvalid_0's rmse: 0.603977\n",
      "[119]\tvalid_0's rmse: 0.603541\n",
      "[120]\tvalid_0's rmse: 0.603092\n",
      "[121]\tvalid_0's rmse: 0.602456\n",
      "[122]\tvalid_0's rmse: 0.601935\n",
      "[123]\tvalid_0's rmse: 0.601351\n",
      "[124]\tvalid_0's rmse: 0.600887\n",
      "[125]\tvalid_0's rmse: 0.600348\n",
      "[126]\tvalid_0's rmse: 0.600141\n",
      "[127]\tvalid_0's rmse: 0.599572\n",
      "[128]\tvalid_0's rmse: 0.599311\n",
      "[129]\tvalid_0's rmse: 0.598834\n",
      "[130]\tvalid_0's rmse: 0.598426\n",
      "[131]\tvalid_0's rmse: 0.598144\n",
      "[132]\tvalid_0's rmse: 0.597884\n",
      "[133]\tvalid_0's rmse: 0.597425\n",
      "[134]\tvalid_0's rmse: 0.597046\n",
      "[135]\tvalid_0's rmse: 0.596642\n",
      "[136]\tvalid_0's rmse: 0.596242\n",
      "[137]\tvalid_0's rmse: 0.595837\n",
      "[138]\tvalid_0's rmse: 0.595605\n",
      "[139]\tvalid_0's rmse: 0.595099\n",
      "[140]\tvalid_0's rmse: 0.594673\n",
      "[141]\tvalid_0's rmse: 0.594463\n",
      "[142]\tvalid_0's rmse: 0.594275\n",
      "[143]\tvalid_0's rmse: 0.59382\n",
      "[144]\tvalid_0's rmse: 0.593778\n",
      "[145]\tvalid_0's rmse: 0.593494\n",
      "[146]\tvalid_0's rmse: 0.593301\n",
      "[147]\tvalid_0's rmse: 0.593125\n",
      "[148]\tvalid_0's rmse: 0.592813\n",
      "[149]\tvalid_0's rmse: 0.592873\n",
      "[150]\tvalid_0's rmse: 0.592683\n",
      "[151]\tvalid_0's rmse: 0.59253\n",
      "[152]\tvalid_0's rmse: 0.592205\n",
      "[153]\tvalid_0's rmse: 0.591946\n",
      "[154]\tvalid_0's rmse: 0.591886\n",
      "[155]\tvalid_0's rmse: 0.591703\n",
      "[156]\tvalid_0's rmse: 0.591498\n",
      "[157]\tvalid_0's rmse: 0.591352\n",
      "[158]\tvalid_0's rmse: 0.591076\n",
      "[159]\tvalid_0's rmse: 0.590814\n",
      "[160]\tvalid_0's rmse: 0.590497\n",
      "[161]\tvalid_0's rmse: 0.59046\n",
      "[162]\tvalid_0's rmse: 0.590224\n",
      "[163]\tvalid_0's rmse: 0.590102\n",
      "[164]\tvalid_0's rmse: 0.589837\n",
      "[165]\tvalid_0's rmse: 0.589994\n",
      "[166]\tvalid_0's rmse: 0.589821\n",
      "[167]\tvalid_0's rmse: 0.589563\n",
      "[168]\tvalid_0's rmse: 0.589549\n",
      "[169]\tvalid_0's rmse: 0.589518\n",
      "[170]\tvalid_0's rmse: 0.589432\n",
      "[171]\tvalid_0's rmse: 0.58921\n",
      "[172]\tvalid_0's rmse: 0.589177\n",
      "[173]\tvalid_0's rmse: 0.589197\n",
      "[174]\tvalid_0's rmse: 0.589024\n",
      "[175]\tvalid_0's rmse: 0.588825\n",
      "[176]\tvalid_0's rmse: 0.588583\n",
      "[177]\tvalid_0's rmse: 0.588615\n",
      "[178]\tvalid_0's rmse: 0.588457\n",
      "[179]\tvalid_0's rmse: 0.588477\n",
      "[180]\tvalid_0's rmse: 0.588473\n",
      "[181]\tvalid_0's rmse: 0.588379\n",
      "[182]\tvalid_0's rmse: 0.58822\n",
      "[183]\tvalid_0's rmse: 0.588199\n",
      "[184]\tvalid_0's rmse: 0.58821\n",
      "[185]\tvalid_0's rmse: 0.588108\n",
      "[186]\tvalid_0's rmse: 0.587908\n",
      "[187]\tvalid_0's rmse: 0.587941\n",
      "[188]\tvalid_0's rmse: 0.588107\n",
      "[189]\tvalid_0's rmse: 0.588095\n",
      "[190]\tvalid_0's rmse: 0.588162\n",
      "[191]\tvalid_0's rmse: 0.588209\n",
      "[192]\tvalid_0's rmse: 0.588192\n",
      "[193]\tvalid_0's rmse: 0.588149\n",
      "[194]\tvalid_0's rmse: 0.588252\n",
      "[195]\tvalid_0's rmse: 0.588113\n",
      "[196]\tvalid_0's rmse: 0.588202\n",
      "[197]\tvalid_0's rmse: 0.588156\n",
      "[198]\tvalid_0's rmse: 0.588072\n",
      "[199]\tvalid_0's rmse: 0.587836\n",
      "[200]\tvalid_0's rmse: 0.58789\n",
      "[201]\tvalid_0's rmse: 0.587973\n",
      "[202]\tvalid_0's rmse: 0.587854\n",
      "[203]\tvalid_0's rmse: 0.58796\n",
      "[204]\tvalid_0's rmse: 0.588128\n",
      "[205]\tvalid_0's rmse: 0.588014\n",
      "[206]\tvalid_0's rmse: 0.587922\n",
      "[207]\tvalid_0's rmse: 0.58797\n",
      "[208]\tvalid_0's rmse: 0.588105\n",
      "[209]\tvalid_0's rmse: 0.588081\n",
      "[210]\tvalid_0's rmse: 0.588192\n",
      "[211]\tvalid_0's rmse: 0.588194\n",
      "[212]\tvalid_0's rmse: 0.58815\n",
      "[213]\tvalid_0's rmse: 0.58812\n",
      "[214]\tvalid_0's rmse: 0.588262\n",
      "[215]\tvalid_0's rmse: 0.588247\n",
      "[216]\tvalid_0's rmse: 0.588198\n",
      "[217]\tvalid_0's rmse: 0.588148\n",
      "[218]\tvalid_0's rmse: 0.58811\n",
      "[219]\tvalid_0's rmse: 0.588245\n",
      "[220]\tvalid_0's rmse: 0.588429\n",
      "[221]\tvalid_0's rmse: 0.588343\n",
      "[222]\tvalid_0's rmse: 0.588366\n",
      "[223]\tvalid_0's rmse: 0.588242\n",
      "[224]\tvalid_0's rmse: 0.588426\n",
      "[225]\tvalid_0's rmse: 0.58846\n",
      "[226]\tvalid_0's rmse: 0.58869\n",
      "[227]\tvalid_0's rmse: 0.588573\n",
      "[228]\tvalid_0's rmse: 0.588404\n",
      "[229]\tvalid_0's rmse: 0.5884\n",
      "[230]\tvalid_0's rmse: 0.588431\n",
      "[231]\tvalid_0's rmse: 0.588412\n",
      "[232]\tvalid_0's rmse: 0.588258\n",
      "[233]\tvalid_0's rmse: 0.588361\n",
      "[234]\tvalid_0's rmse: 0.588306\n",
      "[235]\tvalid_0's rmse: 0.588486\n",
      "[236]\tvalid_0's rmse: 0.588455\n",
      "[237]\tvalid_0's rmse: 0.588302\n",
      "[238]\tvalid_0's rmse: 0.588098\n",
      "[239]\tvalid_0's rmse: 0.58805\n",
      "[240]\tvalid_0's rmse: 0.587929\n",
      "[241]\tvalid_0's rmse: 0.58784\n",
      "[242]\tvalid_0's rmse: 0.587969\n",
      "[243]\tvalid_0's rmse: 0.587894\n",
      "[244]\tvalid_0's rmse: 0.587877\n",
      "[245]\tvalid_0's rmse: 0.588067\n",
      "[246]\tvalid_0's rmse: 0.588075\n",
      "[247]\tvalid_0's rmse: 0.588169\n",
      "[248]\tvalid_0's rmse: 0.587997\n",
      "[249]\tvalid_0's rmse: 0.588029\n",
      "[250]\tvalid_0's rmse: 0.588001\n",
      "[251]\tvalid_0's rmse: 0.588006\n",
      "[252]\tvalid_0's rmse: 0.587925\n",
      "[253]\tvalid_0's rmse: 0.58786\n",
      "[254]\tvalid_0's rmse: 0.587835\n",
      "[255]\tvalid_0's rmse: 0.587867\n",
      "[256]\tvalid_0's rmse: 0.587797\n",
      "[257]\tvalid_0's rmse: 0.587909\n",
      "[258]\tvalid_0's rmse: 0.588034\n",
      "[259]\tvalid_0's rmse: 0.588205\n",
      "[260]\tvalid_0's rmse: 0.588337\n",
      "[261]\tvalid_0's rmse: 0.588279\n",
      "[262]\tvalid_0's rmse: 0.588344\n",
      "[263]\tvalid_0's rmse: 0.588333\n",
      "[264]\tvalid_0's rmse: 0.588443\n",
      "[265]\tvalid_0's rmse: 0.588482\n",
      "[266]\tvalid_0's rmse: 0.588525\n",
      "[267]\tvalid_0's rmse: 0.588544\n",
      "[268]\tvalid_0's rmse: 0.588629\n",
      "[269]\tvalid_0's rmse: 0.588729\n",
      "[270]\tvalid_0's rmse: 0.58879\n",
      "[271]\tvalid_0's rmse: 0.589134\n",
      "[272]\tvalid_0's rmse: 0.588977\n",
      "[273]\tvalid_0's rmse: 0.5891\n",
      "[274]\tvalid_0's rmse: 0.589021\n",
      "[275]\tvalid_0's rmse: 0.588956\n",
      "[276]\tvalid_0's rmse: 0.588675\n",
      "[277]\tvalid_0's rmse: 0.588779\n",
      "[278]\tvalid_0's rmse: 0.588844\n",
      "[279]\tvalid_0's rmse: 0.58874\n",
      "[280]\tvalid_0's rmse: 0.588827\n",
      "[281]\tvalid_0's rmse: 0.588949\n",
      "[282]\tvalid_0's rmse: 0.589036\n",
      "[283]\tvalid_0's rmse: 0.589096\n",
      "[284]\tvalid_0's rmse: 0.589455\n",
      "[285]\tvalid_0's rmse: 0.589429\n",
      "[286]\tvalid_0's rmse: 0.589485\n",
      "[287]\tvalid_0's rmse: 0.589514\n",
      "[288]\tvalid_0's rmse: 0.589583\n",
      "[289]\tvalid_0's rmse: 0.589444\n",
      "[290]\tvalid_0's rmse: 0.589403\n",
      "[291]\tvalid_0's rmse: 0.589407\n",
      "[292]\tvalid_0's rmse: 0.589473\n",
      "[293]\tvalid_0's rmse: 0.589655\n",
      "[294]\tvalid_0's rmse: 0.589579\n",
      "[295]\tvalid_0's rmse: 0.589608\n",
      "[296]\tvalid_0's rmse: 0.589735\n",
      "[297]\tvalid_0's rmse: 0.589719\n",
      "[298]\tvalid_0's rmse: 0.589846\n",
      "[299]\tvalid_0's rmse: 0.589857\n",
      "[300]\tvalid_0's rmse: 0.589942\n",
      "[301]\tvalid_0's rmse: 0.590001\n",
      "[302]\tvalid_0's rmse: 0.590136\n",
      "[303]\tvalid_0's rmse: 0.590121\n",
      "[304]\tvalid_0's rmse: 0.590222\n",
      "[305]\tvalid_0's rmse: 0.590172\n",
      "[306]\tvalid_0's rmse: 0.590239\n",
      "[307]\tvalid_0's rmse: 0.590326\n",
      "[308]\tvalid_0's rmse: 0.590473\n",
      "[309]\tvalid_0's rmse: 0.590581\n",
      "[310]\tvalid_0's rmse: 0.590637\n",
      "[311]\tvalid_0's rmse: 0.59059\n",
      "[312]\tvalid_0's rmse: 0.590679\n",
      "[313]\tvalid_0's rmse: 0.590855\n",
      "[314]\tvalid_0's rmse: 0.590772\n",
      "[315]\tvalid_0's rmse: 0.590763\n",
      "[316]\tvalid_0's rmse: 0.590627\n",
      "[317]\tvalid_0's rmse: 0.590692\n",
      "[318]\tvalid_0's rmse: 0.590771\n",
      "[319]\tvalid_0's rmse: 0.59076\n",
      "[320]\tvalid_0's rmse: 0.590758\n",
      "[321]\tvalid_0's rmse: 0.590695\n",
      "[322]\tvalid_0's rmse: 0.590699\n",
      "[323]\tvalid_0's rmse: 0.590575\n",
      "[324]\tvalid_0's rmse: 0.59061\n",
      "[325]\tvalid_0's rmse: 0.590547\n",
      "[326]\tvalid_0's rmse: 0.590445\n",
      "[327]\tvalid_0's rmse: 0.59041\n",
      "[328]\tvalid_0's rmse: 0.59053\n",
      "[329]\tvalid_0's rmse: 0.59053\n",
      "[330]\tvalid_0's rmse: 0.590368\n",
      "[331]\tvalid_0's rmse: 0.590473\n",
      "[332]\tvalid_0's rmse: 0.590459\n",
      "[333]\tvalid_0's rmse: 0.590401\n",
      "[334]\tvalid_0's rmse: 0.590404\n",
      "[335]\tvalid_0's rmse: 0.590355\n",
      "[336]\tvalid_0's rmse: 0.590468\n",
      "[337]\tvalid_0's rmse: 0.590524\n",
      "[338]\tvalid_0's rmse: 0.59069\n",
      "[339]\tvalid_0's rmse: 0.59072\n",
      "[340]\tvalid_0's rmse: 0.590945\n",
      "[341]\tvalid_0's rmse: 0.590953\n",
      "[342]\tvalid_0's rmse: 0.591098\n",
      "[343]\tvalid_0's rmse: 0.591062\n",
      "[344]\tvalid_0's rmse: 0.591076\n",
      "[345]\tvalid_0's rmse: 0.591083\n",
      "[346]\tvalid_0's rmse: 0.591051\n",
      "[347]\tvalid_0's rmse: 0.591138\n",
      "[348]\tvalid_0's rmse: 0.591148\n",
      "[349]\tvalid_0's rmse: 0.591154\n",
      "[350]\tvalid_0's rmse: 0.591072\n",
      "[351]\tvalid_0's rmse: 0.591101\n",
      "[352]\tvalid_0's rmse: 0.591182\n",
      "[353]\tvalid_0's rmse: 0.591136\n",
      "[354]\tvalid_0's rmse: 0.591161\n",
      "[355]\tvalid_0's rmse: 0.591157\n",
      "[356]\tvalid_0's rmse: 0.591153\n",
      "--------------------\n",
      "Fold:3:\n",
      "Feature Selection (get null_imp_df):\n",
      "Run 50 rounds of model training:\n"
     ]
    },
    {
     "name": "stderr",
     "output_type": "stream",
     "text": [
      "  0%|          | 0/50 [00:00<?, ?it/s]"
     ]
    },
    {
     "name": "stdout",
     "output_type": "stream",
     "text": [
      "[LightGBM] [Warning] bagging_fraction is set=0.75, subsample=0.9778252382803456 will be ignored. Current value: bagging_fraction=0.75\n",
      "[LightGBM] [Warning] bagging_freq is set=1, subsample_freq=0 will be ignored. Current value: bagging_freq=1\n",
      "[LightGBM] [Warning] feature_fraction is set=0.8, colsample_bytree=0.5420247656839267 will be ignored. Current value: feature_fraction=0.8\n"
     ]
    },
    {
     "name": "stderr",
     "output_type": "stream",
     "text": [
      "100%|██████████| 50/50 [04:25<00:00,  5.31s/it]\n"
     ]
    },
    {
     "name": "stdout",
     "output_type": "stream",
     "text": [
      "Feature Selection (actual_imp_df):\n",
      "Run 50 rounds of model training:\n"
     ]
    },
    {
     "name": "stderr",
     "output_type": "stream",
     "text": [
      "100%|██████████| 50/50 [17:35<00:00, 21.10s/it]\n"
     ]
    },
    {
     "name": "stdout",
     "output_type": "stream",
     "text": [
      "Feature Selection by Null Importances: gain:\n"
     ]
    },
    {
     "name": "stderr",
     "output_type": "stream",
     "text": [
      " 11%|█         | 1/9 [00:04<00:39,  4.96s/it]"
     ]
    },
    {
     "name": "stdout",
     "output_type": "stream",
     "text": [
      "[LightGBM] [Warning] bagging_fraction is set=0.75, subsample=0.9778252382803456 will be ignored. Current value: bagging_fraction=0.75\n",
      "[LightGBM] [Warning] bagging_freq is set=1, subsample_freq=0 will be ignored. Current value: bagging_freq=1\n",
      "[LightGBM] [Warning] feature_fraction is set=0.8, colsample_bytree=0.5420247656839267 will be ignored. Current value: feature_fraction=0.8\n"
     ]
    },
    {
     "name": "stderr",
     "output_type": "stream",
     "text": [
      " 22%|██▏       | 2/9 [00:10<00:37,  5.33s/it]"
     ]
    },
    {
     "name": "stdout",
     "output_type": "stream",
     "text": [
      "[LightGBM] [Warning] bagging_fraction is set=0.75, subsample=0.9778252382803456 will be ignored. Current value: bagging_fraction=0.75\n",
      "[LightGBM] [Warning] bagging_freq is set=1, subsample_freq=0 will be ignored. Current value: bagging_freq=1\n",
      "[LightGBM] [Warning] feature_fraction is set=0.8, colsample_bytree=0.5420247656839267 will be ignored. Current value: feature_fraction=0.8\n"
     ]
    },
    {
     "name": "stderr",
     "output_type": "stream",
     "text": [
      " 33%|███▎      | 3/9 [00:16<00:32,  5.48s/it]"
     ]
    },
    {
     "name": "stdout",
     "output_type": "stream",
     "text": [
      "[LightGBM] [Warning] bagging_fraction is set=0.75, subsample=0.9778252382803456 will be ignored. Current value: bagging_fraction=0.75\n",
      "[LightGBM] [Warning] bagging_freq is set=1, subsample_freq=0 will be ignored. Current value: bagging_freq=1\n",
      "[LightGBM] [Warning] feature_fraction is set=0.8, colsample_bytree=0.5420247656839267 will be ignored. Current value: feature_fraction=0.8\n"
     ]
    },
    {
     "name": "stderr",
     "output_type": "stream",
     "text": [
      " 44%|████▍     | 4/9 [00:23<00:31,  6.20s/it]"
     ]
    },
    {
     "name": "stdout",
     "output_type": "stream",
     "text": [
      "[LightGBM] [Warning] bagging_fraction is set=0.75, subsample=0.9778252382803456 will be ignored. Current value: bagging_fraction=0.75\n",
      "[LightGBM] [Warning] bagging_freq is set=1, subsample_freq=0 will be ignored. Current value: bagging_freq=1\n",
      "[LightGBM] [Warning] feature_fraction is set=0.8, colsample_bytree=0.5420247656839267 will be ignored. Current value: feature_fraction=0.8\n"
     ]
    },
    {
     "name": "stderr",
     "output_type": "stream",
     "text": [
      " 56%|█████▌    | 5/9 [00:32<00:29,  7.27s/it]"
     ]
    },
    {
     "name": "stdout",
     "output_type": "stream",
     "text": [
      "[LightGBM] [Warning] bagging_fraction is set=0.75, subsample=0.9778252382803456 will be ignored. Current value: bagging_fraction=0.75\n",
      "[LightGBM] [Warning] bagging_freq is set=1, subsample_freq=0 will be ignored. Current value: bagging_freq=1\n",
      "[LightGBM] [Warning] feature_fraction is set=0.8, colsample_bytree=0.5420247656839267 will be ignored. Current value: feature_fraction=0.8\n"
     ]
    },
    {
     "name": "stderr",
     "output_type": "stream",
     "text": [
      " 67%|██████▋   | 6/9 [00:38<00:19,  6.66s/it]"
     ]
    },
    {
     "name": "stdout",
     "output_type": "stream",
     "text": [
      "[LightGBM] [Warning] bagging_fraction is set=0.75, subsample=0.9778252382803456 will be ignored. Current value: bagging_fraction=0.75\n",
      "[LightGBM] [Warning] bagging_freq is set=1, subsample_freq=0 will be ignored. Current value: bagging_freq=1\n",
      "[LightGBM] [Warning] feature_fraction is set=0.8, colsample_bytree=0.5420247656839267 will be ignored. Current value: feature_fraction=0.8\n"
     ]
    },
    {
     "name": "stderr",
     "output_type": "stream",
     "text": [
      " 78%|███████▊  | 7/9 [00:46<00:14,  7.05s/it]"
     ]
    },
    {
     "name": "stdout",
     "output_type": "stream",
     "text": [
      "[LightGBM] [Warning] bagging_fraction is set=0.75, subsample=0.9778252382803456 will be ignored. Current value: bagging_fraction=0.75\n",
      "[LightGBM] [Warning] bagging_freq is set=1, subsample_freq=0 will be ignored. Current value: bagging_freq=1\n",
      "[LightGBM] [Warning] feature_fraction is set=0.8, colsample_bytree=0.5420247656839267 will be ignored. Current value: feature_fraction=0.8\n"
     ]
    },
    {
     "name": "stderr",
     "output_type": "stream",
     "text": [
      " 89%|████████▉ | 8/9 [00:53<00:07,  7.06s/it]"
     ]
    },
    {
     "name": "stdout",
     "output_type": "stream",
     "text": [
      "[LightGBM] [Warning] bagging_fraction is set=0.75, subsample=0.9778252382803456 will be ignored. Current value: bagging_fraction=0.75\n",
      "[LightGBM] [Warning] bagging_freq is set=1, subsample_freq=0 will be ignored. Current value: bagging_freq=1\n",
      "[LightGBM] [Warning] feature_fraction is set=0.8, colsample_bytree=0.5420247656839267 will be ignored. Current value: feature_fraction=0.8\n"
     ]
    },
    {
     "name": "stderr",
     "output_type": "stream",
     "text": [
      "100%|██████████| 9/9 [01:02<00:00,  6.90s/it]\n"
     ]
    },
    {
     "name": "stdout",
     "output_type": "stream",
     "text": [
      "Feature Selection by Null Importances: split:\n"
     ]
    },
    {
     "name": "stderr",
     "output_type": "stream",
     "text": [
      "  0%|          | 0/9 [00:00<?, ?it/s]"
     ]
    },
    {
     "name": "stdout",
     "output_type": "stream",
     "text": [
      "[LightGBM] [Warning] bagging_fraction is set=0.75, subsample=0.9778252382803456 will be ignored. Current value: bagging_fraction=0.75\n",
      "[LightGBM] [Warning] bagging_freq is set=1, subsample_freq=0 will be ignored. Current value: bagging_freq=1\n",
      "[LightGBM] [Warning] feature_fraction is set=0.8, colsample_bytree=0.5420247656839267 will be ignored. Current value: feature_fraction=0.8\n"
     ]
    },
    {
     "name": "stderr",
     "output_type": "stream",
     "text": [
      " 11%|█         | 1/9 [00:04<00:34,  4.35s/it]"
     ]
    },
    {
     "name": "stdout",
     "output_type": "stream",
     "text": [
      "[LightGBM] [Warning] bagging_fraction is set=0.75, subsample=0.9778252382803456 will be ignored. Current value: bagging_fraction=0.75\n",
      "[LightGBM] [Warning] bagging_freq is set=1, subsample_freq=0 will be ignored. Current value: bagging_freq=1\n",
      "[LightGBM] [Warning] feature_fraction is set=0.8, colsample_bytree=0.5420247656839267 will be ignored. Current value: feature_fraction=0.8\n"
     ]
    },
    {
     "name": "stderr",
     "output_type": "stream",
     "text": [
      " 22%|██▏       | 2/9 [00:09<00:34,  4.87s/it]"
     ]
    },
    {
     "name": "stdout",
     "output_type": "stream",
     "text": [
      "[LightGBM] [Warning] bagging_fraction is set=0.75, subsample=0.9778252382803456 will be ignored. Current value: bagging_fraction=0.75\n",
      "[LightGBM] [Warning] bagging_freq is set=1, subsample_freq=0 will be ignored. Current value: bagging_freq=1\n",
      "[LightGBM] [Warning] feature_fraction is set=0.8, colsample_bytree=0.5420247656839267 will be ignored. Current value: feature_fraction=0.8\n"
     ]
    },
    {
     "name": "stderr",
     "output_type": "stream",
     "text": [
      " 33%|███▎      | 3/9 [00:15<00:33,  5.57s/it]"
     ]
    },
    {
     "name": "stdout",
     "output_type": "stream",
     "text": [
      "[LightGBM] [Warning] bagging_fraction is set=0.75, subsample=0.9778252382803456 will be ignored. Current value: bagging_fraction=0.75\n",
      "[LightGBM] [Warning] bagging_freq is set=1, subsample_freq=0 will be ignored. Current value: bagging_freq=1\n",
      "[LightGBM] [Warning] feature_fraction is set=0.8, colsample_bytree=0.5420247656839267 will be ignored. Current value: feature_fraction=0.8\n"
     ]
    },
    {
     "name": "stderr",
     "output_type": "stream",
     "text": [
      " 44%|████▍     | 4/9 [00:22<00:28,  5.75s/it]"
     ]
    },
    {
     "name": "stdout",
     "output_type": "stream",
     "text": [
      "[LightGBM] [Warning] bagging_fraction is set=0.75, subsample=0.9778252382803456 will be ignored. Current value: bagging_fraction=0.75\n",
      "[LightGBM] [Warning] bagging_freq is set=1, subsample_freq=0 will be ignored. Current value: bagging_freq=1\n",
      "[LightGBM] [Warning] feature_fraction is set=0.8, colsample_bytree=0.5420247656839267 will be ignored. Current value: feature_fraction=0.8\n"
     ]
    },
    {
     "name": "stderr",
     "output_type": "stream",
     "text": [
      " 56%|█████▌    | 5/9 [00:30<00:26,  6.72s/it]"
     ]
    },
    {
     "name": "stdout",
     "output_type": "stream",
     "text": [
      "[LightGBM] [Warning] bagging_fraction is set=0.75, subsample=0.9778252382803456 will be ignored. Current value: bagging_fraction=0.75\n",
      "[LightGBM] [Warning] bagging_freq is set=1, subsample_freq=0 will be ignored. Current value: bagging_freq=1\n",
      "[LightGBM] [Warning] feature_fraction is set=0.8, colsample_bytree=0.5420247656839267 will be ignored. Current value: feature_fraction=0.8\n"
     ]
    },
    {
     "name": "stderr",
     "output_type": "stream",
     "text": [
      " 67%|██████▋   | 6/9 [00:38<00:21,  7.09s/it]"
     ]
    },
    {
     "name": "stdout",
     "output_type": "stream",
     "text": [
      "[LightGBM] [Warning] bagging_fraction is set=0.75, subsample=0.9778252382803456 will be ignored. Current value: bagging_fraction=0.75\n",
      "[LightGBM] [Warning] bagging_freq is set=1, subsample_freq=0 will be ignored. Current value: bagging_freq=1\n",
      "[LightGBM] [Warning] feature_fraction is set=0.8, colsample_bytree=0.5420247656839267 will be ignored. Current value: feature_fraction=0.8\n"
     ]
    },
    {
     "name": "stderr",
     "output_type": "stream",
     "text": [
      " 78%|███████▊  | 7/9 [00:45<00:14,  7.04s/it]"
     ]
    },
    {
     "name": "stdout",
     "output_type": "stream",
     "text": [
      "[LightGBM] [Warning] bagging_fraction is set=0.75, subsample=0.9778252382803456 will be ignored. Current value: bagging_fraction=0.75\n",
      "[LightGBM] [Warning] bagging_freq is set=1, subsample_freq=0 will be ignored. Current value: bagging_freq=1\n",
      "[LightGBM] [Warning] feature_fraction is set=0.8, colsample_bytree=0.5420247656839267 will be ignored. Current value: feature_fraction=0.8\n"
     ]
    },
    {
     "name": "stderr",
     "output_type": "stream",
     "text": [
      " 89%|████████▉ | 8/9 [00:52<00:07,  7.05s/it]"
     ]
    },
    {
     "name": "stdout",
     "output_type": "stream",
     "text": [
      "[LightGBM] [Warning] bagging_fraction is set=0.75, subsample=0.9778252382803456 will be ignored. Current value: bagging_fraction=0.75\n",
      "[LightGBM] [Warning] bagging_freq is set=1, subsample_freq=0 will be ignored. Current value: bagging_freq=1\n",
      "[LightGBM] [Warning] feature_fraction is set=0.8, colsample_bytree=0.5420247656839267 will be ignored. Current value: feature_fraction=0.8\n"
     ]
    },
    {
     "name": "stderr",
     "output_type": "stream",
     "text": [
      "100%|██████████| 9/9 [01:01<00:00,  6.81s/it]\n"
     ]
    },
    {
     "name": "stdout",
     "output_type": "stream",
     "text": [
      "Feature Selection by Null Importances: both:\n"
     ]
    },
    {
     "name": "stderr",
     "output_type": "stream",
     "text": [
      "  0%|          | 0/9 [00:00<?, ?it/s]"
     ]
    },
    {
     "name": "stdout",
     "output_type": "stream",
     "text": [
      "[LightGBM] [Warning] bagging_fraction is set=0.75, subsample=0.9778252382803456 will be ignored. Current value: bagging_fraction=0.75\n",
      "[LightGBM] [Warning] bagging_freq is set=1, subsample_freq=0 will be ignored. Current value: bagging_freq=1\n",
      "[LightGBM] [Warning] feature_fraction is set=0.8, colsample_bytree=0.5420247656839267 will be ignored. Current value: feature_fraction=0.8\n"
     ]
    },
    {
     "name": "stderr",
     "output_type": "stream",
     "text": [
      " 11%|█         | 1/9 [00:04<00:36,  4.55s/it]"
     ]
    },
    {
     "name": "stdout",
     "output_type": "stream",
     "text": [
      "[LightGBM] [Warning] bagging_fraction is set=0.75, subsample=0.9778252382803456 will be ignored. Current value: bagging_fraction=0.75\n",
      "[LightGBM] [Warning] bagging_freq is set=1, subsample_freq=0 will be ignored. Current value: bagging_freq=1\n",
      "[LightGBM] [Warning] feature_fraction is set=0.8, colsample_bytree=0.5420247656839267 will be ignored. Current value: feature_fraction=0.8\n"
     ]
    },
    {
     "name": "stderr",
     "output_type": "stream",
     "text": [
      " 22%|██▏       | 2/9 [00:10<00:37,  5.39s/it]"
     ]
    },
    {
     "name": "stdout",
     "output_type": "stream",
     "text": [
      "[LightGBM] [Warning] bagging_fraction is set=0.75, subsample=0.9778252382803456 will be ignored. Current value: bagging_fraction=0.75\n",
      "[LightGBM] [Warning] bagging_freq is set=1, subsample_freq=0 will be ignored. Current value: bagging_freq=1\n",
      "[LightGBM] [Warning] feature_fraction is set=0.8, colsample_bytree=0.5420247656839267 will be ignored. Current value: feature_fraction=0.8\n"
     ]
    },
    {
     "name": "stderr",
     "output_type": "stream",
     "text": [
      " 33%|███▎      | 3/9 [00:16<00:35,  5.84s/it]"
     ]
    },
    {
     "name": "stdout",
     "output_type": "stream",
     "text": [
      "[LightGBM] [Warning] bagging_fraction is set=0.75, subsample=0.9778252382803456 will be ignored. Current value: bagging_fraction=0.75\n",
      "[LightGBM] [Warning] bagging_freq is set=1, subsample_freq=0 will be ignored. Current value: bagging_freq=1\n",
      "[LightGBM] [Warning] feature_fraction is set=0.8, colsample_bytree=0.5420247656839267 will be ignored. Current value: feature_fraction=0.8\n"
     ]
    },
    {
     "name": "stderr",
     "output_type": "stream",
     "text": [
      " 44%|████▍     | 4/9 [00:24<00:32,  6.42s/it]"
     ]
    },
    {
     "name": "stdout",
     "output_type": "stream",
     "text": [
      "[LightGBM] [Warning] bagging_fraction is set=0.75, subsample=0.9778252382803456 will be ignored. Current value: bagging_fraction=0.75\n",
      "[LightGBM] [Warning] bagging_freq is set=1, subsample_freq=0 will be ignored. Current value: bagging_freq=1\n",
      "[LightGBM] [Warning] feature_fraction is set=0.8, colsample_bytree=0.5420247656839267 will be ignored. Current value: feature_fraction=0.8\n"
     ]
    },
    {
     "name": "stderr",
     "output_type": "stream",
     "text": [
      " 56%|█████▌    | 5/9 [00:32<00:28,  7.23s/it]"
     ]
    },
    {
     "name": "stdout",
     "output_type": "stream",
     "text": [
      "[LightGBM] [Warning] bagging_fraction is set=0.75, subsample=0.9778252382803456 will be ignored. Current value: bagging_fraction=0.75\n",
      "[LightGBM] [Warning] bagging_freq is set=1, subsample_freq=0 will be ignored. Current value: bagging_freq=1\n",
      "[LightGBM] [Warning] feature_fraction is set=0.8, colsample_bytree=0.5420247656839267 will be ignored. Current value: feature_fraction=0.8\n"
     ]
    },
    {
     "name": "stderr",
     "output_type": "stream",
     "text": [
      " 67%|██████▋   | 6/9 [00:41<00:22,  7.66s/it]"
     ]
    },
    {
     "name": "stdout",
     "output_type": "stream",
     "text": [
      "[LightGBM] [Warning] bagging_fraction is set=0.75, subsample=0.9778252382803456 will be ignored. Current value: bagging_fraction=0.75\n",
      "[LightGBM] [Warning] bagging_freq is set=1, subsample_freq=0 will be ignored. Current value: bagging_freq=1\n",
      "[LightGBM] [Warning] feature_fraction is set=0.8, colsample_bytree=0.5420247656839267 will be ignored. Current value: feature_fraction=0.8\n"
     ]
    },
    {
     "name": "stderr",
     "output_type": "stream",
     "text": [
      " 78%|███████▊  | 7/9 [00:49<00:15,  7.72s/it]"
     ]
    },
    {
     "name": "stdout",
     "output_type": "stream",
     "text": [
      "[LightGBM] [Warning] bagging_fraction is set=0.75, subsample=0.9778252382803456 will be ignored. Current value: bagging_fraction=0.75\n",
      "[LightGBM] [Warning] bagging_freq is set=1, subsample_freq=0 will be ignored. Current value: bagging_freq=1\n",
      "[LightGBM] [Warning] feature_fraction is set=0.8, colsample_bytree=0.5420247656839267 will be ignored. Current value: feature_fraction=0.8\n"
     ]
    },
    {
     "name": "stderr",
     "output_type": "stream",
     "text": [
      " 89%|████████▉ | 8/9 [00:56<00:07,  7.48s/it]"
     ]
    },
    {
     "name": "stdout",
     "output_type": "stream",
     "text": [
      "[LightGBM] [Warning] bagging_fraction is set=0.75, subsample=0.9778252382803456 will be ignored. Current value: bagging_fraction=0.75\n",
      "[LightGBM] [Warning] bagging_freq is set=1, subsample_freq=0 will be ignored. Current value: bagging_freq=1\n",
      "[LightGBM] [Warning] feature_fraction is set=0.8, colsample_bytree=0.5420247656839267 will be ignored. Current value: feature_fraction=0.8\n"
     ]
    },
    {
     "name": "stderr",
     "output_type": "stream",
     "text": [
      "100%|██████████| 9/9 [01:05<00:00,  7.23s/it]\n"
     ]
    },
    {
     "name": "stdout",
     "output_type": "stream",
     "text": [
      "After feature selection: 638 -> 401.\n",
      "[LightGBM] [Warning] bagging_fraction is set=0.75, subsample=0.9778252382803456 will be ignored. Current value: bagging_fraction=0.75\n",
      "[LightGBM] [Warning] bagging_freq is set=1, subsample_freq=0 will be ignored. Current value: bagging_freq=1\n",
      "[LightGBM] [Warning] feature_fraction is set=0.8, colsample_bytree=0.5420247656839267 will be ignored. Current value: feature_fraction=0.8\n",
      "[1]\tvalid_0's rmse: 1.01167\n",
      "[2]\tvalid_0's rmse: 1.00105\n",
      "[3]\tvalid_0's rmse: 0.991198\n",
      "[4]\tvalid_0's rmse: 0.982035\n",
      "[5]\tvalid_0's rmse: 0.97254\n",
      "[6]\tvalid_0's rmse: 0.963704\n",
      "[7]\tvalid_0's rmse: 0.954575\n",
      "[8]\tvalid_0's rmse: 0.945779\n",
      "[9]\tvalid_0's rmse: 0.937058\n",
      "[10]\tvalid_0's rmse: 0.928313\n",
      "[11]\tvalid_0's rmse: 0.919897\n",
      "[12]\tvalid_0's rmse: 0.912038\n",
      "[13]\tvalid_0's rmse: 0.903775\n",
      "[14]\tvalid_0's rmse: 0.896197\n",
      "[15]\tvalid_0's rmse: 0.888937\n",
      "[16]\tvalid_0's rmse: 0.881497\n",
      "[17]\tvalid_0's rmse: 0.8746\n",
      "[18]\tvalid_0's rmse: 0.867573\n",
      "[19]\tvalid_0's rmse: 0.860928\n",
      "[20]\tvalid_0's rmse: 0.853971\n",
      "[21]\tvalid_0's rmse: 0.84764\n",
      "[22]\tvalid_0's rmse: 0.84089\n",
      "[23]\tvalid_0's rmse: 0.834886\n",
      "[24]\tvalid_0's rmse: 0.828695\n",
      "[25]\tvalid_0's rmse: 0.82273\n",
      "[26]\tvalid_0's rmse: 0.816868\n",
      "[27]\tvalid_0's rmse: 0.810871\n",
      "[28]\tvalid_0's rmse: 0.805186\n",
      "[29]\tvalid_0's rmse: 0.79997\n",
      "[30]\tvalid_0's rmse: 0.794955\n",
      "[31]\tvalid_0's rmse: 0.789956\n",
      "[32]\tvalid_0's rmse: 0.785064\n",
      "[33]\tvalid_0's rmse: 0.780138\n",
      "[34]\tvalid_0's rmse: 0.775649\n",
      "[35]\tvalid_0's rmse: 0.771626\n",
      "[36]\tvalid_0's rmse: 0.767294\n",
      "[37]\tvalid_0's rmse: 0.763112\n",
      "[38]\tvalid_0's rmse: 0.758832\n",
      "[39]\tvalid_0's rmse: 0.754665\n",
      "[40]\tvalid_0's rmse: 0.750842\n",
      "[41]\tvalid_0's rmse: 0.746837\n",
      "[42]\tvalid_0's rmse: 0.742891\n",
      "[43]\tvalid_0's rmse: 0.73947\n",
      "[44]\tvalid_0's rmse: 0.73577\n",
      "[45]\tvalid_0's rmse: 0.73266\n",
      "[46]\tvalid_0's rmse: 0.729057\n",
      "[47]\tvalid_0's rmse: 0.725976\n",
      "[48]\tvalid_0's rmse: 0.722579\n",
      "[49]\tvalid_0's rmse: 0.719357\n",
      "[50]\tvalid_0's rmse: 0.716278\n",
      "[51]\tvalid_0's rmse: 0.71365\n",
      "[52]\tvalid_0's rmse: 0.710714\n",
      "[53]\tvalid_0's rmse: 0.708288\n",
      "[54]\tvalid_0's rmse: 0.705332\n",
      "[55]\tvalid_0's rmse: 0.702575\n",
      "[56]\tvalid_0's rmse: 0.699929\n",
      "[57]\tvalid_0's rmse: 0.697629\n",
      "[58]\tvalid_0's rmse: 0.695084\n",
      "[59]\tvalid_0's rmse: 0.692877\n",
      "[60]\tvalid_0's rmse: 0.690256\n",
      "[61]\tvalid_0's rmse: 0.687983\n",
      "[62]\tvalid_0's rmse: 0.685882\n",
      "[63]\tvalid_0's rmse: 0.684001\n",
      "[64]\tvalid_0's rmse: 0.681701\n",
      "[65]\tvalid_0's rmse: 0.679602\n",
      "[66]\tvalid_0's rmse: 0.677445\n",
      "[67]\tvalid_0's rmse: 0.675471\n",
      "[68]\tvalid_0's rmse: 0.673201\n",
      "[69]\tvalid_0's rmse: 0.671567\n",
      "[70]\tvalid_0's rmse: 0.669795\n",
      "[71]\tvalid_0's rmse: 0.667925\n",
      "[72]\tvalid_0's rmse: 0.66624\n",
      "[73]\tvalid_0's rmse: 0.664933\n",
      "[74]\tvalid_0's rmse: 0.663072\n",
      "[75]\tvalid_0's rmse: 0.661571\n",
      "[76]\tvalid_0's rmse: 0.660268\n",
      "[77]\tvalid_0's rmse: 0.658773\n",
      "[78]\tvalid_0's rmse: 0.657106\n",
      "[79]\tvalid_0's rmse: 0.656004\n",
      "[80]\tvalid_0's rmse: 0.654499\n",
      "[81]\tvalid_0's rmse: 0.653204\n",
      "[82]\tvalid_0's rmse: 0.651826\n",
      "[83]\tvalid_0's rmse: 0.650523\n",
      "[84]\tvalid_0's rmse: 0.64922\n",
      "[85]\tvalid_0's rmse: 0.648266\n",
      "[86]\tvalid_0's rmse: 0.646791\n",
      "[87]\tvalid_0's rmse: 0.64578\n",
      "[88]\tvalid_0's rmse: 0.644416\n",
      "[89]\tvalid_0's rmse: 0.643312\n",
      "[90]\tvalid_0's rmse: 0.64264\n",
      "[91]\tvalid_0's rmse: 0.641487\n",
      "[92]\tvalid_0's rmse: 0.640504\n",
      "[93]\tvalid_0's rmse: 0.639432\n",
      "[94]\tvalid_0's rmse: 0.638723\n",
      "[95]\tvalid_0's rmse: 0.637745\n",
      "[96]\tvalid_0's rmse: 0.636551\n",
      "[97]\tvalid_0's rmse: 0.635951\n",
      "[98]\tvalid_0's rmse: 0.635248\n",
      "[99]\tvalid_0's rmse: 0.634346\n",
      "[100]\tvalid_0's rmse: 0.63362\n",
      "[101]\tvalid_0's rmse: 0.632685\n",
      "[102]\tvalid_0's rmse: 0.631785\n",
      "[103]\tvalid_0's rmse: 0.631128\n",
      "[104]\tvalid_0's rmse: 0.630512\n",
      "[105]\tvalid_0's rmse: 0.629792\n",
      "[106]\tvalid_0's rmse: 0.629177\n",
      "[107]\tvalid_0's rmse: 0.628127\n",
      "[108]\tvalid_0's rmse: 0.627437\n",
      "[109]\tvalid_0's rmse: 0.626839\n",
      "[110]\tvalid_0's rmse: 0.626407\n",
      "[111]\tvalid_0's rmse: 0.62588\n",
      "[112]\tvalid_0's rmse: 0.625255\n",
      "[113]\tvalid_0's rmse: 0.624356\n",
      "[114]\tvalid_0's rmse: 0.623876\n",
      "[115]\tvalid_0's rmse: 0.623184\n",
      "[116]\tvalid_0's rmse: 0.622755\n",
      "[117]\tvalid_0's rmse: 0.622216\n",
      "[118]\tvalid_0's rmse: 0.621511\n",
      "[119]\tvalid_0's rmse: 0.621114\n",
      "[120]\tvalid_0's rmse: 0.620596\n",
      "[121]\tvalid_0's rmse: 0.620041\n",
      "[122]\tvalid_0's rmse: 0.619229\n",
      "[123]\tvalid_0's rmse: 0.618356\n",
      "[124]\tvalid_0's rmse: 0.61808\n",
      "[125]\tvalid_0's rmse: 0.617398\n",
      "[126]\tvalid_0's rmse: 0.616943\n",
      "[127]\tvalid_0's rmse: 0.616273\n",
      "[128]\tvalid_0's rmse: 0.615698\n",
      "[129]\tvalid_0's rmse: 0.615268\n",
      "[130]\tvalid_0's rmse: 0.614802\n",
      "[131]\tvalid_0's rmse: 0.614276\n",
      "[132]\tvalid_0's rmse: 0.614006\n",
      "[133]\tvalid_0's rmse: 0.613733\n",
      "[134]\tvalid_0's rmse: 0.613416\n",
      "[135]\tvalid_0's rmse: 0.613061\n",
      "[136]\tvalid_0's rmse: 0.612805\n",
      "[137]\tvalid_0's rmse: 0.612423\n",
      "[138]\tvalid_0's rmse: 0.61185\n",
      "[139]\tvalid_0's rmse: 0.611464\n",
      "[140]\tvalid_0's rmse: 0.611378\n",
      "[141]\tvalid_0's rmse: 0.611177\n",
      "[142]\tvalid_0's rmse: 0.610883\n",
      "[143]\tvalid_0's rmse: 0.610597\n",
      "[144]\tvalid_0's rmse: 0.61051\n",
      "[145]\tvalid_0's rmse: 0.609902\n",
      "[146]\tvalid_0's rmse: 0.6097\n",
      "[147]\tvalid_0's rmse: 0.609418\n",
      "[148]\tvalid_0's rmse: 0.609346\n",
      "[149]\tvalid_0's rmse: 0.609181\n",
      "[150]\tvalid_0's rmse: 0.608917\n",
      "[151]\tvalid_0's rmse: 0.608603\n",
      "[152]\tvalid_0's rmse: 0.608422\n",
      "[153]\tvalid_0's rmse: 0.60834\n",
      "[154]\tvalid_0's rmse: 0.608066\n",
      "[155]\tvalid_0's rmse: 0.607982\n",
      "[156]\tvalid_0's rmse: 0.607571\n",
      "[157]\tvalid_0's rmse: 0.607205\n",
      "[158]\tvalid_0's rmse: 0.607271\n",
      "[159]\tvalid_0's rmse: 0.60722\n",
      "[160]\tvalid_0's rmse: 0.606929\n",
      "[161]\tvalid_0's rmse: 0.606826\n",
      "[162]\tvalid_0's rmse: 0.606537\n",
      "[163]\tvalid_0's rmse: 0.606622\n",
      "[164]\tvalid_0's rmse: 0.606445\n",
      "[165]\tvalid_0's rmse: 0.606372\n",
      "[166]\tvalid_0's rmse: 0.606488\n",
      "[167]\tvalid_0's rmse: 0.606336\n",
      "[168]\tvalid_0's rmse: 0.606342\n",
      "[169]\tvalid_0's rmse: 0.606042\n",
      "[170]\tvalid_0's rmse: 0.60563\n",
      "[171]\tvalid_0's rmse: 0.605707\n",
      "[172]\tvalid_0's rmse: 0.605782\n",
      "[173]\tvalid_0's rmse: 0.605691\n",
      "[174]\tvalid_0's rmse: 0.605349\n",
      "[175]\tvalid_0's rmse: 0.605275\n",
      "[176]\tvalid_0's rmse: 0.605317\n",
      "[177]\tvalid_0's rmse: 0.604893\n",
      "[178]\tvalid_0's rmse: 0.604823\n",
      "[179]\tvalid_0's rmse: 0.604562\n",
      "[180]\tvalid_0's rmse: 0.604534\n",
      "[181]\tvalid_0's rmse: 0.604104\n",
      "[182]\tvalid_0's rmse: 0.603893\n",
      "[183]\tvalid_0's rmse: 0.603551\n",
      "[184]\tvalid_0's rmse: 0.603451\n",
      "[185]\tvalid_0's rmse: 0.60321\n",
      "[186]\tvalid_0's rmse: 0.603024\n",
      "[187]\tvalid_0's rmse: 0.603009\n",
      "[188]\tvalid_0's rmse: 0.602541\n",
      "[189]\tvalid_0's rmse: 0.6024\n",
      "[190]\tvalid_0's rmse: 0.602426\n",
      "[191]\tvalid_0's rmse: 0.602285\n",
      "[192]\tvalid_0's rmse: 0.602216\n",
      "[193]\tvalid_0's rmse: 0.602032\n",
      "[194]\tvalid_0's rmse: 0.601878\n",
      "[195]\tvalid_0's rmse: 0.601836\n",
      "[196]\tvalid_0's rmse: 0.601488\n",
      "[197]\tvalid_0's rmse: 0.601345\n",
      "[198]\tvalid_0's rmse: 0.60133\n",
      "[199]\tvalid_0's rmse: 0.601357\n",
      "[200]\tvalid_0's rmse: 0.60131\n",
      "[201]\tvalid_0's rmse: 0.601221\n",
      "[202]\tvalid_0's rmse: 0.60113\n",
      "[203]\tvalid_0's rmse: 0.600884\n",
      "[204]\tvalid_0's rmse: 0.600744\n",
      "[205]\tvalid_0's rmse: 0.600613\n",
      "[206]\tvalid_0's rmse: 0.600506\n",
      "[207]\tvalid_0's rmse: 0.600416\n",
      "[208]\tvalid_0's rmse: 0.600263\n",
      "[209]\tvalid_0's rmse: 0.600318\n",
      "[210]\tvalid_0's rmse: 0.600116\n",
      "[211]\tvalid_0's rmse: 0.600057\n",
      "[212]\tvalid_0's rmse: 0.599895\n",
      "[213]\tvalid_0's rmse: 0.599951\n",
      "[214]\tvalid_0's rmse: 0.599544\n",
      "[215]\tvalid_0's rmse: 0.599483\n",
      "[216]\tvalid_0's rmse: 0.599281\n",
      "[217]\tvalid_0's rmse: 0.599334\n",
      "[218]\tvalid_0's rmse: 0.598995\n",
      "[219]\tvalid_0's rmse: 0.598737\n",
      "[220]\tvalid_0's rmse: 0.598803\n",
      "[221]\tvalid_0's rmse: 0.598627\n",
      "[222]\tvalid_0's rmse: 0.598759\n",
      "[223]\tvalid_0's rmse: 0.598929\n",
      "[224]\tvalid_0's rmse: 0.59884\n",
      "[225]\tvalid_0's rmse: 0.598945\n",
      "[226]\tvalid_0's rmse: 0.598873\n",
      "[227]\tvalid_0's rmse: 0.598629\n",
      "[228]\tvalid_0's rmse: 0.598778\n",
      "[229]\tvalid_0's rmse: 0.598455\n",
      "[230]\tvalid_0's rmse: 0.59853\n",
      "[231]\tvalid_0's rmse: 0.598509\n",
      "[232]\tvalid_0's rmse: 0.598566\n",
      "[233]\tvalid_0's rmse: 0.598562\n",
      "[234]\tvalid_0's rmse: 0.598419\n",
      "[235]\tvalid_0's rmse: 0.598309\n",
      "[236]\tvalid_0's rmse: 0.598409\n",
      "[237]\tvalid_0's rmse: 0.598311\n",
      "[238]\tvalid_0's rmse: 0.598113\n",
      "[239]\tvalid_0's rmse: 0.59805\n",
      "[240]\tvalid_0's rmse: 0.597863\n",
      "[241]\tvalid_0's rmse: 0.597869\n",
      "[242]\tvalid_0's rmse: 0.597792\n",
      "[243]\tvalid_0's rmse: 0.597589\n",
      "[244]\tvalid_0's rmse: 0.597555\n",
      "[245]\tvalid_0's rmse: 0.597604\n",
      "[246]\tvalid_0's rmse: 0.597691\n",
      "[247]\tvalid_0's rmse: 0.597617\n",
      "[248]\tvalid_0's rmse: 0.597324\n",
      "[249]\tvalid_0's rmse: 0.597207\n",
      "[250]\tvalid_0's rmse: 0.597208\n",
      "[251]\tvalid_0's rmse: 0.597228\n",
      "[252]\tvalid_0's rmse: 0.597194\n",
      "[253]\tvalid_0's rmse: 0.59698\n",
      "[254]\tvalid_0's rmse: 0.596823\n",
      "[255]\tvalid_0's rmse: 0.59688\n",
      "[256]\tvalid_0's rmse: 0.596796\n",
      "[257]\tvalid_0's rmse: 0.59707\n",
      "[258]\tvalid_0's rmse: 0.597015\n",
      "[259]\tvalid_0's rmse: 0.596705\n",
      "[260]\tvalid_0's rmse: 0.596596\n",
      "[261]\tvalid_0's rmse: 0.5965\n",
      "[262]\tvalid_0's rmse: 0.596386\n",
      "[263]\tvalid_0's rmse: 0.596208\n",
      "[264]\tvalid_0's rmse: 0.596032\n",
      "[265]\tvalid_0's rmse: 0.596119\n",
      "[266]\tvalid_0's rmse: 0.596148\n",
      "[267]\tvalid_0's rmse: 0.596103\n",
      "[268]\tvalid_0's rmse: 0.596118\n",
      "[269]\tvalid_0's rmse: 0.596013\n",
      "[270]\tvalid_0's rmse: 0.596043\n",
      "[271]\tvalid_0's rmse: 0.595894\n",
      "[272]\tvalid_0's rmse: 0.595806\n",
      "[273]\tvalid_0's rmse: 0.595789\n",
      "[274]\tvalid_0's rmse: 0.59572\n",
      "[275]\tvalid_0's rmse: 0.59575\n",
      "[276]\tvalid_0's rmse: 0.595734\n",
      "[277]\tvalid_0's rmse: 0.595739\n",
      "[278]\tvalid_0's rmse: 0.595713\n",
      "[279]\tvalid_0's rmse: 0.595681\n",
      "[280]\tvalid_0's rmse: 0.595575\n",
      "[281]\tvalid_0's rmse: 0.595467\n",
      "[282]\tvalid_0's rmse: 0.595513\n",
      "[283]\tvalid_0's rmse: 0.595405\n",
      "[284]\tvalid_0's rmse: 0.595277\n",
      "[285]\tvalid_0's rmse: 0.595087\n",
      "[286]\tvalid_0's rmse: 0.59499\n",
      "[287]\tvalid_0's rmse: 0.595123\n",
      "[288]\tvalid_0's rmse: 0.595013\n",
      "[289]\tvalid_0's rmse: 0.594998\n",
      "[290]\tvalid_0's rmse: 0.595104\n",
      "[291]\tvalid_0's rmse: 0.59505\n",
      "[292]\tvalid_0's rmse: 0.594915\n",
      "[293]\tvalid_0's rmse: 0.594745\n",
      "[294]\tvalid_0's rmse: 0.594519\n",
      "[295]\tvalid_0's rmse: 0.594549\n",
      "[296]\tvalid_0's rmse: 0.594592\n",
      "[297]\tvalid_0's rmse: 0.594601\n",
      "[298]\tvalid_0's rmse: 0.594465\n",
      "[299]\tvalid_0's rmse: 0.594639\n",
      "[300]\tvalid_0's rmse: 0.594697\n",
      "[301]\tvalid_0's rmse: 0.59478\n",
      "[302]\tvalid_0's rmse: 0.59475\n",
      "[303]\tvalid_0's rmse: 0.5948\n",
      "[304]\tvalid_0's rmse: 0.594902\n",
      "[305]\tvalid_0's rmse: 0.594922\n",
      "[306]\tvalid_0's rmse: 0.594859\n",
      "[307]\tvalid_0's rmse: 0.594829\n",
      "[308]\tvalid_0's rmse: 0.594689\n",
      "[309]\tvalid_0's rmse: 0.594751\n",
      "[310]\tvalid_0's rmse: 0.594662\n",
      "[311]\tvalid_0's rmse: 0.594686\n",
      "[312]\tvalid_0's rmse: 0.594586\n",
      "[313]\tvalid_0's rmse: 0.594457\n",
      "[314]\tvalid_0's rmse: 0.594459\n",
      "[315]\tvalid_0's rmse: 0.594516\n",
      "[316]\tvalid_0's rmse: 0.594481\n",
      "[317]\tvalid_0's rmse: 0.594554\n",
      "[318]\tvalid_0's rmse: 0.594719\n",
      "[319]\tvalid_0's rmse: 0.594791\n",
      "[320]\tvalid_0's rmse: 0.594852\n",
      "[321]\tvalid_0's rmse: 0.594862\n",
      "[322]\tvalid_0's rmse: 0.59474\n",
      "[323]\tvalid_0's rmse: 0.594814\n",
      "[324]\tvalid_0's rmse: 0.59463\n",
      "[325]\tvalid_0's rmse: 0.594582\n",
      "[326]\tvalid_0's rmse: 0.594419\n",
      "[327]\tvalid_0's rmse: 0.594397\n",
      "[328]\tvalid_0's rmse: 0.594498\n",
      "[329]\tvalid_0's rmse: 0.594418\n",
      "[330]\tvalid_0's rmse: 0.594371\n",
      "[331]\tvalid_0's rmse: 0.594311\n",
      "[332]\tvalid_0's rmse: 0.594356\n",
      "[333]\tvalid_0's rmse: 0.594405\n",
      "[334]\tvalid_0's rmse: 0.594489\n",
      "[335]\tvalid_0's rmse: 0.594449\n",
      "[336]\tvalid_0's rmse: 0.594493\n",
      "[337]\tvalid_0's rmse: 0.594506\n",
      "[338]\tvalid_0's rmse: 0.594598\n",
      "[339]\tvalid_0's rmse: 0.594645\n",
      "[340]\tvalid_0's rmse: 0.594554\n",
      "[341]\tvalid_0's rmse: 0.594589\n",
      "[342]\tvalid_0's rmse: 0.594609\n",
      "[343]\tvalid_0's rmse: 0.594481\n",
      "[344]\tvalid_0's rmse: 0.594521\n",
      "[345]\tvalid_0's rmse: 0.594435\n",
      "[346]\tvalid_0's rmse: 0.594342\n",
      "[347]\tvalid_0's rmse: 0.594432\n",
      "[348]\tvalid_0's rmse: 0.59453\n",
      "[349]\tvalid_0's rmse: 0.59453\n",
      "[350]\tvalid_0's rmse: 0.594476\n",
      "[351]\tvalid_0's rmse: 0.594336\n",
      "[352]\tvalid_0's rmse: 0.594354\n",
      "[353]\tvalid_0's rmse: 0.594524\n",
      "[354]\tvalid_0's rmse: 0.594361\n",
      "[355]\tvalid_0's rmse: 0.594274\n",
      "[356]\tvalid_0's rmse: 0.594103\n",
      "[357]\tvalid_0's rmse: 0.594173\n",
      "[358]\tvalid_0's rmse: 0.594083\n",
      "[359]\tvalid_0's rmse: 0.59407\n",
      "[360]\tvalid_0's rmse: 0.594063\n",
      "[361]\tvalid_0's rmse: 0.594142\n",
      "[362]\tvalid_0's rmse: 0.594364\n",
      "[363]\tvalid_0's rmse: 0.594427\n",
      "[364]\tvalid_0's rmse: 0.594388\n",
      "[365]\tvalid_0's rmse: 0.594206\n",
      "[366]\tvalid_0's rmse: 0.594199\n",
      "[367]\tvalid_0's rmse: 0.594275\n",
      "[368]\tvalid_0's rmse: 0.594317\n",
      "[369]\tvalid_0's rmse: 0.594291\n",
      "[370]\tvalid_0's rmse: 0.594198\n",
      "[371]\tvalid_0's rmse: 0.594282\n",
      "[372]\tvalid_0's rmse: 0.594373\n",
      "[373]\tvalid_0's rmse: 0.594496\n",
      "[374]\tvalid_0's rmse: 0.594507\n",
      "[375]\tvalid_0's rmse: 0.594361\n",
      "[376]\tvalid_0's rmse: 0.594473\n",
      "[377]\tvalid_0's rmse: 0.594371\n",
      "[378]\tvalid_0's rmse: 0.594227\n",
      "[379]\tvalid_0's rmse: 0.594378\n",
      "[380]\tvalid_0's rmse: 0.594349\n",
      "[381]\tvalid_0's rmse: 0.59438\n",
      "[382]\tvalid_0's rmse: 0.594302\n",
      "[383]\tvalid_0's rmse: 0.594233\n",
      "[384]\tvalid_0's rmse: 0.59417\n",
      "[385]\tvalid_0's rmse: 0.594133\n",
      "[386]\tvalid_0's rmse: 0.594119\n",
      "[387]\tvalid_0's rmse: 0.594228\n",
      "[388]\tvalid_0's rmse: 0.594291\n",
      "[389]\tvalid_0's rmse: 0.594371\n",
      "[390]\tvalid_0's rmse: 0.594295\n",
      "[391]\tvalid_0's rmse: 0.594248\n",
      "[392]\tvalid_0's rmse: 0.594397\n",
      "[393]\tvalid_0's rmse: 0.594409\n",
      "[394]\tvalid_0's rmse: 0.594387\n",
      "[395]\tvalid_0's rmse: 0.594243\n",
      "[396]\tvalid_0's rmse: 0.594132\n",
      "[397]\tvalid_0's rmse: 0.594107\n",
      "[398]\tvalid_0's rmse: 0.594068\n",
      "[399]\tvalid_0's rmse: 0.59393\n",
      "[400]\tvalid_0's rmse: 0.594035\n",
      "[401]\tvalid_0's rmse: 0.593965\n",
      "[402]\tvalid_0's rmse: 0.593875\n",
      "[403]\tvalid_0's rmse: 0.59396\n",
      "[404]\tvalid_0's rmse: 0.593906\n",
      "[405]\tvalid_0's rmse: 0.593855\n",
      "[406]\tvalid_0's rmse: 0.593893\n",
      "[407]\tvalid_0's rmse: 0.59391\n",
      "[408]\tvalid_0's rmse: 0.594039\n",
      "[409]\tvalid_0's rmse: 0.59405\n",
      "[410]\tvalid_0's rmse: 0.593918\n",
      "[411]\tvalid_0's rmse: 0.593958\n",
      "[412]\tvalid_0's rmse: 0.593893\n",
      "[413]\tvalid_0's rmse: 0.593896\n",
      "[414]\tvalid_0's rmse: 0.593934\n",
      "[415]\tvalid_0's rmse: 0.593747\n",
      "[416]\tvalid_0's rmse: 0.593745\n",
      "[417]\tvalid_0's rmse: 0.593789\n",
      "[418]\tvalid_0's rmse: 0.593848\n",
      "[419]\tvalid_0's rmse: 0.593852\n",
      "[420]\tvalid_0's rmse: 0.593784\n",
      "[421]\tvalid_0's rmse: 0.59377\n",
      "[422]\tvalid_0's rmse: 0.593775\n",
      "[423]\tvalid_0's rmse: 0.593928\n",
      "[424]\tvalid_0's rmse: 0.593926\n",
      "[425]\tvalid_0's rmse: 0.594063\n",
      "[426]\tvalid_0's rmse: 0.594156\n",
      "[427]\tvalid_0's rmse: 0.594187\n",
      "[428]\tvalid_0's rmse: 0.594164\n",
      "[429]\tvalid_0's rmse: 0.594194\n",
      "[430]\tvalid_0's rmse: 0.594221\n",
      "[431]\tvalid_0's rmse: 0.594235\n",
      "[432]\tvalid_0's rmse: 0.594185\n",
      "[433]\tvalid_0's rmse: 0.594078\n",
      "[434]\tvalid_0's rmse: 0.59427\n",
      "[435]\tvalid_0's rmse: 0.594214\n",
      "[436]\tvalid_0's rmse: 0.594222\n",
      "[437]\tvalid_0's rmse: 0.594198\n",
      "[438]\tvalid_0's rmse: 0.594203\n",
      "[439]\tvalid_0's rmse: 0.594162\n",
      "[440]\tvalid_0's rmse: 0.594196\n",
      "[441]\tvalid_0's rmse: 0.594188\n",
      "[442]\tvalid_0's rmse: 0.594285\n",
      "[443]\tvalid_0's rmse: 0.59425\n",
      "[444]\tvalid_0's rmse: 0.594135\n",
      "[445]\tvalid_0's rmse: 0.59417\n",
      "[446]\tvalid_0's rmse: 0.594166\n",
      "[447]\tvalid_0's rmse: 0.594043\n",
      "[448]\tvalid_0's rmse: 0.593958\n",
      "[449]\tvalid_0's rmse: 0.593966\n",
      "[450]\tvalid_0's rmse: 0.593973\n",
      "[451]\tvalid_0's rmse: 0.593866\n",
      "[452]\tvalid_0's rmse: 0.593792\n",
      "[453]\tvalid_0's rmse: 0.593689\n",
      "[454]\tvalid_0's rmse: 0.593715\n",
      "[455]\tvalid_0's rmse: 0.593403\n",
      "[456]\tvalid_0's rmse: 0.59328\n",
      "[457]\tvalid_0's rmse: 0.593362\n",
      "[458]\tvalid_0's rmse: 0.59332\n",
      "[459]\tvalid_0's rmse: 0.593179\n",
      "[460]\tvalid_0's rmse: 0.593208\n",
      "[461]\tvalid_0's rmse: 0.593347\n",
      "[462]\tvalid_0's rmse: 0.593149\n",
      "[463]\tvalid_0's rmse: 0.59316\n",
      "[464]\tvalid_0's rmse: 0.593102\n",
      "[465]\tvalid_0's rmse: 0.592947\n",
      "[466]\tvalid_0's rmse: 0.592889\n",
      "[467]\tvalid_0's rmse: 0.593052\n",
      "[468]\tvalid_0's rmse: 0.593146\n",
      "[469]\tvalid_0's rmse: 0.593142\n",
      "[470]\tvalid_0's rmse: 0.593191\n",
      "[471]\tvalid_0's rmse: 0.593181\n",
      "[472]\tvalid_0's rmse: 0.593151\n",
      "[473]\tvalid_0's rmse: 0.593134\n",
      "[474]\tvalid_0's rmse: 0.592843\n",
      "[475]\tvalid_0's rmse: 0.592821\n",
      "[476]\tvalid_0's rmse: 0.592967\n",
      "[477]\tvalid_0's rmse: 0.592959\n",
      "[478]\tvalid_0's rmse: 0.593026\n",
      "[479]\tvalid_0's rmse: 0.592992\n",
      "[480]\tvalid_0's rmse: 0.593044\n",
      "[481]\tvalid_0's rmse: 0.593138\n",
      "[482]\tvalid_0's rmse: 0.593096\n",
      "[483]\tvalid_0's rmse: 0.593091\n",
      "[484]\tvalid_0's rmse: 0.5931\n",
      "[485]\tvalid_0's rmse: 0.593145\n",
      "[486]\tvalid_0's rmse: 0.593158\n",
      "[487]\tvalid_0's rmse: 0.593036\n",
      "[488]\tvalid_0's rmse: 0.593161\n",
      "[489]\tvalid_0's rmse: 0.593106\n",
      "[490]\tvalid_0's rmse: 0.593149\n",
      "[491]\tvalid_0's rmse: 0.593185\n",
      "[492]\tvalid_0's rmse: 0.593212\n",
      "[493]\tvalid_0's rmse: 0.593247\n",
      "[494]\tvalid_0's rmse: 0.593382\n",
      "[495]\tvalid_0's rmse: 0.593405\n",
      "[496]\tvalid_0's rmse: 0.593493\n",
      "[497]\tvalid_0's rmse: 0.593401\n",
      "[498]\tvalid_0's rmse: 0.593504\n",
      "[499]\tvalid_0's rmse: 0.593344\n",
      "[500]\tvalid_0's rmse: 0.593261\n",
      "--------------------\n",
      "Fold:4:\n",
      "Feature Selection (get null_imp_df):\n",
      "Run 50 rounds of model training:\n"
     ]
    },
    {
     "name": "stderr",
     "output_type": "stream",
     "text": [
      "  0%|          | 0/50 [00:00<?, ?it/s]"
     ]
    },
    {
     "name": "stdout",
     "output_type": "stream",
     "text": [
      "[LightGBM] [Warning] bagging_fraction is set=0.75, subsample=0.9778252382803456 will be ignored. Current value: bagging_fraction=0.75\n",
      "[LightGBM] [Warning] bagging_freq is set=1, subsample_freq=0 will be ignored. Current value: bagging_freq=1\n",
      "[LightGBM] [Warning] feature_fraction is set=0.8, colsample_bytree=0.5420247656839267 will be ignored. Current value: feature_fraction=0.8\n"
     ]
    },
    {
     "name": "stderr",
     "output_type": "stream",
     "text": [
      "100%|██████████| 50/50 [04:06<00:00,  4.93s/it]\n"
     ]
    },
    {
     "name": "stdout",
     "output_type": "stream",
     "text": [
      "Feature Selection (actual_imp_df):\n",
      "Run 50 rounds of model training:\n"
     ]
    },
    {
     "name": "stderr",
     "output_type": "stream",
     "text": [
      "100%|██████████| 50/50 [17:36<00:00, 21.12s/it]\n"
     ]
    },
    {
     "name": "stdout",
     "output_type": "stream",
     "text": [
      "Feature Selection by Null Importances: gain:\n"
     ]
    },
    {
     "name": "stderr",
     "output_type": "stream",
     "text": [
      " 11%|█         | 1/9 [00:07<00:58,  7.28s/it]"
     ]
    },
    {
     "name": "stdout",
     "output_type": "stream",
     "text": [
      "[LightGBM] [Warning] bagging_fraction is set=0.75, subsample=0.9778252382803456 will be ignored. Current value: bagging_fraction=0.75\n",
      "[LightGBM] [Warning] bagging_freq is set=1, subsample_freq=0 will be ignored. Current value: bagging_freq=1\n",
      "[LightGBM] [Warning] feature_fraction is set=0.8, colsample_bytree=0.5420247656839267 will be ignored. Current value: feature_fraction=0.8\n"
     ]
    },
    {
     "name": "stderr",
     "output_type": "stream",
     "text": [
      " 22%|██▏       | 2/9 [00:14<00:52,  7.48s/it]"
     ]
    },
    {
     "name": "stdout",
     "output_type": "stream",
     "text": [
      "[LightGBM] [Warning] bagging_fraction is set=0.75, subsample=0.9778252382803456 will be ignored. Current value: bagging_fraction=0.75\n",
      "[LightGBM] [Warning] bagging_freq is set=1, subsample_freq=0 will be ignored. Current value: bagging_freq=1\n",
      "[LightGBM] [Warning] feature_fraction is set=0.8, colsample_bytree=0.5420247656839267 will be ignored. Current value: feature_fraction=0.8\n"
     ]
    },
    {
     "name": "stderr",
     "output_type": "stream",
     "text": [
      " 33%|███▎      | 3/9 [00:23<00:47,  7.89s/it]"
     ]
    },
    {
     "name": "stdout",
     "output_type": "stream",
     "text": [
      "[LightGBM] [Warning] bagging_fraction is set=0.75, subsample=0.9778252382803456 will be ignored. Current value: bagging_fraction=0.75\n",
      "[LightGBM] [Warning] bagging_freq is set=1, subsample_freq=0 will be ignored. Current value: bagging_freq=1\n",
      "[LightGBM] [Warning] feature_fraction is set=0.8, colsample_bytree=0.5420247656839267 will be ignored. Current value: feature_fraction=0.8\n"
     ]
    },
    {
     "name": "stderr",
     "output_type": "stream",
     "text": [
      " 44%|████▍     | 4/9 [00:29<00:35,  7.15s/it]"
     ]
    },
    {
     "name": "stdout",
     "output_type": "stream",
     "text": [
      "[LightGBM] [Warning] bagging_fraction is set=0.75, subsample=0.9778252382803456 will be ignored. Current value: bagging_fraction=0.75\n",
      "[LightGBM] [Warning] bagging_freq is set=1, subsample_freq=0 will be ignored. Current value: bagging_freq=1\n",
      "[LightGBM] [Warning] feature_fraction is set=0.8, colsample_bytree=0.5420247656839267 will be ignored. Current value: feature_fraction=0.8\n"
     ]
    },
    {
     "name": "stderr",
     "output_type": "stream",
     "text": [
      " 56%|█████▌    | 5/9 [00:38<00:31,  7.90s/it]"
     ]
    },
    {
     "name": "stdout",
     "output_type": "stream",
     "text": [
      "[LightGBM] [Warning] bagging_fraction is set=0.75, subsample=0.9778252382803456 will be ignored. Current value: bagging_fraction=0.75\n",
      "[LightGBM] [Warning] bagging_freq is set=1, subsample_freq=0 will be ignored. Current value: bagging_freq=1\n",
      "[LightGBM] [Warning] feature_fraction is set=0.8, colsample_bytree=0.5420247656839267 will be ignored. Current value: feature_fraction=0.8\n"
     ]
    },
    {
     "name": "stderr",
     "output_type": "stream",
     "text": [
      " 67%|██████▋   | 6/9 [00:49<00:26,  8.97s/it]"
     ]
    },
    {
     "name": "stdout",
     "output_type": "stream",
     "text": [
      "[LightGBM] [Warning] bagging_fraction is set=0.75, subsample=0.9778252382803456 will be ignored. Current value: bagging_fraction=0.75\n",
      "[LightGBM] [Warning] bagging_freq is set=1, subsample_freq=0 will be ignored. Current value: bagging_freq=1\n",
      "[LightGBM] [Warning] feature_fraction is set=0.8, colsample_bytree=0.5420247656839267 will be ignored. Current value: feature_fraction=0.8\n"
     ]
    },
    {
     "name": "stderr",
     "output_type": "stream",
     "text": [
      " 78%|███████▊  | 7/9 [00:59<00:18,  9.28s/it]"
     ]
    },
    {
     "name": "stdout",
     "output_type": "stream",
     "text": [
      "[LightGBM] [Warning] bagging_fraction is set=0.75, subsample=0.9778252382803456 will be ignored. Current value: bagging_fraction=0.75\n",
      "[LightGBM] [Warning] bagging_freq is set=1, subsample_freq=0 will be ignored. Current value: bagging_freq=1\n",
      "[LightGBM] [Warning] feature_fraction is set=0.8, colsample_bytree=0.5420247656839267 will be ignored. Current value: feature_fraction=0.8\n"
     ]
    },
    {
     "name": "stderr",
     "output_type": "stream",
     "text": [
      " 89%|████████▉ | 8/9 [01:12<00:10, 10.38s/it]"
     ]
    },
    {
     "name": "stdout",
     "output_type": "stream",
     "text": [
      "[LightGBM] [Warning] bagging_fraction is set=0.75, subsample=0.9778252382803456 will be ignored. Current value: bagging_fraction=0.75\n",
      "[LightGBM] [Warning] bagging_freq is set=1, subsample_freq=0 will be ignored. Current value: bagging_freq=1\n",
      "[LightGBM] [Warning] feature_fraction is set=0.8, colsample_bytree=0.5420247656839267 will be ignored. Current value: feature_fraction=0.8\n"
     ]
    },
    {
     "name": "stderr",
     "output_type": "stream",
     "text": [
      "100%|██████████| 9/9 [01:24<00:00,  9.36s/it]\n"
     ]
    },
    {
     "name": "stdout",
     "output_type": "stream",
     "text": [
      "Feature Selection by Null Importances: split:\n"
     ]
    },
    {
     "name": "stderr",
     "output_type": "stream",
     "text": [
      "  0%|          | 0/9 [00:00<?, ?it/s]"
     ]
    },
    {
     "name": "stdout",
     "output_type": "stream",
     "text": [
      "[LightGBM] [Warning] bagging_fraction is set=0.75, subsample=0.9778252382803456 will be ignored. Current value: bagging_fraction=0.75\n",
      "[LightGBM] [Warning] bagging_freq is set=1, subsample_freq=0 will be ignored. Current value: bagging_freq=1\n",
      "[LightGBM] [Warning] feature_fraction is set=0.8, colsample_bytree=0.5420247656839267 will be ignored. Current value: feature_fraction=0.8\n"
     ]
    },
    {
     "name": "stderr",
     "output_type": "stream",
     "text": [
      " 11%|█         | 1/9 [00:06<00:50,  6.33s/it]"
     ]
    },
    {
     "name": "stdout",
     "output_type": "stream",
     "text": [
      "[LightGBM] [Warning] bagging_fraction is set=0.75, subsample=0.9778252382803456 will be ignored. Current value: bagging_fraction=0.75\n",
      "[LightGBM] [Warning] bagging_freq is set=1, subsample_freq=0 will be ignored. Current value: bagging_freq=1\n",
      "[LightGBM] [Warning] feature_fraction is set=0.8, colsample_bytree=0.5420247656839267 will be ignored. Current value: feature_fraction=0.8\n"
     ]
    },
    {
     "name": "stderr",
     "output_type": "stream",
     "text": [
      " 22%|██▏       | 2/9 [00:12<00:42,  6.13s/it]"
     ]
    },
    {
     "name": "stdout",
     "output_type": "stream",
     "text": [
      "[LightGBM] [Warning] bagging_fraction is set=0.75, subsample=0.9778252382803456 will be ignored. Current value: bagging_fraction=0.75\n",
      "[LightGBM] [Warning] bagging_freq is set=1, subsample_freq=0 will be ignored. Current value: bagging_freq=1\n",
      "[LightGBM] [Warning] feature_fraction is set=0.8, colsample_bytree=0.5420247656839267 will be ignored. Current value: feature_fraction=0.8\n"
     ]
    },
    {
     "name": "stderr",
     "output_type": "stream",
     "text": [
      " 33%|███▎      | 3/9 [00:20<00:41,  6.94s/it]"
     ]
    },
    {
     "name": "stdout",
     "output_type": "stream",
     "text": [
      "[LightGBM] [Warning] bagging_fraction is set=0.75, subsample=0.9778252382803456 will be ignored. Current value: bagging_fraction=0.75\n",
      "[LightGBM] [Warning] bagging_freq is set=1, subsample_freq=0 will be ignored. Current value: bagging_freq=1\n",
      "[LightGBM] [Warning] feature_fraction is set=0.8, colsample_bytree=0.5420247656839267 will be ignored. Current value: feature_fraction=0.8\n"
     ]
    },
    {
     "name": "stderr",
     "output_type": "stream",
     "text": [
      " 44%|████▍     | 4/9 [00:25<00:31,  6.34s/it]"
     ]
    },
    {
     "name": "stdout",
     "output_type": "stream",
     "text": [
      "[LightGBM] [Warning] bagging_fraction is set=0.75, subsample=0.9778252382803456 will be ignored. Current value: bagging_fraction=0.75\n",
      "[LightGBM] [Warning] bagging_freq is set=1, subsample_freq=0 will be ignored. Current value: bagging_freq=1\n",
      "[LightGBM] [Warning] feature_fraction is set=0.8, colsample_bytree=0.5420247656839267 will be ignored. Current value: feature_fraction=0.8\n"
     ]
    },
    {
     "name": "stderr",
     "output_type": "stream",
     "text": [
      " 56%|█████▌    | 5/9 [00:33<00:27,  6.98s/it]"
     ]
    },
    {
     "name": "stdout",
     "output_type": "stream",
     "text": [
      "[LightGBM] [Warning] bagging_fraction is set=0.75, subsample=0.9778252382803456 will be ignored. Current value: bagging_fraction=0.75\n",
      "[LightGBM] [Warning] bagging_freq is set=1, subsample_freq=0 will be ignored. Current value: bagging_freq=1\n",
      "[LightGBM] [Warning] feature_fraction is set=0.8, colsample_bytree=0.5420247656839267 will be ignored. Current value: feature_fraction=0.8\n"
     ]
    },
    {
     "name": "stderr",
     "output_type": "stream",
     "text": [
      " 67%|██████▋   | 6/9 [00:40<00:20,  6.90s/it]"
     ]
    },
    {
     "name": "stdout",
     "output_type": "stream",
     "text": [
      "[LightGBM] [Warning] bagging_fraction is set=0.75, subsample=0.9778252382803456 will be ignored. Current value: bagging_fraction=0.75\n",
      "[LightGBM] [Warning] bagging_freq is set=1, subsample_freq=0 will be ignored. Current value: bagging_freq=1\n",
      "[LightGBM] [Warning] feature_fraction is set=0.8, colsample_bytree=0.5420247656839267 will be ignored. Current value: feature_fraction=0.8\n"
     ]
    },
    {
     "name": "stderr",
     "output_type": "stream",
     "text": [
      " 78%|███████▊  | 7/9 [00:51<00:16,  8.12s/it]"
     ]
    },
    {
     "name": "stdout",
     "output_type": "stream",
     "text": [
      "[LightGBM] [Warning] bagging_fraction is set=0.75, subsample=0.9778252382803456 will be ignored. Current value: bagging_fraction=0.75\n",
      "[LightGBM] [Warning] bagging_freq is set=1, subsample_freq=0 will be ignored. Current value: bagging_freq=1\n",
      "[LightGBM] [Warning] feature_fraction is set=0.8, colsample_bytree=0.5420247656839267 will be ignored. Current value: feature_fraction=0.8\n"
     ]
    },
    {
     "name": "stderr",
     "output_type": "stream",
     "text": [
      " 89%|████████▉ | 8/9 [01:00<00:08,  8.55s/it]"
     ]
    },
    {
     "name": "stdout",
     "output_type": "stream",
     "text": [
      "[LightGBM] [Warning] bagging_fraction is set=0.75, subsample=0.9778252382803456 will be ignored. Current value: bagging_fraction=0.75\n",
      "[LightGBM] [Warning] bagging_freq is set=1, subsample_freq=0 will be ignored. Current value: bagging_freq=1\n",
      "[LightGBM] [Warning] feature_fraction is set=0.8, colsample_bytree=0.5420247656839267 will be ignored. Current value: feature_fraction=0.8\n"
     ]
    },
    {
     "name": "stderr",
     "output_type": "stream",
     "text": [
      "100%|██████████| 9/9 [01:10<00:00,  7.81s/it]\n"
     ]
    },
    {
     "name": "stdout",
     "output_type": "stream",
     "text": [
      "Feature Selection by Null Importances: both:\n"
     ]
    },
    {
     "name": "stderr",
     "output_type": "stream",
     "text": [
      "  0%|          | 0/9 [00:00<?, ?it/s]"
     ]
    },
    {
     "name": "stdout",
     "output_type": "stream",
     "text": [
      "[LightGBM] [Warning] bagging_fraction is set=0.75, subsample=0.9778252382803456 will be ignored. Current value: bagging_fraction=0.75\n",
      "[LightGBM] [Warning] bagging_freq is set=1, subsample_freq=0 will be ignored. Current value: bagging_freq=1\n",
      "[LightGBM] [Warning] feature_fraction is set=0.8, colsample_bytree=0.5420247656839267 will be ignored. Current value: feature_fraction=0.8\n"
     ]
    },
    {
     "name": "stderr",
     "output_type": "stream",
     "text": [
      " 11%|█         | 1/9 [00:06<00:53,  6.72s/it]"
     ]
    },
    {
     "name": "stdout",
     "output_type": "stream",
     "text": [
      "[LightGBM] [Warning] bagging_fraction is set=0.75, subsample=0.9778252382803456 will be ignored. Current value: bagging_fraction=0.75\n",
      "[LightGBM] [Warning] bagging_freq is set=1, subsample_freq=0 will be ignored. Current value: bagging_freq=1\n",
      "[LightGBM] [Warning] feature_fraction is set=0.8, colsample_bytree=0.5420247656839267 will be ignored. Current value: feature_fraction=0.8\n"
     ]
    },
    {
     "name": "stderr",
     "output_type": "stream",
     "text": [
      " 22%|██▏       | 2/9 [00:13<00:45,  6.53s/it]"
     ]
    },
    {
     "name": "stdout",
     "output_type": "stream",
     "text": [
      "[LightGBM] [Warning] bagging_fraction is set=0.75, subsample=0.9778252382803456 will be ignored. Current value: bagging_fraction=0.75\n",
      "[LightGBM] [Warning] bagging_freq is set=1, subsample_freq=0 will be ignored. Current value: bagging_freq=1\n",
      "[LightGBM] [Warning] feature_fraction is set=0.8, colsample_bytree=0.5420247656839267 will be ignored. Current value: feature_fraction=0.8\n"
     ]
    },
    {
     "name": "stderr",
     "output_type": "stream",
     "text": [
      " 33%|███▎      | 3/9 [00:19<00:39,  6.56s/it]"
     ]
    },
    {
     "name": "stdout",
     "output_type": "stream",
     "text": [
      "[LightGBM] [Warning] bagging_fraction is set=0.75, subsample=0.9778252382803456 will be ignored. Current value: bagging_fraction=0.75\n",
      "[LightGBM] [Warning] bagging_freq is set=1, subsample_freq=0 will be ignored. Current value: bagging_freq=1\n",
      "[LightGBM] [Warning] feature_fraction is set=0.8, colsample_bytree=0.5420247656839267 will be ignored. Current value: feature_fraction=0.8\n"
     ]
    },
    {
     "name": "stderr",
     "output_type": "stream",
     "text": [
      " 44%|████▍     | 4/9 [00:26<00:32,  6.52s/it]"
     ]
    },
    {
     "name": "stdout",
     "output_type": "stream",
     "text": [
      "[LightGBM] [Warning] bagging_fraction is set=0.75, subsample=0.9778252382803456 will be ignored. Current value: bagging_fraction=0.75\n",
      "[LightGBM] [Warning] bagging_freq is set=1, subsample_freq=0 will be ignored. Current value: bagging_freq=1\n",
      "[LightGBM] [Warning] feature_fraction is set=0.8, colsample_bytree=0.5420247656839267 will be ignored. Current value: feature_fraction=0.8\n"
     ]
    },
    {
     "name": "stderr",
     "output_type": "stream",
     "text": [
      " 56%|█████▌    | 5/9 [00:33<00:27,  6.96s/it]"
     ]
    },
    {
     "name": "stdout",
     "output_type": "stream",
     "text": [
      "[LightGBM] [Warning] bagging_fraction is set=0.75, subsample=0.9778252382803456 will be ignored. Current value: bagging_fraction=0.75\n",
      "[LightGBM] [Warning] bagging_freq is set=1, subsample_freq=0 will be ignored. Current value: bagging_freq=1\n",
      "[LightGBM] [Warning] feature_fraction is set=0.8, colsample_bytree=0.5420247656839267 will be ignored. Current value: feature_fraction=0.8\n"
     ]
    },
    {
     "name": "stderr",
     "output_type": "stream",
     "text": [
      " 67%|██████▋   | 6/9 [00:41<00:21,  7.03s/it]"
     ]
    },
    {
     "name": "stdout",
     "output_type": "stream",
     "text": [
      "[LightGBM] [Warning] bagging_fraction is set=0.75, subsample=0.9778252382803456 will be ignored. Current value: bagging_fraction=0.75\n",
      "[LightGBM] [Warning] bagging_freq is set=1, subsample_freq=0 will be ignored. Current value: bagging_freq=1\n",
      "[LightGBM] [Warning] feature_fraction is set=0.8, colsample_bytree=0.5420247656839267 will be ignored. Current value: feature_fraction=0.8\n"
     ]
    },
    {
     "name": "stderr",
     "output_type": "stream",
     "text": [
      " 78%|███████▊  | 7/9 [00:48<00:14,  7.26s/it]"
     ]
    },
    {
     "name": "stdout",
     "output_type": "stream",
     "text": [
      "[LightGBM] [Warning] bagging_fraction is set=0.75, subsample=0.9778252382803456 will be ignored. Current value: bagging_fraction=0.75\n",
      "[LightGBM] [Warning] bagging_freq is set=1, subsample_freq=0 will be ignored. Current value: bagging_freq=1\n",
      "[LightGBM] [Warning] feature_fraction is set=0.8, colsample_bytree=0.5420247656839267 will be ignored. Current value: feature_fraction=0.8\n"
     ]
    },
    {
     "name": "stderr",
     "output_type": "stream",
     "text": [
      " 89%|████████▉ | 8/9 [00:58<00:08,  8.03s/it]"
     ]
    },
    {
     "name": "stdout",
     "output_type": "stream",
     "text": [
      "[LightGBM] [Warning] bagging_fraction is set=0.75, subsample=0.9778252382803456 will be ignored. Current value: bagging_fraction=0.75\n",
      "[LightGBM] [Warning] bagging_freq is set=1, subsample_freq=0 will be ignored. Current value: bagging_freq=1\n",
      "[LightGBM] [Warning] feature_fraction is set=0.8, colsample_bytree=0.5420247656839267 will be ignored. Current value: feature_fraction=0.8\n"
     ]
    },
    {
     "name": "stderr",
     "output_type": "stream",
     "text": [
      "100%|██████████| 9/9 [01:09<00:00,  7.72s/it]\n"
     ]
    },
    {
     "name": "stdout",
     "output_type": "stream",
     "text": [
      "After feature selection: 638 -> 252.\n",
      "[LightGBM] [Warning] bagging_fraction is set=0.75, subsample=0.9778252382803456 will be ignored. Current value: bagging_fraction=0.75\n",
      "[LightGBM] [Warning] bagging_freq is set=1, subsample_freq=0 will be ignored. Current value: bagging_freq=1\n",
      "[LightGBM] [Warning] feature_fraction is set=0.8, colsample_bytree=0.5420247656839267 will be ignored. Current value: feature_fraction=0.8\n",
      "[1]\tvalid_0's rmse: 1.0178\n",
      "[2]\tvalid_0's rmse: 1.00879\n",
      "[3]\tvalid_0's rmse: 1.00024\n",
      "[4]\tvalid_0's rmse: 0.992279\n",
      "[5]\tvalid_0's rmse: 0.984705\n",
      "[6]\tvalid_0's rmse: 0.977144\n",
      "[7]\tvalid_0's rmse: 0.96939\n",
      "[8]\tvalid_0's rmse: 0.961698\n",
      "[9]\tvalid_0's rmse: 0.954313\n",
      "[10]\tvalid_0's rmse: 0.947008\n",
      "[11]\tvalid_0's rmse: 0.939973\n",
      "[12]\tvalid_0's rmse: 0.9329\n",
      "[13]\tvalid_0's rmse: 0.926043\n",
      "[14]\tvalid_0's rmse: 0.919336\n",
      "[15]\tvalid_0's rmse: 0.912954\n",
      "[16]\tvalid_0's rmse: 0.906678\n",
      "[17]\tvalid_0's rmse: 0.900734\n",
      "[18]\tvalid_0's rmse: 0.89471\n",
      "[19]\tvalid_0's rmse: 0.889219\n",
      "[20]\tvalid_0's rmse: 0.88329\n",
      "[21]\tvalid_0's rmse: 0.878206\n",
      "[22]\tvalid_0's rmse: 0.872395\n",
      "[23]\tvalid_0's rmse: 0.867753\n",
      "[24]\tvalid_0's rmse: 0.862552\n",
      "[25]\tvalid_0's rmse: 0.857403\n",
      "[26]\tvalid_0's rmse: 0.852256\n",
      "[27]\tvalid_0's rmse: 0.846615\n",
      "[28]\tvalid_0's rmse: 0.841836\n",
      "[29]\tvalid_0's rmse: 0.836764\n",
      "[30]\tvalid_0's rmse: 0.832598\n",
      "[31]\tvalid_0's rmse: 0.828366\n",
      "[32]\tvalid_0's rmse: 0.82473\n",
      "[33]\tvalid_0's rmse: 0.820405\n",
      "[34]\tvalid_0's rmse: 0.816293\n",
      "[35]\tvalid_0's rmse: 0.812613\n",
      "[36]\tvalid_0's rmse: 0.808247\n",
      "[37]\tvalid_0's rmse: 0.804239\n",
      "[38]\tvalid_0's rmse: 0.801102\n",
      "[39]\tvalid_0's rmse: 0.797552\n",
      "[40]\tvalid_0's rmse: 0.794198\n",
      "[41]\tvalid_0's rmse: 0.790621\n",
      "[42]\tvalid_0's rmse: 0.786917\n",
      "[43]\tvalid_0's rmse: 0.783673\n",
      "[44]\tvalid_0's rmse: 0.781074\n",
      "[45]\tvalid_0's rmse: 0.778472\n",
      "[46]\tvalid_0's rmse: 0.775805\n",
      "[47]\tvalid_0's rmse: 0.773074\n",
      "[48]\tvalid_0's rmse: 0.770461\n",
      "[49]\tvalid_0's rmse: 0.767841\n",
      "[50]\tvalid_0's rmse: 0.765307\n",
      "[51]\tvalid_0's rmse: 0.762583\n",
      "[52]\tvalid_0's rmse: 0.759975\n",
      "[53]\tvalid_0's rmse: 0.757009\n",
      "[54]\tvalid_0's rmse: 0.7545\n",
      "[55]\tvalid_0's rmse: 0.752543\n",
      "[56]\tvalid_0's rmse: 0.749896\n",
      "[57]\tvalid_0's rmse: 0.746989\n",
      "[58]\tvalid_0's rmse: 0.745213\n",
      "[59]\tvalid_0's rmse: 0.743492\n",
      "[60]\tvalid_0's rmse: 0.741236\n",
      "[61]\tvalid_0's rmse: 0.7392\n",
      "[62]\tvalid_0's rmse: 0.737266\n",
      "[63]\tvalid_0's rmse: 0.735417\n",
      "[64]\tvalid_0's rmse: 0.733585\n",
      "[65]\tvalid_0's rmse: 0.731455\n",
      "[66]\tvalid_0's rmse: 0.729794\n",
      "[67]\tvalid_0's rmse: 0.728033\n",
      "[68]\tvalid_0's rmse: 0.726299\n",
      "[69]\tvalid_0's rmse: 0.724729\n",
      "[70]\tvalid_0's rmse: 0.722873\n",
      "[71]\tvalid_0's rmse: 0.721417\n",
      "[72]\tvalid_0's rmse: 0.719607\n",
      "[73]\tvalid_0's rmse: 0.717914\n",
      "[74]\tvalid_0's rmse: 0.716576\n",
      "[75]\tvalid_0's rmse: 0.714941\n",
      "[76]\tvalid_0's rmse: 0.713491\n",
      "[77]\tvalid_0's rmse: 0.712506\n",
      "[78]\tvalid_0's rmse: 0.710812\n",
      "[79]\tvalid_0's rmse: 0.709966\n",
      "[80]\tvalid_0's rmse: 0.708547\n",
      "[81]\tvalid_0's rmse: 0.707401\n",
      "[82]\tvalid_0's rmse: 0.70625\n",
      "[83]\tvalid_0's rmse: 0.705279\n",
      "[84]\tvalid_0's rmse: 0.704091\n",
      "[85]\tvalid_0's rmse: 0.702887\n",
      "[86]\tvalid_0's rmse: 0.701863\n",
      "[87]\tvalid_0's rmse: 0.700796\n",
      "[88]\tvalid_0's rmse: 0.699395\n",
      "[89]\tvalid_0's rmse: 0.698461\n",
      "[90]\tvalid_0's rmse: 0.697375\n",
      "[91]\tvalid_0's rmse: 0.69669\n",
      "[92]\tvalid_0's rmse: 0.695484\n",
      "[93]\tvalid_0's rmse: 0.694654\n",
      "[94]\tvalid_0's rmse: 0.693946\n",
      "[95]\tvalid_0's rmse: 0.692958\n",
      "[96]\tvalid_0's rmse: 0.692241\n",
      "[97]\tvalid_0's rmse: 0.691503\n",
      "[98]\tvalid_0's rmse: 0.690732\n",
      "[99]\tvalid_0's rmse: 0.690009\n",
      "[100]\tvalid_0's rmse: 0.689479\n",
      "[101]\tvalid_0's rmse: 0.688722\n",
      "[102]\tvalid_0's rmse: 0.688081\n",
      "[103]\tvalid_0's rmse: 0.687339\n",
      "[104]\tvalid_0's rmse: 0.686593\n",
      "[105]\tvalid_0's rmse: 0.68586\n",
      "[106]\tvalid_0's rmse: 0.685247\n",
      "[107]\tvalid_0's rmse: 0.684861\n",
      "[108]\tvalid_0's rmse: 0.684451\n",
      "[109]\tvalid_0's rmse: 0.683976\n",
      "[110]\tvalid_0's rmse: 0.683259\n",
      "[111]\tvalid_0's rmse: 0.682735\n",
      "[112]\tvalid_0's rmse: 0.682195\n",
      "[113]\tvalid_0's rmse: 0.681492\n",
      "[114]\tvalid_0's rmse: 0.680836\n",
      "[115]\tvalid_0's rmse: 0.680265\n",
      "[116]\tvalid_0's rmse: 0.67993\n",
      "[117]\tvalid_0's rmse: 0.679392\n",
      "[118]\tvalid_0's rmse: 0.678945\n",
      "[119]\tvalid_0's rmse: 0.678772\n",
      "[120]\tvalid_0's rmse: 0.678177\n",
      "[121]\tvalid_0's rmse: 0.677757\n",
      "[122]\tvalid_0's rmse: 0.677275\n",
      "[123]\tvalid_0's rmse: 0.676677\n",
      "[124]\tvalid_0's rmse: 0.676136\n",
      "[125]\tvalid_0's rmse: 0.675783\n",
      "[126]\tvalid_0's rmse: 0.674999\n",
      "[127]\tvalid_0's rmse: 0.674613\n",
      "[128]\tvalid_0's rmse: 0.674008\n",
      "[129]\tvalid_0's rmse: 0.673483\n",
      "[130]\tvalid_0's rmse: 0.673161\n",
      "[131]\tvalid_0's rmse: 0.672933\n",
      "[132]\tvalid_0's rmse: 0.672449\n",
      "[133]\tvalid_0's rmse: 0.672133\n",
      "[134]\tvalid_0's rmse: 0.671892\n",
      "[135]\tvalid_0's rmse: 0.671723\n",
      "[136]\tvalid_0's rmse: 0.671355\n",
      "[137]\tvalid_0's rmse: 0.670869\n",
      "[138]\tvalid_0's rmse: 0.670513\n",
      "[139]\tvalid_0's rmse: 0.670351\n",
      "[140]\tvalid_0's rmse: 0.669636\n",
      "[141]\tvalid_0's rmse: 0.669338\n",
      "[142]\tvalid_0's rmse: 0.668924\n",
      "[143]\tvalid_0's rmse: 0.668699\n",
      "[144]\tvalid_0's rmse: 0.668463\n",
      "[145]\tvalid_0's rmse: 0.668104\n",
      "[146]\tvalid_0's rmse: 0.667963\n",
      "[147]\tvalid_0's rmse: 0.667599\n",
      "[148]\tvalid_0's rmse: 0.667448\n",
      "[149]\tvalid_0's rmse: 0.667136\n",
      "[150]\tvalid_0's rmse: 0.666875\n",
      "[151]\tvalid_0's rmse: 0.666606\n",
      "[152]\tvalid_0's rmse: 0.666416\n",
      "[153]\tvalid_0's rmse: 0.666273\n",
      "[154]\tvalid_0's rmse: 0.666156\n",
      "[155]\tvalid_0's rmse: 0.665923\n",
      "[156]\tvalid_0's rmse: 0.665899\n",
      "[157]\tvalid_0's rmse: 0.665797\n",
      "[158]\tvalid_0's rmse: 0.665455\n",
      "[159]\tvalid_0's rmse: 0.66527\n",
      "[160]\tvalid_0's rmse: 0.66524\n",
      "[161]\tvalid_0's rmse: 0.665063\n",
      "[162]\tvalid_0's rmse: 0.664889\n",
      "[163]\tvalid_0's rmse: 0.664867\n",
      "[164]\tvalid_0's rmse: 0.664523\n",
      "[165]\tvalid_0's rmse: 0.664316\n",
      "[166]\tvalid_0's rmse: 0.664169\n",
      "[167]\tvalid_0's rmse: 0.663975\n",
      "[168]\tvalid_0's rmse: 0.663835\n",
      "[169]\tvalid_0's rmse: 0.663624\n",
      "[170]\tvalid_0's rmse: 0.663561\n",
      "[171]\tvalid_0's rmse: 0.663367\n",
      "[172]\tvalid_0's rmse: 0.663425\n",
      "[173]\tvalid_0's rmse: 0.66327\n",
      "[174]\tvalid_0's rmse: 0.663071\n",
      "[175]\tvalid_0's rmse: 0.663092\n",
      "[176]\tvalid_0's rmse: 0.662981\n",
      "[177]\tvalid_0's rmse: 0.662883\n",
      "[178]\tvalid_0's rmse: 0.662664\n",
      "[179]\tvalid_0's rmse: 0.662608\n",
      "[180]\tvalid_0's rmse: 0.662467\n",
      "[181]\tvalid_0's rmse: 0.662123\n",
      "[182]\tvalid_0's rmse: 0.662012\n",
      "[183]\tvalid_0's rmse: 0.661877\n",
      "[184]\tvalid_0's rmse: 0.661673\n",
      "[185]\tvalid_0's rmse: 0.661607\n",
      "[186]\tvalid_0's rmse: 0.661234\n",
      "[187]\tvalid_0's rmse: 0.661\n",
      "[188]\tvalid_0's rmse: 0.660785\n",
      "[189]\tvalid_0's rmse: 0.66082\n",
      "[190]\tvalid_0's rmse: 0.660795\n",
      "[191]\tvalid_0's rmse: 0.660507\n",
      "[192]\tvalid_0's rmse: 0.66029\n",
      "[193]\tvalid_0's rmse: 0.660408\n",
      "[194]\tvalid_0's rmse: 0.660166\n",
      "[195]\tvalid_0's rmse: 0.660089\n",
      "[196]\tvalid_0's rmse: 0.660162\n",
      "[197]\tvalid_0's rmse: 0.659992\n",
      "[198]\tvalid_0's rmse: 0.659973\n",
      "[199]\tvalid_0's rmse: 0.659752\n",
      "[200]\tvalid_0's rmse: 0.659548\n",
      "[201]\tvalid_0's rmse: 0.659352\n",
      "[202]\tvalid_0's rmse: 0.659217\n",
      "[203]\tvalid_0's rmse: 0.659223\n",
      "[204]\tvalid_0's rmse: 0.659004\n",
      "[205]\tvalid_0's rmse: 0.658838\n",
      "[206]\tvalid_0's rmse: 0.658849\n",
      "[207]\tvalid_0's rmse: 0.658652\n",
      "[208]\tvalid_0's rmse: 0.658638\n",
      "[209]\tvalid_0's rmse: 0.65859\n",
      "[210]\tvalid_0's rmse: 0.65868\n",
      "[211]\tvalid_0's rmse: 0.658677\n",
      "[212]\tvalid_0's rmse: 0.658546\n",
      "[213]\tvalid_0's rmse: 0.658366\n",
      "[214]\tvalid_0's rmse: 0.658303\n",
      "[215]\tvalid_0's rmse: 0.658333\n",
      "[216]\tvalid_0's rmse: 0.658176\n",
      "[217]\tvalid_0's rmse: 0.658002\n",
      "[218]\tvalid_0's rmse: 0.658005\n",
      "[219]\tvalid_0's rmse: 0.657813\n",
      "[220]\tvalid_0's rmse: 0.657845\n",
      "[221]\tvalid_0's rmse: 0.657755\n",
      "[222]\tvalid_0's rmse: 0.657649\n",
      "[223]\tvalid_0's rmse: 0.657528\n",
      "[224]\tvalid_0's rmse: 0.657576\n",
      "[225]\tvalid_0's rmse: 0.657619\n",
      "[226]\tvalid_0's rmse: 0.657567\n",
      "[227]\tvalid_0's rmse: 0.657597\n",
      "[228]\tvalid_0's rmse: 0.657424\n",
      "[229]\tvalid_0's rmse: 0.657321\n",
      "[230]\tvalid_0's rmse: 0.657166\n",
      "[231]\tvalid_0's rmse: 0.657071\n",
      "[232]\tvalid_0's rmse: 0.657099\n",
      "[233]\tvalid_0's rmse: 0.656983\n",
      "[234]\tvalid_0's rmse: 0.656948\n",
      "[235]\tvalid_0's rmse: 0.656827\n",
      "[236]\tvalid_0's rmse: 0.656752\n",
      "[237]\tvalid_0's rmse: 0.656654\n",
      "[238]\tvalid_0's rmse: 0.656674\n",
      "[239]\tvalid_0's rmse: 0.65655\n",
      "[240]\tvalid_0's rmse: 0.656371\n",
      "[241]\tvalid_0's rmse: 0.656251\n",
      "[242]\tvalid_0's rmse: 0.656228\n",
      "[243]\tvalid_0's rmse: 0.656093\n",
      "[244]\tvalid_0's rmse: 0.65611\n",
      "[245]\tvalid_0's rmse: 0.655903\n",
      "[246]\tvalid_0's rmse: 0.655707\n",
      "[247]\tvalid_0's rmse: 0.655748\n",
      "[248]\tvalid_0's rmse: 0.65569\n",
      "[249]\tvalid_0's rmse: 0.655627\n",
      "[250]\tvalid_0's rmse: 0.655598\n",
      "[251]\tvalid_0's rmse: 0.655484\n",
      "[252]\tvalid_0's rmse: 0.655386\n",
      "[253]\tvalid_0's rmse: 0.655342\n",
      "[254]\tvalid_0's rmse: 0.655373\n",
      "[255]\tvalid_0's rmse: 0.655397\n",
      "[256]\tvalid_0's rmse: 0.655535\n",
      "[257]\tvalid_0's rmse: 0.655364\n",
      "[258]\tvalid_0's rmse: 0.655401\n",
      "[259]\tvalid_0's rmse: 0.655583\n",
      "[260]\tvalid_0's rmse: 0.655356\n",
      "[261]\tvalid_0's rmse: 0.65528\n",
      "[262]\tvalid_0's rmse: 0.6551\n",
      "[263]\tvalid_0's rmse: 0.655019\n",
      "[264]\tvalid_0's rmse: 0.654851\n",
      "[265]\tvalid_0's rmse: 0.654909\n",
      "[266]\tvalid_0's rmse: 0.655027\n",
      "[267]\tvalid_0's rmse: 0.654908\n",
      "[268]\tvalid_0's rmse: 0.654873\n",
      "[269]\tvalid_0's rmse: 0.654832\n",
      "[270]\tvalid_0's rmse: 0.6548\n",
      "[271]\tvalid_0's rmse: 0.654864\n",
      "[272]\tvalid_0's rmse: 0.654719\n",
      "[273]\tvalid_0's rmse: 0.654645\n",
      "[274]\tvalid_0's rmse: 0.654497\n",
      "[275]\tvalid_0's rmse: 0.654533\n",
      "[276]\tvalid_0's rmse: 0.65447\n",
      "[277]\tvalid_0's rmse: 0.654442\n",
      "[278]\tvalid_0's rmse: 0.654604\n",
      "[279]\tvalid_0's rmse: 0.65461\n",
      "[280]\tvalid_0's rmse: 0.654549\n",
      "[281]\tvalid_0's rmse: 0.654545\n",
      "[282]\tvalid_0's rmse: 0.654697\n",
      "[283]\tvalid_0's rmse: 0.654574\n",
      "[284]\tvalid_0's rmse: 0.654374\n",
      "[285]\tvalid_0's rmse: 0.654213\n",
      "[286]\tvalid_0's rmse: 0.654152\n",
      "[287]\tvalid_0's rmse: 0.654051\n",
      "[288]\tvalid_0's rmse: 0.653993\n",
      "[289]\tvalid_0's rmse: 0.654002\n",
      "[290]\tvalid_0's rmse: 0.653945\n",
      "[291]\tvalid_0's rmse: 0.653877\n",
      "[292]\tvalid_0's rmse: 0.653744\n",
      "[293]\tvalid_0's rmse: 0.653546\n",
      "[294]\tvalid_0's rmse: 0.653482\n",
      "[295]\tvalid_0's rmse: 0.653123\n",
      "[296]\tvalid_0's rmse: 0.653046\n",
      "[297]\tvalid_0's rmse: 0.652977\n",
      "[298]\tvalid_0's rmse: 0.652913\n",
      "[299]\tvalid_0's rmse: 0.652822\n",
      "[300]\tvalid_0's rmse: 0.652619\n",
      "[301]\tvalid_0's rmse: 0.652562\n",
      "[302]\tvalid_0's rmse: 0.652559\n",
      "[303]\tvalid_0's rmse: 0.652683\n",
      "[304]\tvalid_0's rmse: 0.652691\n",
      "[305]\tvalid_0's rmse: 0.652745\n",
      "[306]\tvalid_0's rmse: 0.652664\n",
      "[307]\tvalid_0's rmse: 0.652839\n",
      "[308]\tvalid_0's rmse: 0.652845\n",
      "[309]\tvalid_0's rmse: 0.652774\n",
      "[310]\tvalid_0's rmse: 0.652886\n",
      "[311]\tvalid_0's rmse: 0.652965\n",
      "[312]\tvalid_0's rmse: 0.652951\n",
      "[313]\tvalid_0's rmse: 0.653011\n",
      "[314]\tvalid_0's rmse: 0.652922\n",
      "[315]\tvalid_0's rmse: 0.65281\n",
      "[316]\tvalid_0's rmse: 0.652701\n",
      "[317]\tvalid_0's rmse: 0.652566\n",
      "[318]\tvalid_0's rmse: 0.652786\n",
      "[319]\tvalid_0's rmse: 0.652803\n",
      "[320]\tvalid_0's rmse: 0.652753\n",
      "[321]\tvalid_0's rmse: 0.652742\n",
      "[322]\tvalid_0's rmse: 0.652631\n",
      "[323]\tvalid_0's rmse: 0.652803\n",
      "[324]\tvalid_0's rmse: 0.652902\n",
      "[325]\tvalid_0's rmse: 0.652827\n",
      "[326]\tvalid_0's rmse: 0.652833\n",
      "[327]\tvalid_0's rmse: 0.652726\n",
      "[328]\tvalid_0's rmse: 0.652814\n",
      "[329]\tvalid_0's rmse: 0.652801\n",
      "[330]\tvalid_0's rmse: 0.652757\n",
      "[331]\tvalid_0's rmse: 0.652769\n",
      "[332]\tvalid_0's rmse: 0.652869\n",
      "[333]\tvalid_0's rmse: 0.652893\n",
      "[334]\tvalid_0's rmse: 0.652812\n",
      "[335]\tvalid_0's rmse: 0.652814\n",
      "[336]\tvalid_0's rmse: 0.652888\n",
      "[337]\tvalid_0's rmse: 0.65303\n",
      "[338]\tvalid_0's rmse: 0.652729\n",
      "[339]\tvalid_0's rmse: 0.652728\n",
      "[340]\tvalid_0's rmse: 0.65284\n",
      "[341]\tvalid_0's rmse: 0.652742\n",
      "[342]\tvalid_0's rmse: 0.652708\n",
      "[343]\tvalid_0's rmse: 0.652746\n",
      "[344]\tvalid_0's rmse: 0.652539\n",
      "[345]\tvalid_0's rmse: 0.652522\n",
      "[346]\tvalid_0's rmse: 0.652425\n",
      "[347]\tvalid_0's rmse: 0.652318\n",
      "[348]\tvalid_0's rmse: 0.652328\n",
      "[349]\tvalid_0's rmse: 0.652524\n",
      "[350]\tvalid_0's rmse: 0.652513\n",
      "[351]\tvalid_0's rmse: 0.652524\n",
      "[352]\tvalid_0's rmse: 0.652421\n",
      "[353]\tvalid_0's rmse: 0.652363\n",
      "[354]\tvalid_0's rmse: 0.652296\n",
      "[355]\tvalid_0's rmse: 0.652188\n",
      "[356]\tvalid_0's rmse: 0.65206\n",
      "[357]\tvalid_0's rmse: 0.651953\n",
      "[358]\tvalid_0's rmse: 0.651886\n",
      "[359]\tvalid_0's rmse: 0.651802\n",
      "[360]\tvalid_0's rmse: 0.651865\n",
      "[361]\tvalid_0's rmse: 0.651943\n",
      "[362]\tvalid_0's rmse: 0.652014\n",
      "[363]\tvalid_0's rmse: 0.651833\n",
      "[364]\tvalid_0's rmse: 0.651844\n",
      "[365]\tvalid_0's rmse: 0.651927\n",
      "[366]\tvalid_0's rmse: 0.651866\n",
      "[367]\tvalid_0's rmse: 0.651579\n",
      "[368]\tvalid_0's rmse: 0.651579\n",
      "[369]\tvalid_0's rmse: 0.651616\n",
      "[370]\tvalid_0's rmse: 0.651685\n",
      "[371]\tvalid_0's rmse: 0.65157\n",
      "[372]\tvalid_0's rmse: 0.651575\n",
      "[373]\tvalid_0's rmse: 0.651512\n",
      "[374]\tvalid_0's rmse: 0.651594\n",
      "[375]\tvalid_0's rmse: 0.651537\n",
      "[376]\tvalid_0's rmse: 0.651505\n",
      "[377]\tvalid_0's rmse: 0.651352\n",
      "[378]\tvalid_0's rmse: 0.651462\n",
      "[379]\tvalid_0's rmse: 0.651463\n",
      "[380]\tvalid_0's rmse: 0.65129\n",
      "[381]\tvalid_0's rmse: 0.651155\n",
      "[382]\tvalid_0's rmse: 0.651048\n",
      "[383]\tvalid_0's rmse: 0.650885\n",
      "[384]\tvalid_0's rmse: 0.65095\n",
      "[385]\tvalid_0's rmse: 0.650978\n",
      "[386]\tvalid_0's rmse: 0.650862\n",
      "[387]\tvalid_0's rmse: 0.650852\n",
      "[388]\tvalid_0's rmse: 0.650812\n",
      "[389]\tvalid_0's rmse: 0.650719\n",
      "[390]\tvalid_0's rmse: 0.650602\n",
      "[391]\tvalid_0's rmse: 0.650514\n",
      "[392]\tvalid_0's rmse: 0.650315\n",
      "[393]\tvalid_0's rmse: 0.650252\n",
      "[394]\tvalid_0's rmse: 0.650125\n",
      "[395]\tvalid_0's rmse: 0.650064\n",
      "[396]\tvalid_0's rmse: 0.650062\n",
      "[397]\tvalid_0's rmse: 0.650088\n",
      "[398]\tvalid_0's rmse: 0.65014\n",
      "[399]\tvalid_0's rmse: 0.650089\n",
      "[400]\tvalid_0's rmse: 0.650035\n",
      "[401]\tvalid_0's rmse: 0.650078\n",
      "[402]\tvalid_0's rmse: 0.650097\n",
      "[403]\tvalid_0's rmse: 0.65022\n",
      "[404]\tvalid_0's rmse: 0.650199\n",
      "[405]\tvalid_0's rmse: 0.65024\n",
      "[406]\tvalid_0's rmse: 0.650169\n",
      "[407]\tvalid_0's rmse: 0.650292\n",
      "[408]\tvalid_0's rmse: 0.650367\n",
      "[409]\tvalid_0's rmse: 0.650217\n",
      "[410]\tvalid_0's rmse: 0.650193\n",
      "[411]\tvalid_0's rmse: 0.650092\n",
      "[412]\tvalid_0's rmse: 0.650152\n",
      "[413]\tvalid_0's rmse: 0.650167\n",
      "[414]\tvalid_0's rmse: 0.65025\n",
      "[415]\tvalid_0's rmse: 0.650226\n",
      "[416]\tvalid_0's rmse: 0.65023\n",
      "[417]\tvalid_0's rmse: 0.650194\n",
      "[418]\tvalid_0's rmse: 0.650387\n",
      "[419]\tvalid_0's rmse: 0.65027\n",
      "[420]\tvalid_0's rmse: 0.650141\n",
      "[421]\tvalid_0's rmse: 0.650128\n",
      "[422]\tvalid_0's rmse: 0.65009\n",
      "[423]\tvalid_0's rmse: 0.650009\n",
      "[424]\tvalid_0's rmse: 0.649783\n",
      "[425]\tvalid_0's rmse: 0.64985\n",
      "[426]\tvalid_0's rmse: 0.649753\n",
      "[427]\tvalid_0's rmse: 0.649813\n",
      "[428]\tvalid_0's rmse: 0.649835\n",
      "[429]\tvalid_0's rmse: 0.649882\n",
      "[430]\tvalid_0's rmse: 0.649782\n",
      "[431]\tvalid_0's rmse: 0.649778\n",
      "[432]\tvalid_0's rmse: 0.649841\n",
      "[433]\tvalid_0's rmse: 0.649891\n",
      "[434]\tvalid_0's rmse: 0.649879\n",
      "[435]\tvalid_0's rmse: 0.649931\n",
      "[436]\tvalid_0's rmse: 0.649851\n",
      "[437]\tvalid_0's rmse: 0.649729\n",
      "[438]\tvalid_0's rmse: 0.649826\n",
      "[439]\tvalid_0's rmse: 0.64993\n",
      "[440]\tvalid_0's rmse: 0.650094\n",
      "[441]\tvalid_0's rmse: 0.650135\n",
      "[442]\tvalid_0's rmse: 0.650126\n",
      "[443]\tvalid_0's rmse: 0.649978\n",
      "[444]\tvalid_0's rmse: 0.649959\n",
      "[445]\tvalid_0's rmse: 0.649779\n",
      "[446]\tvalid_0's rmse: 0.649881\n",
      "[447]\tvalid_0's rmse: 0.64998\n",
      "[448]\tvalid_0's rmse: 0.649852\n",
      "[449]\tvalid_0's rmse: 0.649968\n",
      "[450]\tvalid_0's rmse: 0.649818\n",
      "[451]\tvalid_0's rmse: 0.64985\n",
      "[452]\tvalid_0's rmse: 0.649801\n",
      "[453]\tvalid_0's rmse: 0.649867\n",
      "[454]\tvalid_0's rmse: 0.649877\n",
      "[455]\tvalid_0's rmse: 0.649918\n",
      "[456]\tvalid_0's rmse: 0.649906\n",
      "[457]\tvalid_0's rmse: 0.649817\n",
      "[458]\tvalid_0's rmse: 0.649905\n",
      "[459]\tvalid_0's rmse: 0.649766\n",
      "[460]\tvalid_0's rmse: 0.649757\n",
      "[461]\tvalid_0's rmse: 0.64979\n",
      "[462]\tvalid_0's rmse: 0.649771\n",
      "[463]\tvalid_0's rmse: 0.649787\n",
      "[464]\tvalid_0's rmse: 0.649672\n",
      "[465]\tvalid_0's rmse: 0.649648\n",
      "[466]\tvalid_0's rmse: 0.649643\n",
      "[467]\tvalid_0's rmse: 0.649538\n",
      "[468]\tvalid_0's rmse: 0.649355\n",
      "[469]\tvalid_0's rmse: 0.649386\n",
      "[470]\tvalid_0's rmse: 0.649296\n",
      "[471]\tvalid_0's rmse: 0.649222\n",
      "[472]\tvalid_0's rmse: 0.649214\n",
      "[473]\tvalid_0's rmse: 0.649379\n",
      "[474]\tvalid_0's rmse: 0.649378\n",
      "[475]\tvalid_0's rmse: 0.649553\n",
      "[476]\tvalid_0's rmse: 0.649513\n",
      "[477]\tvalid_0's rmse: 0.649349\n",
      "[478]\tvalid_0's rmse: 0.649432\n",
      "[479]\tvalid_0's rmse: 0.649565\n",
      "[480]\tvalid_0's rmse: 0.649573\n",
      "[481]\tvalid_0's rmse: 0.649557\n",
      "[482]\tvalid_0's rmse: 0.649532\n",
      "[483]\tvalid_0's rmse: 0.649634\n",
      "[484]\tvalid_0's rmse: 0.649681\n",
      "[485]\tvalid_0's rmse: 0.649813\n",
      "[486]\tvalid_0's rmse: 0.649795\n",
      "[487]\tvalid_0's rmse: 0.649892\n",
      "[488]\tvalid_0's rmse: 0.64981\n",
      "[489]\tvalid_0's rmse: 0.649854\n",
      "[490]\tvalid_0's rmse: 0.6499\n",
      "[491]\tvalid_0's rmse: 0.649829\n",
      "[492]\tvalid_0's rmse: 0.64999\n",
      "[493]\tvalid_0's rmse: 0.649961\n",
      "[494]\tvalid_0's rmse: 0.649982\n",
      "[495]\tvalid_0's rmse: 0.649974\n",
      "[496]\tvalid_0's rmse: 0.650033\n",
      "[497]\tvalid_0's rmse: 0.650009\n",
      "[498]\tvalid_0's rmse: 0.650138\n",
      "[499]\tvalid_0's rmse: 0.650108\n",
      "[500]\tvalid_0's rmse: 0.650089\n",
      "--------------------\n",
      "Eval RMSE: 0.6035146901629379\n"
     ]
    }
   ],
   "source": [
    "param = {'boosting_type': 'gbdt', \n",
    "            'metric': 'rmse',\n",
    "            'n_estimators': 500,\n",
    "            'reg_alpha': 0.003188447814669599, \n",
    "            'reg_lambda': 0.0010228604507564066, \n",
    "            'colsample_bytree': 0.5420247656839267,  \n",
    "            'subsample': 0.9778252382803456,   \n",
    "            'feature_fraction': 0.8,\n",
    "            'bagging_freq': 1,\n",
    "            'bagging_fraction': 0.75,\n",
    "            'learning_rate': 0.01716485155812008,   \n",
    "            'num_leaves': 19, \n",
    "            'min_child_samples': 46,\n",
    "            'force_col_wise': True,\n",
    "            'verbosity': -1,\n",
    "            'random_state': 42,\n",
    "            'early_stopping_round': 100\n",
    "          \n",
    "          \n",
    "         }\n",
    "\n",
    "\n",
    "data_x = x.copy()\n",
    "data_y = y.copy()\n",
    "model_params = param\n",
    "random_state = 42\n",
    "n_splits = 5\n",
    "nb_runs = 50\n",
    "train_feat_select = True\n",
    "\n",
    "skf    = StratifiedKFold(n_splits=n_splits, random_state=random_state, shuffle=True)\n",
    "test_y = np.zeros(len(data_x))\n",
    "\n",
    "for i, (train_index, valid_index) in enumerate(skf.split(data_x, data_y.astype(str))):\n",
    "    print(f'Fold:{i}:')\n",
    "    train_x, train_y, valid_x, valid_y = train_valid_split(data_x, data_y, train_index, valid_index)\n",
    "\n",
    "    if train_feat_select:\n",
    "        print('Feature Selection (get null_imp_df):')\n",
    "        null_imp_df = get_batch_imp_df(data_x.copy(), data_y.copy(), valid_x.copy(), valid_y.copy(), model_params, nb_runs=nb_runs, null_flag=True)\n",
    "        print('Feature Selection (actual_imp_df):')\n",
    "        actual_imp_df = get_batch_imp_df(data_x.copy(), data_y.copy(), valid_x.copy(), valid_y.copy(), model_params, nb_runs=nb_runs, null_flag=False)\n",
    "\n",
    "        actual_avg_imp_df = normalize_feat_imp(actual_imp_df)\n",
    "        null_avg_imp_df = normalize_feat_imp(null_imp_df)\n",
    "        feat_select_dfs = nul_imp_feat_select(model_params,\n",
    "                            train_x, train_y, valid_x, valid_y,\n",
    "                            actual_avg_imp_df, null_avg_imp_df,\n",
    "                            search_thres=[0.5, 0.6, 0.65, 0.7, 0.75, 0.8, 0.85, 0.9, 1],\n",
    "                            search_criterion=['gain', 'split', 'both'])\n",
    "        \n",
    "        if not os.path.exists('feature_selection/'):\n",
    "            os.mkdir('feature_selection/')\n",
    "        feat_select_dfs.to_csv(f'feature_selection/feature_selection_res_fold{i}.csv', index=False)\n",
    "        valid_min_eval_rmse = feat_select_dfs['valid_eval_rmse'].min()\n",
    "        optimal_feat_select_res = feat_select_dfs[feat_select_dfs['valid_eval_rmse'] == valid_min_eval_rmse].values[0]\n",
    "        np.save(f'feature_selection/optimal_feat_select_res_fold{i}.npy', optimal_feat_select_res)\n",
    "\n",
    "    use_feats = np.load(f'feature_selection/optimal_feat_select_res_fold{i}.npy', allow_pickle=True)\n",
    "    print(f'After feature selection: {len(list(train_x))} -> {len(use_feats[2])}.')\n",
    "    train_x = train_x[use_feats[2]]\n",
    "    valid_x = valid_x[use_feats[2]]\n",
    "\n",
    "    model = LGBMRegressor(**model_params)\n",
    "    model.fit(train_x, train_y, \n",
    "            #   eval_set=[(train_x, train_y), (valid_x, valid_y)],\n",
    "                eval_set=[(valid_x, valid_y)],\n",
    "                )\n",
    "    test_y[valid_index] = model.predict(valid_x, num_iteration=model.best_iteration_)\n",
    "\n",
    "    model.booster_.save_model(f'results/model_fold{i}.txt', num_iteration=model.best_iteration_)\n",
    "\n",
    "\n",
    "    importances = model.feature_importances_\n",
    "    feature_list = list(train_x)\n",
    "    feature_imp = pd.DataFrame({'feature':feature_list, 'importance':importances})\n",
    "    feature_imp['importance'] = (feature_imp['importance'] - feature_imp['importance'].min())  / (feature_imp['importance'].max() - feature_imp['importance'].min())\n",
    "    feature_imp = feature_imp.sort_values(by='importance', ascending=False)\n",
    "    feature_imp.to_csv(f'results/model_feat_imp_fold{i}.csv', index=False)\n",
    "    print('-'*20)\n",
    "    del model\n",
    "\n",
    "eval_rmse = mean_squared_error(data_y, test_y, squared=False)\n",
    "print('Eval RMSE:', eval_rmse)"
   ]
  },
  {
   "cell_type": "markdown",
   "id": "92d48e0e",
   "metadata": {
    "papermill": {
     "duration": 0.144268,
     "end_time": "2024-01-06T07:14:41.791143",
     "exception": false,
     "start_time": "2024-01-06T07:14:41.646875",
     "status": "completed"
    },
    "tags": []
   },
   "source": [
    "## Test Inference"
   ]
  },
  {
   "cell_type": "code",
   "execution_count": 18,
   "id": "10105f8a",
   "metadata": {
    "execution": {
     "iopub.execute_input": "2024-01-06T07:14:42.098291Z",
     "iopub.status.busy": "2024-01-06T07:14:42.097196Z",
     "iopub.status.idle": "2024-01-06T07:14:45.635830Z",
     "shell.execute_reply": "2024-01-06T07:14:45.634439Z"
    },
    "papermill": {
     "duration": 3.699701,
     "end_time": "2024-01-06T07:14:45.638614",
     "exception": false,
     "start_time": "2024-01-06T07:14:41.938913",
     "status": "completed"
    },
    "tags": []
   },
   "outputs": [
    {
     "name": "stdout",
     "output_type": "stream",
     "text": [
      "< Testing Data >\n"
     ]
    },
    {
     "name": "stderr",
     "output_type": "stream",
     "text": [
      "100%|██████████| 3/3 [00:00<00:00, 853.14it/s]\n",
      "100%|██████████| 3/3 [00:00<00:00, 439.87it/s]\n"
     ]
    },
    {
     "name": "stdout",
     "output_type": "stream",
     "text": [
      "Engineering time data\n",
      "Engineering cursor position data\n",
      "Engineering word count data\n",
      "Engineering statistical summaries for features\n"
     ]
    },
    {
     "name": "stderr",
     "output_type": "stream",
     "text": [
      "100%|██████████| 29/29 [00:02<00:00, 13.99it/s, column=word_count_change100, method=kurt]\n"
     ]
    },
    {
     "name": "stdout",
     "output_type": "stream",
     "text": [
      "Engineering activity counts data\n"
     ]
    },
    {
     "name": "stderr",
     "output_type": "stream",
     "text": [
      "100%|██████████| 3/3 [00:00<00:00, 1759.60it/s]\n"
     ]
    },
    {
     "name": "stdout",
     "output_type": "stream",
     "text": [
      "Engineering event counts data\n"
     ]
    },
    {
     "name": "stderr",
     "output_type": "stream",
     "text": [
      "100%|██████████| 3/3 [00:00<00:00, 1510.37it/s]\n",
      "100%|██████████| 3/3 [00:00<00:00, 20526.77it/s]\n"
     ]
    },
    {
     "name": "stdout",
     "output_type": "stream",
     "text": [
      "Engineering text change counts data\n"
     ]
    },
    {
     "name": "stderr",
     "output_type": "stream",
     "text": [
      "100%|██████████| 3/3 [00:00<00:00, 18104.91it/s]\n"
     ]
    },
    {
     "name": "stdout",
     "output_type": "stream",
     "text": [
      "Engineering punctuation counts data\n"
     ]
    },
    {
     "name": "stderr",
     "output_type": "stream",
     "text": [
      "100%|██████████| 3/3 [00:00<00:00, 20627.72it/s]\n"
     ]
    },
    {
     "name": "stdout",
     "output_type": "stream",
     "text": [
      "Engineering input words data\n",
      "Calculating pause features\n",
      "<merge brute force agg.>\n",
      "Engineering ratios data\n",
      "<merge duration_features.>\n",
      "<merge countvectorizer_and_tfidf_features.>\n",
      "<merge other features.>\n"
     ]
    },
    {
     "name": "stderr",
     "output_type": "stream",
     "text": [
      "100%|██████████| 5/5 [00:00<00:00,  8.56it/s]\n"
     ]
    },
    {
     "name": "stdout",
     "output_type": "stream",
     "text": [
      "<merge errors features.>\n"
     ]
    },
    {
     "name": "stderr",
     "output_type": "stream",
     "text": [
      "100%|██████████| 3/3 [00:00<00:00, 516.77it/s]\n"
     ]
    },
    {
     "name": "stdout",
     "output_type": "stream",
     "text": [
      "merge sentence and paragraph agg features\n",
      "merge R burst features\n",
      "merge difficulty agg features\n",
      "< Learning and Evaluation >\n"
     ]
    }
   ],
   "source": [
    "data_path     = '/kaggle/input/linking-writing-processes-to-writing-quality/'\n",
    "\n",
    "print('< Testing Data >')\n",
    "test_logs   = pd.read_csv(data_path + 'test_logs.csv')\n",
    "test_essays = EssayConstructor().getEssays(test_logs)\n",
    "test_essays.set_index('id',inplace=True)\n",
    "test_essays.index.name = None\n",
    "test_essays_with_upper = getEssays_with_upper(test_logs)\n",
    "preprocessor = Preprocessor_v1(42,test_essays,test_essays_with_upper,tokenizer=tokenizer,method='test',save_cols=save_cols)\n",
    "test_feats = preprocessor.make_feats(test_logs)\n",
    "test_feats.shape\n",
    "\n",
    "test_ids = test_feats['id'].values\n",
    "testin_x = test_feats.drop(['id'], axis=1)\n",
    "\n",
    "print('< Learning and Evaluation >')\n",
    "params = {'boosting_type': 'gbdt', \n",
    "            'metric': 'rmse',\n",
    "            'reg_alpha': 0.003188447814669599, \n",
    "            'reg_lambda': 0.0010228604507564066, \n",
    "            'colsample_bytree': 0.5420247656839267,  \n",
    "            'subsample': 0.9778252382803456,   \n",
    "            'feature_fraction': 0.8,\n",
    "            'bagging_freq': 1,\n",
    "            'bagging_fraction': 0.75,\n",
    "            'learning_rate': 0.01716485155812008,   \n",
    "            'num_leaves': 19, \n",
    "            'min_child_samples': 46,\n",
    "            'force_col_wise': True,\n",
    "            'verbosity': -1,\n",
    "            'random_state': 42,\n",
    "            'early_stopping_round': 100\n",
    "          \n",
    "          \n",
    "         }\n",
    "\n",
    "solution = LGBMRegressor(**param)\n",
    "test_y_pred = inference(test_x=testin_x.copy())\n",
    "sub = pd.DataFrame({'id': test_ids, 'score': test_y_pred})\n",
    "sub.to_csv('submission.csv', index=False)"
   ]
  },
  {
   "cell_type": "code",
   "execution_count": null,
   "id": "bebcbba7",
   "metadata": {
    "papermill": {
     "duration": 0.17185,
     "end_time": "2024-01-06T07:14:45.990375",
     "exception": false,
     "start_time": "2024-01-06T07:14:45.818525",
     "status": "completed"
    },
    "tags": []
   },
   "outputs": [],
   "source": []
  },
  {
   "cell_type": "code",
   "execution_count": 19,
   "id": "0396c9f1",
   "metadata": {
    "execution": {
     "iopub.execute_input": "2024-01-06T07:14:46.335764Z",
     "iopub.status.busy": "2024-01-06T07:14:46.334894Z",
     "iopub.status.idle": "2024-01-06T07:14:46.339679Z",
     "shell.execute_reply": "2024-01-06T07:14:46.338860Z"
    },
    "papermill": {
     "duration": 0.180941,
     "end_time": "2024-01-06T07:14:46.341959",
     "exception": false,
     "start_time": "2024-01-06T07:14:46.161018",
     "status": "completed"
    },
    "tags": []
   },
   "outputs": [],
   "source": [
    "#!rm -rf /kaggle/working/results\n",
    "#!rm -rf /kaggle/working/feature_selection"
   ]
  }
 ],
 "metadata": {
  "kaggle": {
   "accelerator": "none",
   "dataSources": [
    {
     "databundleVersionId": 6678907,
     "sourceId": 59291,
     "sourceType": "competition"
    },
    {
     "datasetId": 3949123,
     "sourceId": 6973319,
     "sourceType": "datasetVersion"
    },
    {
     "sourceId": 154091050,
     "sourceType": "kernelVersion"
    },
    {
     "sourceId": 156926233,
     "sourceType": "kernelVersion"
    },
    {
     "sourceId": 156992920,
     "sourceType": "kernelVersion"
    }
   ],
   "dockerImageVersionId": 30626,
   "isGpuEnabled": false,
   "isInternetEnabled": false,
   "language": "python",
   "sourceType": "notebook"
  },
  "kernelspec": {
   "display_name": "Python 3",
   "language": "python",
   "name": "python3"
  },
  "language_info": {
   "codemirror_mode": {
    "name": "ipython",
    "version": 3
   },
   "file_extension": ".py",
   "mimetype": "text/x-python",
   "name": "python",
   "nbconvert_exporter": "python",
   "pygments_lexer": "ipython3",
   "version": "3.10.12"
  },
  "papermill": {
   "default_parameters": {},
   "duration": 9004.502965,
   "end_time": "2024-01-06T07:14:48.155921",
   "environment_variables": {},
   "exception": null,
   "input_path": "__notebook__.ipynb",
   "output_path": "__notebook__.ipynb",
   "parameters": {},
   "start_time": "2024-01-06T04:44:43.652956",
   "version": "2.4.0"
  }
 },
 "nbformat": 4,
 "nbformat_minor": 5
}
